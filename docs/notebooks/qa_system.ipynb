{
 "cells": [
  {
   "cell_type": "code",
   "execution_count": 1,
   "id": "2bab33e7",
   "metadata": {},
   "outputs": [],
   "source": [
    "import sys,os\n",
    "# module_path=os.path.abspath('../')\n",
    "# if module_path not in sys.path:\n",
    "#     sys.path.append(module_path)\n",
    "# sys.path"
   ]
  },
  {
   "cell_type": "code",
   "execution_count": 3,
   "id": "c1f3689e",
   "metadata": {},
   "outputs": [],
   "source": [
    "from webservices.sts_retrieve import RetrieveModel\n",
    "from sentence_transformers import SentenceTransformer"
   ]
  },
  {
   "cell_type": "code",
   "execution_count": 3,
   "id": "23f8c091",
   "metadata": {},
   "outputs": [
    {
     "name": "stderr",
     "output_type": "stream",
     "text": [
      "2021-08-22 15:24:27 - INFO - __init__ - 41 : Load pretrained SentenceTransformer: /data/nfs14/nfs/aisearch/asr/xhsun/ssc_recall/distill-simcse/\n",
      "2021-08-22 15:24:27 - INFO - __init__ - 107 : Load SentenceTransformer from folder: /data/nfs14/nfs/aisearch/asr/xhsun/ssc_recall/distill-simcse/\n",
      "2021-08-22 15:24:29 - INFO - __init__ - 131 : Use pytorch device: cuda\n"
     ]
    }
   ],
   "source": [
    "sbert_path=\"/data/nfs14/nfs/aisearch/asr/xhsun/ssc_recall/distill-simcse/\"\n",
    "sbert_model=SentenceTransformer(sbert_path)"
   ]
  },
  {
   "cell_type": "code",
   "execution_count": 5,
   "id": "8a07e817",
   "metadata": {},
   "outputs": [
    {
     "name": "stderr",
     "output_type": "stream",
     "text": [
      "2021-08-22 15:25:12 - INFO - __init__ - 54 : Necessary model has been successfully loaded!\n",
      "2021-08-22 15:25:12 - INFO - __init__ - 68 : Index has been loaded from /data/nfs14/nfs/aisearch/asr/xhsun/tmp_model/bwbd_index.index\n",
      "2021-08-22 15:25:12 - INFO - __init__ - 74 : query2id has been loaded from /data/nfs14/nfs/aisearch/asr/xhsun/tmp_model/bwbd_query2id.json\n"
     ]
    }
   ],
   "source": [
    "model_name_or_path='/data/nfs14/nfs/aisearch/asr/xhsun/CommonModel/chinese-roberta-wwm/'\n",
    "save_index_path='/data/nfs14/nfs/aisearch/asr/xhsun/tmp_model/bwbd_index.index'\n",
    "save_query2id_path='/data/nfs14/nfs/aisearch/asr/xhsun/tmp_model/bwbd_query2id.json'\n",
    "IR_model=RetrieveModel(save_index_path=save_index_path,save_query2id_path=save_query2id_path,encode_dim=512,sentence_transformers_model=sbert_model)"
   ]
  },
  {
   "cell_type": "code",
   "execution_count": 6,
   "id": "9274e1cd",
   "metadata": {},
   "outputs": [],
   "source": [
    "all_sentences=[]\n",
    "with open('/root/NLP_warehouse/BKnlp_competition/data/classification_task/classification_task.txt') as f:\n",
    "    lines=f.readlines()\n",
    "    for line in lines:\n",
    "        all_sentences.append(line.strip().split('\\t')[1])"
   ]
  },
  {
   "cell_type": "code",
   "execution_count": 7,
   "id": "25f2a9a4",
   "metadata": {},
   "outputs": [
    {
     "data": {
      "text/plain": [
       "9100"
      ]
     },
     "execution_count": 7,
     "metadata": {},
     "output_type": "execute_result"
    }
   ],
   "source": [
    "len(all_sentences)"
   ]
  },
  {
   "cell_type": "code",
   "execution_count": 8,
   "id": "939df56d",
   "metadata": {},
   "outputs": [
    {
     "name": "stderr",
     "output_type": "stream",
     "text": [
      "2021-08-22 15:25:37 - INFO - delete_Sentences - 288 : The number of sentences in current query2id before delete sentences: 9087\n",
      "2021-08-22 15:25:37 - INFO - delete_Sentences - 295 : The number of sentences in current query2id after delete sentences: 9086\n",
      "2021-08-22 15:25:37 - INFO - update_query2id - 103 : Reset the query2id.\n",
      "2021-08-22 15:25:37 - INFO - delete_Sentences - 298 : The index ntotal is 9086 before delete vectors\n",
      "2021-08-22 15:25:37 - INFO - delete_Sentences - 301 : The index ntotal is 9086 after delete vectors\n",
      "2021-08-22 15:25:37 - INFO - delete_Sentences - 303 : updated index and query2id have been saved in /data/nfs14/nfs/aisearch/asr/xhsun/tmp_model/bwbd_index.index and /data/nfs14/nfs/aisearch/asr/xhsun/tmp_model/bwbd_query2id.json\n"
     ]
    },
    {
     "data": {
      "text/plain": [
       "'Deleted 1 sentences to the index'"
      ]
     },
     "execution_count": 8,
     "metadata": {},
     "output_type": "execute_result"
    }
   ],
   "source": [
    "IR_model.delete_Sentences('请帮我打开厨房开关吧，谢谢')"
   ]
  },
  {
   "cell_type": "code",
   "execution_count": 8,
   "id": "00aad067",
   "metadata": {},
   "outputs": [
    {
     "name": "stderr",
     "output_type": "stream",
     "text": [
      "2021-08-22 15:01:04 - INFO - createIndex - 123 : query2id has been created and saved in /data/nfs14/nfs/aisearch/asr/xhsun/tmp_model/bwbd_query2id.json, which has 9086 sentences\n",
      "2021-08-22 15:01:04 - INFO - createIndex - 128 : There are 14 repeated sentences\n",
      "2021-08-22 15:01:04 - INFO - createIndex - 136 : The total query num in base is 9086, less than use_IVF_nums 10000, using Flat index\n"
     ]
    },
    {
     "data": {
      "application/vnd.jupyter.widget-view+json": {
       "model_id": "f332ef5eff5a4e86acaa81670b3c8144",
       "version_major": 2,
       "version_minor": 0
      },
      "text/plain": [
       "Batches:   0%|          | 0/71 [00:00<?, ?it/s]"
      ]
     },
     "metadata": {},
     "output_type": "display_data"
    },
    {
     "name": "stderr",
     "output_type": "stream",
     "text": [
      "2021-08-22 15:01:33 - INFO - createFlatIndex - 170 : embeddings.shape : (9086, 512)\n",
      "2021-08-22 15:01:33 - INFO - createIndex - 156 : Index has been build and saved in /data/nfs14/nfs/aisearch/asr/xhsun/tmp_model/bwbd_index.index\n"
     ]
    }
   ],
   "source": [
    "IR_model.createIndex(all_sentences)"
   ]
  },
  {
   "cell_type": "code",
   "execution_count": 9,
   "id": "f9815444",
   "metadata": {},
   "outputs": [
    {
     "data": {
      "text/plain": [
       "[('现在帮我把厨房的灯关上吧', 0.7010765075683594),\n",
       " ('打开烤箱的开关按钮', 0.6767582893371582),\n",
       " ('帮忙帮冰箱开启节能模式', 0.6333563327789307),\n",
       " ('我把碗筷放进去了，帮我打开洗碗机开启工作模式吧', 0.6298421025276184),\n",
       " ('准备出门，帮我关掉空调吧', 0.6008793115615845),\n",
       " ('关闭厨房烟雾警报器', 0.596484899520874),\n",
       " ('帮我把电饭煲开启保温功能吧', 0.5898485779762268),\n",
       " ('30分钟后给我把电饭煲关闭。', 0.589387834072113),\n",
       " ('下午三点帮我把电饭煲开启煮饭模式吧', 0.589372456073761),\n",
       " ('这时候请帮我关闭电扇吧', 0.5863826274871826)]"
      ]
     },
     "execution_count": 9,
     "metadata": {},
     "output_type": "execute_result"
    }
   ],
   "source": [
    "IR_model.retrieval(\"请帮我打开厨房开关\",topk=10)"
   ]
  },
  {
   "cell_type": "code",
   "execution_count": 10,
   "id": "148c9623",
   "metadata": {},
   "outputs": [
    {
     "name": "stderr",
     "output_type": "stream",
     "text": [
      "2021-08-22 15:26:14 - INFO - add_Sentences - 243 : The number of sentences in current query2id before insert sentences: 9086\n",
      "2021-08-22 15:26:14 - INFO - add_Sentences - 247 : Add vectors to Flat type index\n",
      "2021-08-22 15:26:14 - INFO - update_query2id - 103 : Reset the query2id.\n",
      "2021-08-22 15:26:14 - INFO - add_Sentences - 266 : The number of sentences in current query2id after insert sentences: 9087\n",
      "2021-08-22 15:26:14 - INFO - add_Sentences - 269 : The index ntotal is 9086 before adding vectors\n"
     ]
    },
    {
     "data": {
      "application/vnd.jupyter.widget-view+json": {
       "model_id": "fccf1c424ae14b249068538ed019d6d6",
       "version_major": 2,
       "version_minor": 0
      },
      "text/plain": [
       "Batches:   0%|          | 0/1 [00:00<?, ?it/s]"
      ]
     },
     "metadata": {},
     "output_type": "display_data"
    },
    {
     "name": "stderr",
     "output_type": "stream",
     "text": [
      "2021-08-22 15:26:14 - INFO - add_Sentences - 271 : The index ntotal is 9087 after adding vectors\n",
      "2021-08-22 15:26:14 - INFO - add_Sentences - 272 : updated index and query2id have been saved in /data/nfs14/nfs/aisearch/asr/xhsun/tmp_model/bwbd_index.index and /data/nfs14/nfs/aisearch/asr/xhsun/tmp_model/bwbd_query2id.json\n"
     ]
    },
    {
     "data": {
      "text/plain": [
       "'Added 1 sentences to the index'"
      ]
     },
     "execution_count": 10,
     "metadata": {},
     "output_type": "execute_result"
    }
   ],
   "source": [
    "IR_model.add_Sentences(\"请帮我打开厨房开关吧，谢谢\")"
   ]
  },
  {
   "cell_type": "code",
   "execution_count": 11,
   "id": "2f308b5a",
   "metadata": {},
   "outputs": [
    {
     "data": {
      "text/plain": [
       "[('请帮我打开厨房开关吧，谢谢', 0.9662243127822876),\n",
       " ('现在帮我把厨房的灯关上吧', 0.7010765075683594),\n",
       " ('打开烤箱的开关按钮', 0.6767582893371582),\n",
       " ('帮忙帮冰箱开启节能模式', 0.6333563327789307),\n",
       " ('我把碗筷放进去了，帮我打开洗碗机开启工作模式吧', 0.6298421025276184),\n",
       " ('准备出门，帮我关掉空调吧', 0.6008793115615845),\n",
       " ('关闭厨房烟雾警报器', 0.596484899520874),\n",
       " ('帮我把电饭煲开启保温功能吧', 0.5898485779762268),\n",
       " ('30分钟后给我把电饭煲关闭。', 0.589387834072113),\n",
       " ('下午三点帮我把电饭煲开启煮饭模式吧', 0.589372456073761)]"
      ]
     },
     "execution_count": 11,
     "metadata": {},
     "output_type": "execute_result"
    }
   ],
   "source": [
    "IR_model.retrieval(\"请帮我打开厨房开关\",topk=10)"
   ]
  },
  {
   "cell_type": "code",
   "execution_count": null,
   "id": "375acccf",
   "metadata": {},
   "outputs": [],
   "source": []
  }
 ],
 "metadata": {
  "kernelspec": {
   "display_name": "Python 3",
   "language": "python",
   "name": "python3"
  },
  "language_info": {
   "codemirror_mode": {
    "name": "ipython",
    "version": 3
   },
   "file_extension": ".py",
   "mimetype": "text/x-python",
   "name": "python",
   "nbconvert_exporter": "python",
   "pygments_lexer": "ipython3",
   "version": "3.6.13"
  }
 },
 "nbformat": 4,
 "nbformat_minor": 5
}
