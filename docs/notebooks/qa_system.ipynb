{
 "cells": [
  {
   "cell_type": "markdown",
   "id": "3d75276d",
   "metadata": {},
   "source": [
    "# 导入包"
   ]
  },
  {
   "cell_type": "code",
   "execution_count": 1,
   "id": "516824fa",
   "metadata": {},
   "outputs": [
    {
     "name": "stdout",
     "output_type": "stream",
     "text": [
      "0.1.4\n"
     ]
    }
   ],
   "source": [
    "import sys,os\n",
    "from nlp_basictasks.webservices.sts_retrieve import RetrieveModel\n",
    "import nlp_basictasks\n",
    "print(nlp_basictasks.__version__)"
   ]
  },
  {
   "cell_type": "markdown",
   "id": "a661175b",
   "metadata": {},
   "source": [
    "# 定义路径加载模型"
   ]
  },
  {
   "cell_type": "markdown",
   "id": "08994c48",
   "metadata": {},
   "source": [
    "- save_index_path代表索引的保存路径，索引用来查询向量，返回最近的topk个向量的id\n",
    "- save_query2id_path代表保存query2id的路径，query2id定义了每一个query与其id之间的关系"
   ]
  },
  {
   "cell_type": "code",
   "execution_count": 2,
   "id": "8a07e817",
   "metadata": {},
   "outputs": [
    {
     "name": "stderr",
     "output_type": "stream",
     "text": [
      "2021-08-24 18:14:53 - INFO - __init__ - 46 : Loading BERT model from /data/nfs14/nfs/aisearch/asr/xhsun/CommonModel/chinese-roberta-wwm/\n",
      "2021-08-24 18:14:53 - INFO - __init__ - 47 : In this case, no Pooling and MLP model will be used!\n",
      "2021-08-24 18:14:53 - INFO - from_pretrained - 404 : loading bert model file /data/nfs14/nfs/aisearch/asr/xhsun/CommonModel/chinese-roberta-wwm/\n",
      "2021-08-24 18:14:53 - INFO - from_pretrained - 423 : BertConfig has been loaded from /data/nfs14/nfs/aisearch/asr/xhsun/CommonModel/chinese-roberta-wwm/config.json\n"
     ]
    },
    {
     "name": "stdout",
     "output_type": "stream",
     "text": [
      "Better speed can be achieved with apex installed from https://www.github.com/nvidia/apex.\n",
      "Better speed can be achieved with apex installed from https://www.github.com/nvidia/apex.\n"
     ]
    },
    {
     "name": "stderr",
     "output_type": "stream",
     "text": [
      "2021-08-24 18:14:54 - INFO - from_pretrained - 125 : loading vocabulary file /data/nfs14/nfs/aisearch/asr/xhsun/CommonModel/chinese-roberta-wwm/vocab.txt\n",
      "2021-08-24 18:14:54 - INFO - __init__ - 51 : Pooling config : {'word_embedding_dimension': 768, 'pooling_mode_cls_token': False, 'pooling_mode_mean_tokens': True, 'pooling_mode_max_tokens': False, 'pooling_mode_mean_sqrt_len_tokens': False, 'pooling_mode_mean_last_2_tokens': False, 'pooling_mode_mean_first_last_tokens': False}\n",
      "2021-08-24 18:14:54 - INFO - __init__ - 52 : Pooling output dimension is 768\n",
      "2021-08-24 18:14:54 - INFO - __init__ - 54 : Necessary model has been successfully loaded!\n",
      "2021-08-24 18:14:54 - INFO - __init__ - 81 : Index is none, you need call createIndex method to build the index\n"
     ]
    }
   ],
   "source": [
    "model_name_or_path='/data/nfs14/nfs/aisearch/asr/xhsun/CommonModel/chinese-roberta-wwm/'\n",
    "save_index_path='/data/nfs14/nfs/aisearch/asr/xhsun/tmp_model/tmp_index.index'\n",
    "save_query2id_path='/data/nfs14/nfs/aisearch/asr/xhsun/tmp_model/tmp_query2id.json'\n",
    "IR_model=RetrieveModel(save_index_path=save_index_path,\n",
    "                       save_query2id_path=save_query2id_path,\n",
    "                       encode_dim=768,\n",
    "                      model_name_or_path=model_name_or_path)"
   ]
  },
  {
   "cell_type": "markdown",
   "id": "f81f4467",
   "metadata": {},
   "source": [
    "# 获取数据"
   ]
  },
  {
   "cell_type": "markdown",
   "id": "ee25f477",
   "metadata": {},
   "source": [
    "实验所用数据集是常用的中文自然语言推理数据集lcqmc，来源http://icrc.hitsz.edu.cn/Article/show/171.html\n",
    "我们将所有句子都编码成一个vector然后建立索引"
   ]
  },
  {
   "cell_type": "code",
   "execution_count": 4,
   "id": "9274e1cd",
   "metadata": {},
   "outputs": [],
   "source": [
    "all_sentences=[]\n",
    "data_folder='/data/nfs14/nfs/aisearch/asr/xhsun/datasets/lcqmc/lcqmc_test.tsv'#我们只取少量的test.tsv实验\n",
    "with open(data_folder) as f:\n",
    "    lines=f.readlines()\n",
    "    for line in lines[1:]:\n",
    "        line_split=line.strip().split('\\t')\n",
    "        all_sentences.append(line_split[0])\n",
    "        all_sentences.append(line_split[1])"
   ]
  },
  {
   "cell_type": "code",
   "execution_count": 5,
   "id": "98bfc3c3",
   "metadata": {},
   "outputs": [
    {
     "name": "stdout",
     "output_type": "stream",
     "text": [
      "['谁有狂三这张高清的', '这张高清图，谁有', '英雄联盟什么英雄最好', '英雄联盟最好英雄是什么', '这是什么意思，被蹭网吗']\n"
     ]
    }
   ],
   "source": [
    "print(all_sentences[:5])"
   ]
  },
  {
   "cell_type": "code",
   "execution_count": 6,
   "id": "25f2a9a4",
   "metadata": {},
   "outputs": [
    {
     "data": {
      "text/plain": [
       "25000"
      ]
     },
     "execution_count": 6,
     "metadata": {},
     "output_type": "execute_result"
    }
   ],
   "source": [
    "len(all_sentences)"
   ]
  },
  {
   "cell_type": "markdown",
   "id": "fdb831ae",
   "metadata": {},
   "source": [
    "# 构造索引"
   ]
  },
  {
   "cell_type": "code",
   "execution_count": 7,
   "id": "00aad067",
   "metadata": {},
   "outputs": [
    {
     "name": "stderr",
     "output_type": "stream",
     "text": [
      "2021-08-24 18:27:55 - INFO - createIndex - 125 : query2id has been created and saved in /data/nfs14/nfs/aisearch/asr/xhsun/tmp_model/tmp_query2id.json, which has 23557 sentences\n",
      "2021-08-24 18:27:55 - INFO - createIndex - 130 : There are 1443 repeated sentences\n",
      "2021-08-24 18:27:55 - INFO - createIndex - 146 : The total query num in base is 23557, more than use_IVF_nums 10000, using IVFFlat index\n"
     ]
    },
    {
     "data": {
      "application/vnd.jupyter.widget-view+json": {
       "model_id": "20f5376cbfc94d8da5448bcf6f209ac3",
       "version_major": 2,
       "version_minor": 0
      },
      "text/plain": [
       "HBox(children=(HTML(value='Batches'), FloatProgress(value=0.0, max=185.0), HTML(value='')))"
      ]
     },
     "metadata": {},
     "output_type": "display_data"
    },
    {
     "name": "stderr",
     "output_type": "stream",
     "text": [
      "2021-08-24 18:28:47 - INFO - createFlatIndex - 172 : embeddings.shape : (23557, 768)\n",
      "2021-08-24 18:28:47 - INFO - createIVFIndex - 203 : The nlist of IVFIndex is 1227, nprobe is 10\n",
      "2021-08-24 18:28:47 - INFO - createIVFIndex - 205 : Training the index_ivf...\n"
     ]
    },
    {
     "name": "stdout",
     "output_type": "stream",
     "text": [
      "\n"
     ]
    },
    {
     "name": "stderr",
     "output_type": "stream",
     "text": [
      "2021-08-24 18:28:55 - INFO - createIndex - 158 : Index has been build and saved in /data/nfs14/nfs/aisearch/asr/xhsun/tmp_model/tmp_index.index\n"
     ]
    }
   ],
   "source": [
    "IR_model.createIndex(all_sentences)"
   ]
  },
  {
   "cell_type": "markdown",
   "id": "f947c590",
   "metadata": {},
   "source": [
    "# 测试检索"
   ]
  },
  {
   "cell_type": "code",
   "execution_count": 10,
   "id": "f9815444",
   "metadata": {},
   "outputs": [
    {
     "name": "stdout",
     "output_type": "stream",
     "text": [
      "从23557个问题中检索一个问题需要117.923975 ms\n"
     ]
    }
   ],
   "source": [
    "import time\n",
    "start_time=time.time()\n",
    "result=IR_model.retrieval(\"那个人正在玩电子游戏\",topk=10)#检索回10个最相似的问题\n",
    "end_time=time.time()\n",
    "print(\"从%d个问题中检索一个问题需要%f ms\"%(IR_model.index.ntotal,(end_time-start_time)*1000))"
   ]
  },
  {
   "cell_type": "code",
   "execution_count": 11,
   "id": "6d164a8e",
   "metadata": {},
   "outputs": [
    {
     "data": {
      "text/plain": [
       "[('时空猎人怎么在电脑上玩', 0.8371186852455139),\n",
       " ('部落冲突怎么在电脑上玩', 0.8269975185394287),\n",
       " ('手机游戏电脑能玩吗', 0.8232906460762024),\n",
       " ('手机游戏可以在电脑上玩吗', 0.8198620676994324),\n",
       " ('现在最流行什么游戏', 0.817738950252533),\n",
       " ('什么手机游戏能赚钱', 0.8177383542060852),\n",
       " ('四个人玩的游戏', 0.8176234364509583),\n",
       " ('玩什么手机游戏可赚钱的', 0.8172061443328857),\n",
       " ('手机游戏天龙八部3d好玩吗,和电脑上的有什么不同', 0.8132644295692444),\n",
       " ('怎么样才能在电脑上玩时空猎人', 0.8132301568984985)]"
      ]
     },
     "execution_count": 11,
     "metadata": {},
     "output_type": "execute_result"
    }
   ],
   "source": [
    "result"
   ]
  },
  {
   "cell_type": "markdown",
   "id": "f18f91fd",
   "metadata": {},
   "source": [
    "**返回结果包括问题和对应的余弦分数**"
   ]
  },
  {
   "cell_type": "markdown",
   "id": "9578a0ac",
   "metadata": {},
   "source": [
    "## 测试动态添加功能"
   ]
  },
  {
   "cell_type": "code",
   "execution_count": 12,
   "id": "148c9623",
   "metadata": {},
   "outputs": [
    {
     "name": "stderr",
     "output_type": "stream",
     "text": [
      "2021-08-24 18:33:14 - INFO - add_Sentences - 245 : The number of sentences in current query2id before insert sentences: 23557\n",
      "2021-08-24 18:33:14 - INFO - add_Sentences - 257 : Add vectors to IVFFlat type index, pay attention to the coverage situation, current pointer_add_pos is 23557, vectors will be inserted into the index staring from this id, similarly for query2id\n",
      "2021-08-24 18:33:14 - INFO - add_Sentences - 268 : The number of sentences in current query2id after insert sentences: 23558\n",
      "2021-08-24 18:33:14 - INFO - add_Sentences - 271 : The index ntotal is 23557 before adding vectors\n"
     ]
    },
    {
     "data": {
      "application/vnd.jupyter.widget-view+json": {
       "model_id": "1d6d2269f4b7436980fd3f7fc784be66",
       "version_major": 2,
       "version_minor": 0
      },
      "text/plain": [
       "HBox(children=(HTML(value='Batches'), FloatProgress(value=0.0, max=1.0), HTML(value='')))"
      ]
     },
     "metadata": {},
     "output_type": "display_data"
    },
    {
     "name": "stdout",
     "output_type": "stream",
     "text": [
      "\n"
     ]
    },
    {
     "name": "stderr",
     "output_type": "stream",
     "text": [
      "2021-08-24 18:33:15 - INFO - add_Sentences - 273 : The index ntotal is 23558 after adding vectors\n",
      "2021-08-24 18:33:15 - INFO - add_Sentences - 274 : updated index and query2id have been saved in /data/nfs14/nfs/aisearch/asr/xhsun/tmp_model/tmp_index.index and /data/nfs14/nfs/aisearch/asr/xhsun/tmp_model/tmp_query2id.json\n"
     ]
    },
    {
     "data": {
      "text/plain": [
       "'Added 1 sentences to the index'"
      ]
     },
     "execution_count": 12,
     "metadata": {},
     "output_type": "execute_result"
    }
   ],
   "source": [
    "IR_model.add_Sentences(\"有人正在玩电子游戏\")"
   ]
  },
  {
   "cell_type": "code",
   "execution_count": 13,
   "id": "2f308b5a",
   "metadata": {},
   "outputs": [
    {
     "name": "stdout",
     "output_type": "stream",
     "text": [
      "从23558个问题中检索一个问题需要93.823671 ms\n"
     ]
    }
   ],
   "source": [
    "start_time=time.time()\n",
    "result=IR_model.retrieval(\"那个人正在玩电子游戏\",topk=10)#检索回10个最相似的问题\n",
    "end_time=time.time()\n",
    "print(\"从%d个问题中检索一个问题需要%f ms\"%(IR_model.index.ntotal,(end_time-start_time)*1000))"
   ]
  },
  {
   "cell_type": "code",
   "execution_count": 14,
   "id": "b677370b",
   "metadata": {},
   "outputs": [
    {
     "data": {
      "text/plain": [
       "[('有人正在玩电子游戏', 0.9438184499740601),\n",
       " ('时空猎人怎么在电脑上玩', 0.8371186852455139),\n",
       " ('部落冲突怎么在电脑上玩', 0.8269975185394287),\n",
       " ('手机游戏电脑能玩吗', 0.8232906460762024),\n",
       " ('手机游戏可以在电脑上玩吗', 0.8198620676994324),\n",
       " ('现在最流行什么游戏', 0.817738950252533),\n",
       " ('什么手机游戏能赚钱', 0.8177383542060852),\n",
       " ('四个人玩的游戏', 0.8176234364509583),\n",
       " ('玩什么手机游戏可赚钱的', 0.8172061443328857),\n",
       " ('手机游戏天龙八部3d好玩吗,和电脑上的有什么不同', 0.8132644295692444)]"
      ]
     },
     "execution_count": 14,
     "metadata": {},
     "output_type": "execute_result"
    }
   ],
   "source": [
    "result"
   ]
  },
  {
   "cell_type": "markdown",
   "id": "2be2157e",
   "metadata": {},
   "source": [
    "**我们可以看到，这个句子添加到索引中后成功的被检索出来**"
   ]
  },
  {
   "cell_type": "markdown",
   "id": "2e67327c",
   "metadata": {},
   "source": [
    "## 测试动态删除功能"
   ]
  },
  {
   "cell_type": "code",
   "execution_count": 15,
   "id": "aa20d9bc",
   "metadata": {},
   "outputs": [
    {
     "name": "stderr",
     "output_type": "stream",
     "text": [
      "2021-08-24 18:34:52 - INFO - delete_Sentences - 290 : The number of sentences in current query2id before delete sentences: 23558\n",
      "2021-08-24 18:34:52 - INFO - delete_Sentences - 297 : The number of sentences in current query2id after delete sentences: 23557\n",
      "2021-08-24 18:34:52 - INFO - delete_Sentences - 300 : The index ntotal is 23558 before delete vectors\n",
      "2021-08-24 18:34:52 - INFO - delete_Sentences - 303 : The index ntotal is 23557 after delete vectors\n",
      "2021-08-24 18:34:53 - INFO - delete_Sentences - 305 : updated index and query2id have been saved in /data/nfs14/nfs/aisearch/asr/xhsun/tmp_model/tmp_index.index and /data/nfs14/nfs/aisearch/asr/xhsun/tmp_model/tmp_query2id.json\n"
     ]
    },
    {
     "data": {
      "text/plain": [
       "'Deleted 1 sentences to the index'"
      ]
     },
     "execution_count": 15,
     "metadata": {},
     "output_type": "execute_result"
    }
   ],
   "source": [
    "IR_model.delete_Sentences(\"有人正在玩电子游戏\")"
   ]
  },
  {
   "cell_type": "code",
   "execution_count": 16,
   "id": "80faeb09",
   "metadata": {},
   "outputs": [
    {
     "name": "stdout",
     "output_type": "stream",
     "text": [
      "从23557个问题中检索一个问题需要256.079674 ms\n"
     ]
    }
   ],
   "source": [
    "start_time=time.time()\n",
    "result=IR_model.retrieval(\"那个人正在玩电子游戏\",topk=10)#检索回10个最相似的问题\n",
    "end_time=time.time()\n",
    "print(\"从%d个问题中检索一个问题需要%f ms\"%(IR_model.index.ntotal,(end_time-start_time)*1000))"
   ]
  },
  {
   "cell_type": "code",
   "execution_count": 17,
   "id": "9e5550cc",
   "metadata": {},
   "outputs": [
    {
     "data": {
      "text/plain": [
       "[('时空猎人怎么在电脑上玩', 0.8371186852455139),\n",
       " ('部落冲突怎么在电脑上玩', 0.8269975185394287),\n",
       " ('手机游戏电脑能玩吗', 0.8232906460762024),\n",
       " ('手机游戏可以在电脑上玩吗', 0.8198620676994324),\n",
       " ('现在最流行什么游戏', 0.817738950252533),\n",
       " ('什么手机游戏能赚钱', 0.8177383542060852),\n",
       " ('四个人玩的游戏', 0.8176234364509583),\n",
       " ('玩什么手机游戏可赚钱的', 0.8172061443328857),\n",
       " ('手机游戏天龙八部3d好玩吗,和电脑上的有什么不同', 0.8132644295692444),\n",
       " ('怎么样才能在电脑上玩时空猎人', 0.8132301568984985)]"
      ]
     },
     "execution_count": 17,
     "metadata": {},
     "output_type": "execute_result"
    }
   ],
   "source": [
    "result"
   ]
  },
  {
   "cell_type": "markdown",
   "id": "85b13d34",
   "metadata": {},
   "source": [
    "**我们可以看到，成功的从索引中删除了那个句子**"
   ]
  },
  {
   "cell_type": "markdown",
   "id": "ac9ba218",
   "metadata": {},
   "source": [
    "**检索时间随着当时CPU空闲状态决定，因此检索时间不太稳定，需要多次检索取平均才能作为检索的时间**"
   ]
  },
  {
   "cell_type": "code",
   "execution_count": null,
   "id": "6e432ff7",
   "metadata": {},
   "outputs": [],
   "source": []
  }
 ],
 "metadata": {
  "kernelspec": {
   "display_name": "Python 3",
   "language": "python",
   "name": "python3"
  },
  "language_info": {
   "codemirror_mode": {
    "name": "ipython",
    "version": 3
   },
   "file_extension": ".py",
   "mimetype": "text/x-python",
   "name": "python",
   "nbconvert_exporter": "python",
   "pygments_lexer": "ipython3",
   "version": "3.8.5"
  }
 },
 "nbformat": 4,
 "nbformat_minor": 5
}
