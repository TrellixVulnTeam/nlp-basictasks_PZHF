{
 "cells": [
  {
   "cell_type": "code",
   "execution_count": 1,
   "id": "f992c1be",
   "metadata": {},
   "outputs": [],
   "source": [
    "import sys,os\n",
    "import pandas as pd\n",
    "import random\n",
    "import numpy as np"
   ]
  },
  {
   "cell_type": "code",
   "execution_count": 2,
   "id": "e308bab9",
   "metadata": {},
   "outputs": [
    {
     "name": "stdout",
     "output_type": "stream",
     "text": [
      "['/root/NLP_warehouse/nlp-basictasks/docs/notebooks', '/root/miniconda3/lib/python38.zip', '/root/miniconda3/lib/python3.8', '/root/miniconda3/lib/python3.8/lib-dynload', '', '/root/.local/lib/python3.8/site-packages', '/root/miniconda3/lib/python3.8/site-packages', '/root/miniconda3/lib/python3.8/site-packages/IPython/extensions', '/root/.ipython', '/root/NLP_warehouse/nlp-basictasks']\n"
     ]
    }
   ],
   "source": [
    "module_path=os.path.abspath('/root/NLP_warehouse/nlp-basictasks/')\n",
    "if module_path not in sys.path:\n",
    "    sys.path.append(module_path)\n",
    "print(sys.path)"
   ]
  },
  {
   "cell_type": "code",
   "execution_count": 3,
   "id": "070d9868",
   "metadata": {},
   "outputs": [
    {
     "name": "stdout",
     "output_type": "stream",
     "text": [
      "Better speed can be achieved with apex installed from https://www.github.com/nvidia/apex.\n",
      "Better speed can be achieved with apex installed from https://www.github.com/nvidia/apex.\n"
     ]
    }
   ],
   "source": [
    "from webservices.retrieve import RetrieveModel"
   ]
  },
  {
   "cell_type": "code",
   "execution_count": 4,
   "id": "b34f0680",
   "metadata": {},
   "outputs": [
    {
     "name": "stderr",
     "output_type": "stream",
     "text": [
      "2021-08-21 13:47:00 - INFO - __init__ - 35 : Loading BERT model from /data/nfs14/nfs/aisearch/asr/xhsun/CommonModel/chinese-roberta-wwm/\n",
      "2021-08-21 13:47:00 - INFO - __init__ - 36 : In this case, no Pooling and MLP model will be used!\n",
      "2021-08-21 13:47:00 - INFO - from_pretrained - 404 : loading bert model file /data/nfs14/nfs/aisearch/asr/xhsun/CommonModel/chinese-roberta-wwm/\n",
      "2021-08-21 13:47:00 - INFO - from_pretrained - 423 : BertConfig has been loaded from /data/nfs14/nfs/aisearch/asr/xhsun/CommonModel/chinese-roberta-wwm/config.json\n",
      "2021-08-21 13:47:02 - INFO - from_pretrained - 124 : loading vocabulary file /data/nfs14/nfs/aisearch/asr/xhsun/CommonModel/chinese-roberta-wwm/vocab.txt\n"
     ]
    }
   ],
   "source": [
    "retrieve_model=RetrieveModel(\"/data/nfs14/nfs/aisearch/asr/xhsun/CommonModel/chinese-roberta-wwm/\",encode_dim=768)"
   ]
  },
  {
   "cell_type": "code",
   "execution_count": 5,
   "id": "5a35e1f3",
   "metadata": {},
   "outputs": [
    {
     "data": {
      "text/plain": [
       "'0.9536087512969971'"
      ]
     },
     "execution_count": 5,
     "metadata": {},
     "output_type": "execute_result"
    }
   ],
   "source": [
    "retrieve_model.get_cos_score(sentences1='识别意图的模型',sentences2='识别分类的模型')"
   ]
  },
  {
   "cell_type": "code",
   "execution_count": null,
   "id": "74bc15a3",
   "metadata": {},
   "outputs": [],
   "source": []
  },
  {
   "cell_type": "code",
   "execution_count": null,
   "id": "ad47b0e0",
   "metadata": {},
   "outputs": [],
   "source": []
  },
  {
   "cell_type": "code",
   "execution_count": null,
   "id": "491dd653",
   "metadata": {},
   "outputs": [],
   "source": []
  },
  {
   "cell_type": "code",
   "execution_count": null,
   "id": "7c4dc678",
   "metadata": {},
   "outputs": [],
   "source": []
  },
  {
   "cell_type": "code",
   "execution_count": null,
   "id": "4b51cb34",
   "metadata": {},
   "outputs": [],
   "source": []
  },
  {
   "cell_type": "code",
   "execution_count": null,
   "id": "edf5c276",
   "metadata": {},
   "outputs": [],
   "source": []
  }
 ],
 "metadata": {
  "kernelspec": {
   "display_name": "Python 3",
   "language": "python",
   "name": "python3"
  },
  "language_info": {
   "codemirror_mode": {
    "name": "ipython",
    "version": 3
   },
   "file_extension": ".py",
   "mimetype": "text/x-python",
   "name": "python",
   "nbconvert_exporter": "python",
   "pygments_lexer": "ipython3",
   "version": "3.8.5"
  }
 },
 "nbformat": 4,
 "nbformat_minor": 5
}
