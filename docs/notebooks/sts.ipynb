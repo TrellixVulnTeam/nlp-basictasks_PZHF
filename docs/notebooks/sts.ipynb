{
 "cells": [
  {
   "cell_type": "markdown",
   "id": "21acd230",
   "metadata": {},
   "source": [
    "# 导入包"
   ]
  },
  {
   "cell_type": "code",
   "execution_count": 1,
   "id": "0f0399ef",
   "metadata": {},
   "outputs": [
    {
     "name": "stdout",
     "output_type": "stream",
     "text": [
      "0.1.4\n"
     ]
    }
   ],
   "source": [
    "import sys,os\n",
    "from nlp_basictasks.webservices.sts_retrieve import RetrieveModel\n",
    "import nlp_basictasks\n",
    "print(nlp_basictasks.__version__)"
   ]
  },
  {
   "cell_type": "code",
   "execution_count": 3,
   "id": "35183ba0",
   "metadata": {},
   "outputs": [
    {
     "name": "stdout",
     "output_type": "stream",
     "text": [
      "Better speed can be achieved with apex installed from https://www.github.com/nvidia/apex.\n",
      "Better speed can be achieved with apex installed from https://www.github.com/nvidia/apex.\n"
     ]
    }
   ],
   "source": [
    "from nlp_basictasks.tasks import sts\n",
    "from nlp_basictasks.evaluation import stsEvaluator\n",
    "from nlp_basictasks.readers.sts import getExamples,convert_sentences_to_features,convert_examples_to_features"
   ]
  },
  {
   "cell_type": "markdown",
   "id": "8a8fc176",
   "metadata": {},
   "source": [
    "# 获取数据"
   ]
  },
  {
   "cell_type": "markdown",
   "id": "225527cb",
   "metadata": {},
   "source": [
    "实验所用数据集是常用的中文自然语言推理数据集lcqmc，来源http://icrc.hitsz.edu.cn/Article/show/171.html\n",
    "我们将所有句子都编码成一个vector然后建立索引"
   ]
  },
  {
   "cell_type": "code",
   "execution_count": 5,
   "id": "ecdd6f05",
   "metadata": {},
   "outputs": [
    {
     "name": "stderr",
     "output_type": "stream",
     "text": [
      "2021-08-24 19:33:54 - INFO - getExamples - 44 : Heads like : text_a\ttext_b\tlabel\n",
      "\n",
      "2021-08-24 19:33:54 - INFO - getExamples - 57 : *****************************Logging some train examples*****************************\n",
      "2021-08-24 19:33:54 - INFO - getExamples - 58 : Total train nums is : 12500\n",
      "2021-08-24 19:33:54 - INFO - getExamples - 61 : 苹果怎么下载爱思助手\t苹果手机怎么安装爱思助手\t1\n",
      "2021-08-24 19:33:54 - INFO - getExamples - 61 : 怎么网上发东西\t在网上怎么买东西呢？\t0\n",
      "2021-08-24 19:33:54 - INFO - getExamples - 61 : 孕妇可以吃菠菜吗？\t孕妇多吃菠菜好吗\t0\n",
      "2021-08-24 19:33:54 - INFO - getExamples - 61 : 我的世界石头在哪挖\t我的世界里这是什么石头\t0\n",
      "2021-08-24 19:33:54 - INFO - getExamples - 61 : 怎么可以瘦大腿？\t深蹲可以瘦大腿么？\t0\n"
     ]
    }
   ],
   "source": [
    "data_folder=data_folder='/data/nfs14/nfs/aisearch/asr/xhsun/datasets/lcqmc'\n",
    "label2id={\"0\":0,\"1\":1}\n",
    "train_examples=getExamples(os.path.join(data_folder,'lcqmc_test.tsv'),label2id=label2id,isCL=False,filter_heads=True)##我们只取少量的test.tsv作为训练"
   ]
  },
  {
   "cell_type": "markdown",
   "id": "00bb65e1",
   "metadata": {},
   "source": [
    "**时间关系仅取少量的test.tsv作为训练集，验证集不变**"
   ]
  },
  {
   "cell_type": "code",
   "execution_count": 6,
   "id": "2cf82a43",
   "metadata": {},
   "outputs": [
    {
     "name": "stderr",
     "output_type": "stream",
     "text": [
      "2021-08-24 19:35:12 - INFO - getExamples - 44 : Heads like : text_a\ttext_b\tlabel\n",
      "\n",
      "2021-08-24 19:35:12 - INFO - getExamples - 57 : *****************************Logging some dev examples*****************************\n",
      "2021-08-24 19:35:12 - INFO - getExamples - 58 : Total dev nums is : 8802\n",
      "2021-08-24 19:35:12 - INFO - getExamples - 61 : 怎么复制别人的手机卡\t请问怎么复制别人手机卡？\t1\n",
      "2021-08-24 19:35:12 - INFO - getExamples - 61 : 有女人不穿内裤的吗\t这个女人穿内裤了吗\t0\n",
      "2021-08-24 19:35:12 - INFO - getExamples - 61 : 为什么社会主义道德建设要以诚实守信为重点\t简述社会主义道德建设为什么要以诚实守信为重点？\t1\n",
      "2021-08-24 19:35:12 - INFO - getExamples - 61 : 请问大家这条裤子是什么牌子的？\t有谁知道这条裤子是什么牌子的？\t1\n",
      "2021-08-24 19:35:12 - INFO - getExamples - 61 : 百世汇通和汇通是一家吗\t汇通和百世汇通是一家吗\t1\n",
      "2021-08-24 19:35:12 - INFO - getExamples - 44 : Heads like : text_a\ttext_b\tlabel\n",
      "\n",
      "2021-08-24 19:35:12 - INFO - getExamples - 57 : *****************************Logging some test examples*****************************\n",
      "2021-08-24 19:35:12 - INFO - getExamples - 58 : Total test nums is : 12500\n",
      "2021-08-24 19:35:12 - INFO - getExamples - 61 : 常州市哪个省的\t常州市有哪些县\t0\n",
      "2021-08-24 19:35:12 - INFO - getExamples - 61 : 清华同方的平板电脑怎么样？\t清华同方的平板电脑怎么样\t1\n",
      "2021-08-24 19:35:12 - INFO - getExamples - 61 : 中国最穷的省\t中国那个县最穷\t0\n",
      "2021-08-24 19:35:12 - INFO - getExamples - 61 : 怎样过情人节最浪漫\t怎么过浪漫情人节\t1\n",
      "2021-08-24 19:35:12 - INFO - getExamples - 61 : 哥哥结婚穿什么好\t哥哥结婚送什么？\t0\n"
     ]
    }
   ],
   "source": [
    "dev_examples=getExamples(os.path.join(data_folder,'lcqmc_dev.tsv'),label2id=label2id,filter_heads=True,mode='dev',isCL=False)\n",
    "test_examples=getExamples(os.path.join(data_folder,'lcqmc_test.tsv'),label2id=label2id,filter_heads=True,mode='test',isCL=False)"
   ]
  },
  {
   "cell_type": "markdown",
   "id": "103d61e4",
   "metadata": {},
   "source": [
    "# 定义路径加载模型"
   ]
  },
  {
   "cell_type": "code",
   "execution_count": 7,
   "id": "42d80608",
   "metadata": {},
   "outputs": [
    {
     "name": "stderr",
     "output_type": "stream",
     "text": [
      "2021-08-24 19:35:54 - INFO - __init__ - 77 : Loading model from /data/nfs14/nfs/aisearch/asr/xhsun/CommonModel/chinese-roberta-wwm/, which is from huggingface model\n",
      "2021-08-24 19:35:54 - INFO - get_config_dict - 177 : loading configuration file /data/nfs14/nfs/aisearch/asr/xhsun/CommonModel/chinese-roberta-wwm/config.json\n",
      "2021-08-24 19:35:54 - INFO - from_pretrained - 404 : loading bert model file /data/nfs14/nfs/aisearch/asr/xhsun/CommonModel/chinese-roberta-wwm/\n",
      "2021-08-24 19:35:54 - INFO - from_pretrained - 423 : BertConfig has been loaded from /data/nfs14/nfs/aisearch/asr/xhsun/CommonModel/chinese-roberta-wwm/config.json\n",
      "2021-08-24 19:35:57 - INFO - from_pretrained - 125 : loading vocabulary file /data/nfs14/nfs/aisearch/asr/xhsun/CommonModel/chinese-roberta-wwm/vocab.txt\n",
      "2021-08-24 19:35:57 - INFO - __init__ - 51 : Pooling config : {'word_embedding_dimension': 768, 'pooling_mode_cls_token': False, 'pooling_mode_mean_tokens': True, 'pooling_mode_max_tokens': False, 'pooling_mode_mean_sqrt_len_tokens': False, 'pooling_mode_mean_last_2_tokens': False, 'pooling_mode_mean_first_last_tokens': False}\n",
      "2021-08-24 19:35:57 - INFO - __init__ - 52 : Pooling output dimension is 768\n",
      "2021-08-24 19:35:57 - INFO - __init__ - 84 : Softmax loss: #Vectors concatenated: 3\n",
      "2021-08-24 19:35:57 - INFO - __init__ - 85 : Pooling policy is \n",
      "2021-08-24 19:35:57 - INFO - __init__ - 86 : After pooling, each sentence embedding has dim: 768\n"
     ]
    }
   ],
   "source": [
    "model_path='/data/nfs14/nfs/aisearch/asr/xhsun/CommonModel/chinese-roberta-wwm/'\n",
    "sts_model=sts(model_path=model_path,device='cpu',max_seq_length=32)"
   ]
  },
  {
   "cell_type": "code",
   "execution_count": 8,
   "id": "f43b968e",
   "metadata": {},
   "outputs": [
    {
     "data": {
      "text/plain": [
       "(1, 768)"
      ]
     },
     "execution_count": 8,
     "metadata": {},
     "output_type": "execute_result"
    }
   ],
   "source": [
    "sts_model.encode([\"这是什么植物？谢谢\"]).shape"
   ]
  },
  {
   "cell_type": "code",
   "execution_count": 9,
   "id": "9a8d417a",
   "metadata": {},
   "outputs": [],
   "source": [
    "from torch.utils.data import DataLoader\n",
    "batch_size=32\n",
    "train_dataloader = DataLoader(train_examples, shuffle=True, batch_size=batch_size)"
   ]
  },
  {
   "cell_type": "markdown",
   "id": "53ea26f4",
   "metadata": {},
   "source": [
    "# 构造evaluator"
   ]
  },
  {
   "cell_type": "code",
   "execution_count": 10,
   "id": "714575dc",
   "metadata": {},
   "outputs": [],
   "source": [
    "dev_sentences=[example.text_list for example in dev_examples]\n",
    "dev_labels=[example.label for example in dev_examples]"
   ]
  },
  {
   "cell_type": "code",
   "execution_count": 11,
   "id": "f0f85cf2",
   "metadata": {},
   "outputs": [
    {
     "name": "stdout",
     "output_type": "stream",
     "text": [
      "['开初婚未育证明怎么弄？', '初婚未育情况证明怎么开？'] 1\n"
     ]
    }
   ],
   "source": [
    "print(dev_sentences[0],dev_labels[0])"
   ]
  },
  {
   "cell_type": "code",
   "execution_count": 12,
   "id": "b7dbb6f3",
   "metadata": {},
   "outputs": [],
   "source": [
    "sentences1_list=[sen[0] for sen in dev_sentences]\n",
    "sentences2_list=[sen[1] for sen in dev_sentences]\n",
    "evaluator=stsEvaluator(sentences1=sentences1_list,sentences2=sentences2_list,batch_size=64,write_csv=False,scores=dev_labels)"
   ]
  },
  {
   "cell_type": "markdown",
   "id": "471a53fd",
   "metadata": {},
   "source": [
    "# 训练模型"
   ]
  },
  {
   "cell_type": "code",
   "execution_count": 13,
   "id": "23c82166",
   "metadata": {},
   "outputs": [
    {
     "name": "stderr",
     "output_type": "stream",
     "text": [
      "2021-08-24 19:39:14 - INFO - fit - 149 : 一个epoch 下，每隔78个step会输出一次loss，每隔195个step会评估一次模型\n"
     ]
    },
    {
     "data": {
      "application/vnd.jupyter.widget-view+json": {
       "model_id": "df812c8eacf34f7a869054eb71b99b97",
       "version_major": 2,
       "version_minor": 0
      },
      "text/plain": [
       "HBox(children=(HTML(value='Epoch'), FloatProgress(value=0.0, max=2.0), HTML(value='')))"
      ]
     },
     "metadata": {},
     "output_type": "display_data"
    },
    {
     "data": {
      "application/vnd.jupyter.widget-view+json": {
       "model_id": "33940133ec884964b8ccfeac105d70ec",
       "version_major": 2,
       "version_minor": 0
      },
      "text/plain": [
       "HBox(children=(HTML(value=''), FloatProgress(value=1.0, bar_style='info', layout=Layout(width='20px'), max=1.0…"
      ]
     },
     "metadata": {},
     "output_type": "display_data"
    },
    {
     "name": "stderr",
     "output_type": "stream",
     "text": [
      "2021-08-24 19:39:18 - INFO - __call__ - 72 : EmbeddingSimilarityEvaluator: Evaluating the model on  dataset in epoch 0 after 1 steps:\n"
     ]
    },
    {
     "data": {
      "application/vnd.jupyter.widget-view+json": {
       "model_id": "ddd6b72047314c02942f6d8c3ae938b0",
       "version_major": 2,
       "version_minor": 0
      },
      "text/plain": [
       "HBox(children=(HTML(value='Batches'), FloatProgress(value=0.0, max=138.0), HTML(value='')))"
      ]
     },
     "metadata": {},
     "output_type": "display_data"
    },
    {
     "name": "stdout",
     "output_type": "stream",
     "text": [
      "\n"
     ]
    },
    {
     "data": {
      "application/vnd.jupyter.widget-view+json": {
       "model_id": "04e7e6f0f5494e2ba533827c603e1aa0",
       "version_major": 2,
       "version_minor": 0
      },
      "text/plain": [
       "HBox(children=(HTML(value='Batches'), FloatProgress(value=0.0, max=138.0), HTML(value='')))"
      ]
     },
     "metadata": {},
     "output_type": "display_data"
    },
    {
     "name": "stderr",
     "output_type": "stream",
     "text": [
      "2021-08-24 19:40:09 - INFO - __call__ - 103 : Cosine-Similarity :\tPearson: 0.5057\tSpearman: 0.5758\n",
      "2021-08-24 19:40:09 - INFO - __call__ - 105 : Manhattan-Distance:\tPearson: 0.5592\tSpearman: 0.5813\n",
      "2021-08-24 19:40:09 - INFO - __call__ - 107 : Euclidean-Distance:\tPearson: 0.5622\tSpearman: 0.5854\n",
      "2021-08-24 19:40:09 - INFO - __call__ - 109 : Dot-Product-Similarity:\tPearson: 0.2944\tSpearman: 0.2848\n"
     ]
    },
    {
     "name": "stdout",
     "output_type": "stream",
     "text": [
      "\n"
     ]
    },
    {
     "name": "stderr",
     "output_type": "stream",
     "text": [
      "2021-08-24 19:40:11 - INFO - save_pretrained - 509 : Model weights saved in /data/nfs14/nfs/aisearch/asr/xhsun/tmp_model/BERT/pytorch_model.bin\n",
      "2021-08-24 19:40:11 - INFO - save_pretrained - 150 : Configuration saved in /data/nfs14/nfs/aisearch/asr/xhsun/tmp_model/BERT/config.json\n",
      "2021-08-24 19:40:11 - INFO - save_vocab - 51 : Vocab saved in /data/nfs14/nfs/aisearch/asr/xhsun/tmp_model/BERT/vocab.txt\n",
      "2021-08-24 19:40:11 - INFO - fit - 225 : In epoch 0, training_step 0, the eval score is 0.5758478620489886, previous eval score is -9999999, model has been saved in /data/nfs14/nfs/aisearch/asr/xhsun/tmp_model/\n",
      "2021-08-24 19:41:37 - INFO - fit - 203 : Epoch : 0, train_step : 78/782, loss_value : 0.6831277685287671 \n",
      "2021-08-24 19:43:02 - INFO - fit - 203 : Epoch : 0, train_step : 156/782, loss_value : 0.6037542915497071 \n",
      "2021-08-24 19:43:47 - INFO - __call__ - 72 : EmbeddingSimilarityEvaluator: Evaluating the model on  dataset in epoch 0 after 196 steps:\n"
     ]
    },
    {
     "data": {
      "application/vnd.jupyter.widget-view+json": {
       "model_id": "e085f6a89a12470d83b0c763b3cb47f6",
       "version_major": 2,
       "version_minor": 0
      },
      "text/plain": [
       "HBox(children=(HTML(value='Batches'), FloatProgress(value=0.0, max=138.0), HTML(value='')))"
      ]
     },
     "metadata": {},
     "output_type": "display_data"
    },
    {
     "name": "stdout",
     "output_type": "stream",
     "text": [
      "\n"
     ]
    },
    {
     "data": {
      "application/vnd.jupyter.widget-view+json": {
       "model_id": "9f17f3e7c8584864ae06825b655987e9",
       "version_major": 2,
       "version_minor": 0
      },
      "text/plain": [
       "HBox(children=(HTML(value='Batches'), FloatProgress(value=0.0, max=138.0), HTML(value='')))"
      ]
     },
     "metadata": {},
     "output_type": "display_data"
    },
    {
     "name": "stdout",
     "output_type": "stream",
     "text": [
      "\n"
     ]
    },
    {
     "name": "stderr",
     "output_type": "stream",
     "text": [
      "2021-08-24 19:44:39 - INFO - __call__ - 103 : Cosine-Similarity :\tPearson: 0.6387\tSpearman: 0.7078\n",
      "2021-08-24 19:44:39 - INFO - __call__ - 105 : Manhattan-Distance:\tPearson: 0.6960\tSpearman: 0.7193\n",
      "2021-08-24 19:44:39 - INFO - __call__ - 107 : Euclidean-Distance:\tPearson: 0.6941\tSpearman: 0.7181\n",
      "2021-08-24 19:44:39 - INFO - __call__ - 109 : Dot-Product-Similarity:\tPearson: 0.4308\tSpearman: 0.4272\n",
      "2021-08-24 19:44:40 - INFO - save_pretrained - 509 : Model weights saved in /data/nfs14/nfs/aisearch/asr/xhsun/tmp_model/BERT/pytorch_model.bin\n",
      "2021-08-24 19:44:40 - INFO - save_pretrained - 150 : Configuration saved in /data/nfs14/nfs/aisearch/asr/xhsun/tmp_model/BERT/config.json\n",
      "2021-08-24 19:44:40 - INFO - save_vocab - 51 : Vocab saved in /data/nfs14/nfs/aisearch/asr/xhsun/tmp_model/BERT/vocab.txt\n",
      "2021-08-24 19:44:40 - INFO - fit - 225 : In epoch 0, training_step 195, the eval score is 0.7077774097510617, previous eval score is 0.5758478620489886, model has been saved in /data/nfs14/nfs/aisearch/asr/xhsun/tmp_model/\n",
      "2021-08-24 19:45:25 - INFO - fit - 203 : Epoch : 0, train_step : 234/782, loss_value : 0.5280311772456536 \n",
      "2021-08-24 19:50:19 - INFO - fit - 203 : Epoch : 0, train_step : 312/782, loss_value : 0.5047850956519445 \n",
      "2021-08-24 19:55:10 - INFO - fit - 203 : Epoch : 0, train_step : 390/782, loss_value : 0.46849879737083727 \n",
      "2021-08-24 19:55:15 - INFO - __call__ - 72 : EmbeddingSimilarityEvaluator: Evaluating the model on  dataset in epoch 0 after 391 steps:\n"
     ]
    },
    {
     "data": {
      "application/vnd.jupyter.widget-view+json": {
       "model_id": "9fdb2c4bbeed4257b52303fc90779b87",
       "version_major": 2,
       "version_minor": 0
      },
      "text/plain": [
       "HBox(children=(HTML(value='Batches'), FloatProgress(value=0.0, max=138.0), HTML(value='')))"
      ]
     },
     "metadata": {},
     "output_type": "display_data"
    },
    {
     "name": "stdout",
     "output_type": "stream",
     "text": [
      "\n"
     ]
    },
    {
     "data": {
      "application/vnd.jupyter.widget-view+json": {
       "model_id": "30987a57c8354dd78991814cd4dbbbc7",
       "version_major": 2,
       "version_minor": 0
      },
      "text/plain": [
       "HBox(children=(HTML(value='Batches'), FloatProgress(value=0.0, max=138.0), HTML(value='')))"
      ]
     },
     "metadata": {},
     "output_type": "display_data"
    },
    {
     "name": "stdout",
     "output_type": "stream",
     "text": [
      "\n"
     ]
    },
    {
     "name": "stderr",
     "output_type": "stream",
     "text": [
      "2021-08-24 19:57:18 - INFO - __call__ - 103 : Cosine-Similarity :\tPearson: 0.6680\tSpearman: 0.7144\n",
      "2021-08-24 19:57:18 - INFO - __call__ - 105 : Manhattan-Distance:\tPearson: 0.7132\tSpearman: 0.7200\n",
      "2021-08-24 19:57:18 - INFO - __call__ - 107 : Euclidean-Distance:\tPearson: 0.7109\tSpearman: 0.7190\n",
      "2021-08-24 19:57:18 - INFO - __call__ - 109 : Dot-Product-Similarity:\tPearson: 0.6034\tSpearman: 0.6157\n",
      "2021-08-24 19:57:20 - INFO - save_pretrained - 509 : Model weights saved in /data/nfs14/nfs/aisearch/asr/xhsun/tmp_model/BERT/pytorch_model.bin\n",
      "2021-08-24 19:57:20 - INFO - save_pretrained - 150 : Configuration saved in /data/nfs14/nfs/aisearch/asr/xhsun/tmp_model/BERT/config.json\n",
      "2021-08-24 19:57:20 - INFO - save_vocab - 51 : Vocab saved in /data/nfs14/nfs/aisearch/asr/xhsun/tmp_model/BERT/vocab.txt\n",
      "2021-08-24 19:57:20 - INFO - fit - 225 : In epoch 0, training_step 390, the eval score is 0.7143882263946483, previous eval score is 0.7077774097510617, model has been saved in /data/nfs14/nfs/aisearch/asr/xhsun/tmp_model/\n"
     ]
    },
    {
     "name": "stdout",
     "output_type": "stream",
     "text": [
      "\n"
     ]
    },
    {
     "data": {
      "application/vnd.jupyter.widget-view+json": {
       "model_id": "e189ced5a8864eec85187df22fb3794f",
       "version_major": 2,
       "version_minor": 0
      },
      "text/plain": [
       "HBox(children=(HTML(value=''), FloatProgress(value=1.0, bar_style='info', layout=Layout(width='20px'), max=1.0…"
      ]
     },
     "metadata": {},
     "output_type": "display_data"
    },
    {
     "name": "stderr",
     "output_type": "stream",
     "text": [
      "2021-08-24 19:57:23 - INFO - __call__ - 72 : EmbeddingSimilarityEvaluator: Evaluating the model on  dataset in epoch 1 after 1 steps:\n"
     ]
    },
    {
     "data": {
      "application/vnd.jupyter.widget-view+json": {
       "model_id": "676f823bbd4048908b7d0a3c83a33105",
       "version_major": 2,
       "version_minor": 0
      },
      "text/plain": [
       "HBox(children=(HTML(value='Batches'), FloatProgress(value=0.0, max=138.0), HTML(value='')))"
      ]
     },
     "metadata": {},
     "output_type": "display_data"
    },
    {
     "name": "stdout",
     "output_type": "stream",
     "text": [
      "\n"
     ]
    },
    {
     "data": {
      "application/vnd.jupyter.widget-view+json": {
       "model_id": "66573901ddc6434ebcde48d9fa9a2f4e",
       "version_major": 2,
       "version_minor": 0
      },
      "text/plain": [
       "HBox(children=(HTML(value='Batches'), FloatProgress(value=0.0, max=138.0), HTML(value='')))"
      ]
     },
     "metadata": {},
     "output_type": "display_data"
    },
    {
     "name": "stdout",
     "output_type": "stream",
     "text": [
      "\n"
     ]
    },
    {
     "name": "stderr",
     "output_type": "stream",
     "text": [
      "2021-08-24 19:59:25 - INFO - __call__ - 103 : Cosine-Similarity :\tPearson: 0.6685\tSpearman: 0.7152\n",
      "2021-08-24 19:59:25 - INFO - __call__ - 105 : Manhattan-Distance:\tPearson: 0.7139\tSpearman: 0.7208\n",
      "2021-08-24 19:59:25 - INFO - __call__ - 107 : Euclidean-Distance:\tPearson: 0.7116\tSpearman: 0.7198\n",
      "2021-08-24 19:59:25 - INFO - __call__ - 109 : Dot-Product-Similarity:\tPearson: 0.6043\tSpearman: 0.6167\n",
      "2021-08-24 19:59:27 - INFO - save_pretrained - 509 : Model weights saved in /data/nfs14/nfs/aisearch/asr/xhsun/tmp_model/BERT/pytorch_model.bin\n",
      "2021-08-24 19:59:27 - INFO - save_pretrained - 150 : Configuration saved in /data/nfs14/nfs/aisearch/asr/xhsun/tmp_model/BERT/config.json\n",
      "2021-08-24 19:59:27 - INFO - save_vocab - 51 : Vocab saved in /data/nfs14/nfs/aisearch/asr/xhsun/tmp_model/BERT/vocab.txt\n",
      "2021-08-24 19:59:27 - INFO - fit - 225 : In epoch 1, training_step 0, the eval score is 0.715246301921471, previous eval score is 0.7143882263946483, model has been saved in /data/nfs14/nfs/aisearch/asr/xhsun/tmp_model/\n",
      "2021-08-24 20:04:20 - INFO - fit - 203 : Epoch : 1, train_step : 156/782, loss_value : 0.3874357818410947 \n",
      "2021-08-24 20:09:39 - INFO - fit - 203 : Epoch : 1, train_step : 312/782, loss_value : 0.389002080529164 \n",
      "2021-08-24 20:12:08 - INFO - __call__ - 72 : EmbeddingSimilarityEvaluator: Evaluating the model on  dataset in epoch 1 after 196 steps:\n"
     ]
    },
    {
     "data": {
      "application/vnd.jupyter.widget-view+json": {
       "model_id": "1c583d07eecf4406857b564c41d42610",
       "version_major": 2,
       "version_minor": 0
      },
      "text/plain": [
       "HBox(children=(HTML(value='Batches'), FloatProgress(value=0.0, max=138.0), HTML(value='')))"
      ]
     },
     "metadata": {},
     "output_type": "display_data"
    },
    {
     "name": "stdout",
     "output_type": "stream",
     "text": [
      "\n"
     ]
    },
    {
     "data": {
      "application/vnd.jupyter.widget-view+json": {
       "model_id": "ea149e5e274e4ca285055301d7f8924c",
       "version_major": 2,
       "version_minor": 0
      },
      "text/plain": [
       "HBox(children=(HTML(value='Batches'), FloatProgress(value=0.0, max=138.0), HTML(value='')))"
      ]
     },
     "metadata": {},
     "output_type": "display_data"
    },
    {
     "name": "stdout",
     "output_type": "stream",
     "text": [
      "\n"
     ]
    },
    {
     "name": "stderr",
     "output_type": "stream",
     "text": [
      "2021-08-24 20:14:06 - INFO - __call__ - 103 : Cosine-Similarity :\tPearson: 0.6674\tSpearman: 0.7125\n",
      "2021-08-24 20:14:06 - INFO - __call__ - 105 : Manhattan-Distance:\tPearson: 0.7124\tSpearman: 0.7189\n",
      "2021-08-24 20:14:06 - INFO - __call__ - 107 : Euclidean-Distance:\tPearson: 0.7094\tSpearman: 0.7180\n",
      "2021-08-24 20:14:06 - INFO - __call__ - 109 : Dot-Product-Similarity:\tPearson: 0.6158\tSpearman: 0.6306\n",
      "2021-08-24 20:14:06 - INFO - fit - 229 : No improvement over previous best eval score (0.712481 vs 0.715246), patience = 9\n",
      "2021-08-24 20:16:31 - INFO - fit - 203 : Epoch : 1, train_step : 468/782, loss_value : 0.3666591627093462 \n",
      "2021-08-24 20:21:17 - INFO - fit - 203 : Epoch : 1, train_step : 624/782, loss_value : 0.35342844422811115 \n",
      "2021-08-24 20:26:14 - INFO - fit - 203 : Epoch : 1, train_step : 780/782, loss_value : 0.37610729936605847 \n",
      "2021-08-24 20:26:17 - INFO - __call__ - 72 : EmbeddingSimilarityEvaluator: Evaluating the model on  dataset in epoch 1 after 391 steps:\n"
     ]
    },
    {
     "data": {
      "application/vnd.jupyter.widget-view+json": {
       "model_id": "f4acc5a7d2b940cd950d8beeca075bc3",
       "version_major": 2,
       "version_minor": 0
      },
      "text/plain": [
       "HBox(children=(HTML(value='Batches'), FloatProgress(value=0.0, max=138.0), HTML(value='')))"
      ]
     },
     "metadata": {},
     "output_type": "display_data"
    },
    {
     "name": "stdout",
     "output_type": "stream",
     "text": [
      "\n"
     ]
    },
    {
     "data": {
      "application/vnd.jupyter.widget-view+json": {
       "model_id": "968b894cb1d94ab582582fd833a27123",
       "version_major": 2,
       "version_minor": 0
      },
      "text/plain": [
       "HBox(children=(HTML(value='Batches'), FloatProgress(value=0.0, max=138.0), HTML(value='')))"
      ]
     },
     "metadata": {},
     "output_type": "display_data"
    },
    {
     "name": "stderr",
     "output_type": "stream",
     "text": [
      "2021-08-24 20:27:17 - INFO - __call__ - 103 : Cosine-Similarity :\tPearson: 0.6762\tSpearman: 0.7246\n",
      "2021-08-24 20:27:17 - INFO - __call__ - 105 : Manhattan-Distance:\tPearson: 0.7234\tSpearman: 0.7305\n",
      "2021-08-24 20:27:17 - INFO - __call__ - 107 : Euclidean-Distance:\tPearson: 0.7207\tSpearman: 0.7296\n",
      "2021-08-24 20:27:17 - INFO - __call__ - 109 : Dot-Product-Similarity:\tPearson: 0.6281\tSpearman: 0.6460\n"
     ]
    },
    {
     "name": "stdout",
     "output_type": "stream",
     "text": [
      "\n"
     ]
    },
    {
     "name": "stderr",
     "output_type": "stream",
     "text": [
      "2021-08-24 20:27:20 - INFO - save_pretrained - 509 : Model weights saved in /data/nfs14/nfs/aisearch/asr/xhsun/tmp_model/BERT/pytorch_model.bin\n",
      "2021-08-24 20:27:20 - INFO - save_pretrained - 150 : Configuration saved in /data/nfs14/nfs/aisearch/asr/xhsun/tmp_model/BERT/config.json\n",
      "2021-08-24 20:27:20 - INFO - save_vocab - 51 : Vocab saved in /data/nfs14/nfs/aisearch/asr/xhsun/tmp_model/BERT/vocab.txt\n",
      "2021-08-24 20:27:20 - INFO - fit - 225 : In epoch 1, training_step 780, the eval score is 0.72463165666057, previous eval score is 0.715246301921471, model has been saved in /data/nfs14/nfs/aisearch/asr/xhsun/tmp_model/\n"
     ]
    },
    {
     "name": "stdout",
     "output_type": "stream",
     "text": [
      "\n",
      "\n"
     ]
    }
   ],
   "source": [
    "sts_model.fit(train_dataloader=train_dataloader,epochs=2,evaluator=evaluator,output_path=\"/data/nfs14/nfs/aisearch/asr/xhsun/tmp_model/\")"
   ]
  },
  {
   "cell_type": "markdown",
   "id": "6c184989",
   "metadata": {},
   "source": [
    "# 测试模型"
   ]
  },
  {
   "cell_type": "code",
   "execution_count": 14,
   "id": "1c7c2567",
   "metadata": {},
   "outputs": [
    {
     "name": "stdout",
     "output_type": "stream",
     "text": [
      "余弦相似度 :  0.8315716\n"
     ]
    }
   ],
   "source": [
    "import numpy as np\n",
    "s1=sts_model.encode(\"今天天气真好，好想出去旅游\",normalize_embeddings=True)\n",
    "s2=sts_model.encode(\"今天我想出去旅游，因为天气还行\",normalize_embeddings=True)\n",
    "print(\"余弦相似度 : \",np.sum(s1*s2))"
   ]
  },
  {
   "cell_type": "code",
   "execution_count": null,
   "id": "b03e3e78",
   "metadata": {},
   "outputs": [],
   "source": []
  },
  {
   "cell_type": "code",
   "execution_count": null,
   "id": "7468a9c5",
   "metadata": {},
   "outputs": [],
   "source": []
  }
 ],
 "metadata": {
  "kernelspec": {
   "display_name": "Python 3",
   "language": "python",
   "name": "python3"
  },
  "language_info": {
   "codemirror_mode": {
    "name": "ipython",
    "version": 3
   },
   "file_extension": ".py",
   "mimetype": "text/x-python",
   "name": "python",
   "nbconvert_exporter": "python",
   "pygments_lexer": "ipython3",
   "version": "3.8.5"
  }
 },
 "nbformat": 4,
 "nbformat_minor": 5
}
