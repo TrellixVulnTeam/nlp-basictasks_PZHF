{
 "cells": [
  {
   "cell_type": "code",
   "execution_count": 1,
   "id": "6e47529d",
   "metadata": {},
   "outputs": [],
   "source": [
    "import sys,os\n",
    "import pandas as pd\n",
    "import random\n",
    "import numpy as np"
   ]
  },
  {
   "cell_type": "code",
   "execution_count": 2,
   "id": "0f0399ef",
   "metadata": {},
   "outputs": [
    {
     "name": "stdout",
     "output_type": "stream",
     "text": [
      "['', '/root/miniconda3/envs/nlp_sr/lib/python36.zip', '/root/miniconda3/envs/nlp_sr/lib/python3.6', '/root/miniconda3/envs/nlp_sr/lib/python3.6/lib-dynload', '/root/.local/lib/python3.6/site-packages', '/root/miniconda3/envs/nlp_sr/lib/python3.6/site-packages', '/root/miniconda3/envs/nlp_sr/lib/python3.6/site-packages/IPython/extensions', '/root/.ipython', '/root/NLP_warehouse/reconstruct/basictask']\n"
     ]
    }
   ],
   "source": [
    "module_path=os.path.abspath('/root/NLP_warehouse/reconstruct/basictask/')\n",
    "if module_path not in sys.path:\n",
    "    sys.path.append(module_path)\n",
    "print(sys.path)"
   ]
  },
  {
   "cell_type": "code",
   "execution_count": 3,
   "id": "35183ba0",
   "metadata": {},
   "outputs": [
    {
     "name": "stdout",
     "output_type": "stream",
     "text": [
      "Better speed can be achieved with apex installed from https://www.github.com/nvidia/apex.\n"
     ]
    }
   ],
   "source": [
    "from tasks import sts\n",
    "from evaluation import stsEvaluator\n",
    "from readers.sts import getExamples,convert_sentences_to_features,convert_examples_to_features"
   ]
  },
  {
   "cell_type": "code",
   "execution_count": 4,
   "id": "ecdd6f05",
   "metadata": {},
   "outputs": [
    {
     "name": "stderr",
     "output_type": "stream",
     "text": [
      "2021-08-20 14:10:41 - INFO - getExamples - 44 : Heads like : text_a\ttext_b\tlabel\n",
      "\n",
      "2021-08-20 14:10:41 - INFO - getExamples - 57 : *****************************Logging some train examples*****************************\n",
      "2021-08-20 14:10:41 - INFO - getExamples - 58 : Total train nums is : 238766\n",
      "2021-08-20 14:10:41 - INFO - getExamples - 61 : 奥比岛的精灵岛在哪里？\t奥比岛在哪里买精灵蛋\t0\n",
      "2021-08-20 14:10:41 - INFO - getExamples - 61 : 中国最好看的女人\t中国最好看的电视剧\t0\n",
      "2021-08-20 14:10:41 - INFO - getExamples - 61 : 车玻璃贴的纸叫什么纸\t暖贴是什么意思？贴吧上的\t0\n",
      "2021-08-20 14:10:41 - INFO - getExamples - 61 : 孕妇不能吃什么？\t孕妇不能吃什么啊\t1\n",
      "2021-08-20 14:10:41 - INFO - getExamples - 61 : 苹果7什么时候上市\t苹果5什么时候上市\t0\n"
     ]
    }
   ],
   "source": [
    "data_folder='../../datasets/lcqmc'\n",
    "label2id={\"0\":0,\"1\":1}\n",
    "train_examples=getExamples(os.path.join(data_folder,'lcqmc_train.tsv'),label2id=label2id,isCL=False,filter_heads=True)"
   ]
  },
  {
   "cell_type": "code",
   "execution_count": 5,
   "id": "42d80608",
   "metadata": {},
   "outputs": [
    {
     "name": "stderr",
     "output_type": "stream",
     "text": [
      "2021-08-20 14:10:41 - INFO - __init__ - 77 : Loading model from /data/nfs14/nfs/aisearch/asr/xhsun/CommonModel/chinese-roberta-wwm/, which is from huggingface model\n",
      "2021-08-20 14:10:41 - INFO - get_config_dict - 177 : loading configuration file /data/nfs14/nfs/aisearch/asr/xhsun/CommonModel/chinese-roberta-wwm/config.json\n",
      "2021-08-20 14:10:41 - INFO - from_pretrained - 404 : loading bert model file /data/nfs14/nfs/aisearch/asr/xhsun/CommonModel/chinese-roberta-wwm/\n",
      "2021-08-20 14:10:41 - INFO - from_pretrained - 423 : BertConfig has been loaded from /data/nfs14/nfs/aisearch/asr/xhsun/CommonModel/chinese-roberta-wwm/config.json\n",
      "2021-08-20 14:10:43 - INFO - from_pretrained - 124 : loading vocabulary file /data/nfs14/nfs/aisearch/asr/xhsun/CommonModel/chinese-roberta-wwm/vocab.txt\n",
      "2021-08-20 14:10:43 - INFO - __init__ - 84 : Softmax loss: #Vectors concatenated: 3\n",
      "2021-08-20 14:10:43 - INFO - __init__ - 85 : After pooling, each sentence embedding has dim: 768\n"
     ]
    }
   ],
   "source": [
    "model_path='/data/nfs14/nfs/aisearch/asr/xhsun/CommonModel/chinese-roberta-wwm/'\n",
    "sts_model=sts(model_path=model_path,device='cpu')"
   ]
  },
  {
   "cell_type": "code",
   "execution_count": 6,
   "id": "f43b968e",
   "metadata": {},
   "outputs": [
    {
     "data": {
      "text/plain": [
       "(1, 768)"
      ]
     },
     "execution_count": 6,
     "metadata": {},
     "output_type": "execute_result"
    }
   ],
   "source": [
    "sts_model.encode([\"这是什么植物？谢谢\"]).shape"
   ]
  },
  {
   "cell_type": "code",
   "execution_count": 7,
   "id": "9a8d417a",
   "metadata": {},
   "outputs": [
    {
     "name": "stderr",
     "output_type": "stream",
     "text": [
      "2021-08-20 14:10:43 - INFO - getExamples - 44 : Heads like : text_a\ttext_b\tlabel\n",
      "\n",
      "2021-08-20 14:10:43 - INFO - getExamples - 57 : *****************************Logging some dev examples*****************************\n",
      "2021-08-20 14:10:43 - INFO - getExamples - 58 : Total dev nums is : 8802\n",
      "2021-08-20 14:10:43 - INFO - getExamples - 61 : 为什么原子是化学变化中最小的粒子\t说原子是化学变化中的最小粒子根据\t1\n",
      "2021-08-20 14:10:43 - INFO - getExamples - 61 : 广东科学中心怎么去？交通指南\t从芳村怎么去广东科学中心？\t0\n",
      "2021-08-20 14:10:43 - INFO - getExamples - 61 : 微信朋友圈里的消息怎么看？\t微信朋友圈里别人的发表怎样复制\t0\n",
      "2021-08-20 14:10:43 - INFO - getExamples - 61 : 我的世界咋卡村庄\t我的世界怎么找村庄\t0\n",
      "2021-08-20 14:10:43 - INFO - getExamples - 61 : 地瓜怎么吃\t怎么煮地瓜\t0\n",
      "2021-08-20 14:10:43 - INFO - getExamples - 44 : Heads like : text_a\ttext_b\tlabel\n",
      "\n",
      "2021-08-20 14:10:43 - INFO - getExamples - 57 : *****************************Logging some test examples*****************************\n",
      "2021-08-20 14:10:43 - INFO - getExamples - 58 : Total test nums is : 12500\n",
      "2021-08-20 14:10:43 - INFO - getExamples - 61 : 信心指的是什么？\t什么的信心\t0\n",
      "2021-08-20 14:10:43 - INFO - getExamples - 61 : 要怎样才能瘦下来\t怎样才能把腿瘦下来\t0\n",
      "2021-08-20 14:10:43 - INFO - getExamples - 61 : 笔陡的近义词是啥？\t大的近义词是啥？\t0\n",
      "2021-08-20 14:10:43 - INFO - getExamples - 61 : 这个是名侦探柯南大结局吗？\t名侦探柯南有大结局了吗\t0\n",
      "2021-08-20 14:10:43 - INFO - getExamples - 61 : 有没有在家干的手工活\t有没有在家能做的手工活\t1\n"
     ]
    }
   ],
   "source": [
    "dev_examples=getExamples(os.path.join(data_folder,'lcqmc_dev.tsv'),label2id=label2id,filter_heads=True,mode='dev',isCL=False)\n",
    "test_examples=getExamples(os.path.join(data_folder,'lcqmc_test.tsv'),label2id=label2id,filter_heads=True,mode='test',isCL=False)\n",
    "from torch.utils.data import DataLoader\n",
    "batch_size=32\n",
    "train_dataloader = DataLoader(train_examples, shuffle=True, batch_size=batch_size)"
   ]
  },
  {
   "cell_type": "code",
   "execution_count": 8,
   "id": "714575dc",
   "metadata": {},
   "outputs": [],
   "source": [
    "dev_sentences=[example.text_list for example in dev_examples]\n",
    "dev_labels=[example.label for example in dev_examples]"
   ]
  },
  {
   "cell_type": "code",
   "execution_count": 9,
   "id": "f0f85cf2",
   "metadata": {},
   "outputs": [
    {
     "name": "stdout",
     "output_type": "stream",
     "text": [
      "['开初婚未育证明怎么弄？', '初婚未育情况证明怎么开？'] 1\n"
     ]
    }
   ],
   "source": [
    "print(dev_sentences[0],dev_labels[0])"
   ]
  },
  {
   "cell_type": "code",
   "execution_count": 10,
   "id": "b7dbb6f3",
   "metadata": {},
   "outputs": [],
   "source": [
    "sentences1_list=[sen[0] for sen in dev_sentences]\n",
    "sentences2_list=[sen[1] for sen in dev_sentences]\n",
    "evaluator=stsEvaluator(sentences1=sentences1_list,sentences2=sentences2_list,batch_size=64,write_csv=False,scores=dev_labels)"
   ]
  },
  {
   "cell_type": "code",
   "execution_count": null,
   "id": "23c82166",
   "metadata": {},
   "outputs": [
    {
     "name": "stderr",
     "output_type": "stream",
     "text": [
      "2021-08-20 14:10:43 - INFO - fit - 145 : 一个epoch 下，每隔1492个step会输出一次loss，每隔3731个step会评估一次模型\n"
     ]
    },
    {
     "data": {
      "application/vnd.jupyter.widget-view+json": {
       "model_id": "efd4282189d745739cd1b663b14daa2d",
       "version_major": 2,
       "version_minor": 0
      },
      "text/plain": [
       "Epoch:   0%|          | 0/5 [00:00<?, ?it/s]"
      ]
     },
     "metadata": {},
     "output_type": "display_data"
    },
    {
     "data": {
      "application/vnd.jupyter.widget-view+json": {
       "model_id": "80a187b6f9074e5dbb021ecd39ddb566",
       "version_major": 2,
       "version_minor": 0
      },
      "text/plain": [
       "0it [00:00, ?it/s]"
      ]
     },
     "metadata": {},
     "output_type": "display_data"
    },
    {
     "name": "stderr",
     "output_type": "stream",
     "text": [
      "2021-08-20 14:10:46 - INFO - __call__ - 72 : EmbeddingSimilarityEvaluator: Evaluating the model on  dataset in epoch 0 after 1 steps:\n"
     ]
    },
    {
     "data": {
      "application/vnd.jupyter.widget-view+json": {
       "model_id": "06f57fd6bd484a35b95e12edd1050919",
       "version_major": 2,
       "version_minor": 0
      },
      "text/plain": [
       "Batches:   0%|          | 0/138 [00:00<?, ?it/s]"
      ]
     },
     "metadata": {},
     "output_type": "display_data"
    },
    {
     "data": {
      "application/vnd.jupyter.widget-view+json": {
       "model_id": "aa1ce4da29f347aeae0c160af5de50e3",
       "version_major": 2,
       "version_minor": 0
      },
      "text/plain": [
       "Batches:   0%|          | 0/138 [00:00<?, ?it/s]"
      ]
     },
     "metadata": {},
     "output_type": "display_data"
    },
    {
     "name": "stderr",
     "output_type": "stream",
     "text": [
      "2021-08-20 14:11:39 - INFO - __call__ - 104 : Cosine-Similarity :\tPearson: 0.5057\tSpearman: 0.5758\n",
      "2021-08-20 14:11:39 - INFO - __call__ - 106 : Manhattan-Distance:\tPearson: 0.5592\tSpearman: 0.5813\n",
      "2021-08-20 14:11:39 - INFO - __call__ - 108 : Euclidean-Distance:\tPearson: 0.5622\tSpearman: 0.5854\n",
      "2021-08-20 14:11:39 - INFO - __call__ - 110 : Dot-Product-Similarity:\tPearson: 0.2944\tSpearman: 0.2848\n",
      "2021-08-20 14:11:41 - INFO - save_pretrained - 509 : Model weights saved in /data/nfs14/nfs/aisearch/asr/xhsun/tmp_model/BERT/pytorch_model.bin\n",
      "2021-08-20 14:11:42 - INFO - save_pretrained - 150 : Configuration saved in /data/nfs14/nfs/aisearch/asr/xhsun/tmp_model/BERT/config.json\n",
      "2021-08-20 14:11:42 - INFO - save_vocab - 51 : Vocab saved in /data/nfs14/nfs/aisearch/asr/xhsun/tmp_model/BERT/vocab.txt\n",
      "2021-08-20 14:11:42 - INFO - fit - 221 : In epoch 0, training_step 0, the eval score is 0.5758478173416628, previous eval score is -9999999, model has been saved in /data/nfs14/nfs/aisearch/asr/xhsun/tmp_model/\n",
      "2021-08-20 14:46:40 - INFO - fit - 199 : Epoch : 0, train_step : 1492/37310, loss_value : 0.5681494648790552 \n"
     ]
    }
   ],
   "source": [
    "sts_model.fit(train_dataloader=train_dataloader,epochs=5,evaluator=evaluator,output_path=\"/data/nfs14/nfs/aisearch/asr/xhsun/tmp_model/\")"
   ]
  },
  {
   "cell_type": "code",
   "execution_count": null,
   "id": "00d3ba5c",
   "metadata": {},
   "outputs": [],
   "source": []
  },
  {
   "cell_type": "code",
   "execution_count": null,
   "id": "1c7c2567",
   "metadata": {},
   "outputs": [],
   "source": []
  },
  {
   "cell_type": "code",
   "execution_count": null,
   "id": "65436ab4",
   "metadata": {},
   "outputs": [],
   "source": []
  },
  {
   "cell_type": "code",
   "execution_count": null,
   "id": "63e2bb75",
   "metadata": {},
   "outputs": [],
   "source": []
  }
 ],
 "metadata": {
  "kernelspec": {
   "display_name": "Python 3",
   "language": "python",
   "name": "python3"
  },
  "language_info": {
   "codemirror_mode": {
    "name": "ipython",
    "version": 3
   },
   "file_extension": ".py",
   "mimetype": "text/x-python",
   "name": "python",
   "nbconvert_exporter": "python",
   "pygments_lexer": "ipython3",
   "version": "3.6.13"
  }
 },
 "nbformat": 4,
 "nbformat_minor": 5
}
