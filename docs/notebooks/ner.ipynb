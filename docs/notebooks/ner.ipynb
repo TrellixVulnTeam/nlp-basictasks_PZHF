{
 "cells": [
  {
   "cell_type": "markdown",
   "id": "00a375d0",
   "metadata": {},
   "source": [
    "# 数据集介绍"
   ]
  },
  {
   "cell_type": "markdown",
   "id": "7a44a86f",
   "metadata": {},
   "source": [
    "来源https://storage.googleapis.com/cluebenchmark/tasks/cluener_public.zip"
   ]
  },
  {
   "cell_type": "markdown",
   "id": "04b25130",
   "metadata": {},
   "source": [
    "# 导入包"
   ]
  },
  {
   "cell_type": "code",
   "execution_count": 1,
   "id": "76361a05",
   "metadata": {},
   "outputs": [
    {
     "name": "stdout",
     "output_type": "stream",
     "text": [
      "Better speed can be achieved with apex installed from https://www.github.com/nvidia/apex.\n",
      "Better speed can be achieved with apex installed from https://www.github.com/nvidia/apex.\n"
     ]
    }
   ],
   "source": [
    "import torch,json\n",
    "import sys,os\n",
    "import pandas as pd\n",
    "import random\n",
    "import numpy as np\n",
    "from nlp_basictasks.tasks import Ner\n",
    "from nlp_basictasks.evaluation import nerEvaluator\n",
    "from nlp_basictasks.readers.ner import InputExample"
   ]
  },
  {
   "cell_type": "markdown",
   "id": "44eb7061",
   "metadata": {},
   "source": [
    "# 获取数据"
   ]
  },
  {
   "cell_type": "code",
   "execution_count": 2,
   "id": "065c1022",
   "metadata": {},
   "outputs": [],
   "source": [
    "def _create_examples(input_path,mode):\n",
    "    examples = []\n",
    "    with open(input_path, 'r') as f:\n",
    "        idx = 0\n",
    "        for line in f:\n",
    "            json_d = {}\n",
    "            line = json.loads(line.strip())\n",
    "            text = line['text']\n",
    "            label_entities = line.get('label', None)\n",
    "            words = list(text)\n",
    "            labels = ['O'] * len(words)\n",
    "            if label_entities is not None:\n",
    "                for key, value in label_entities.items():\n",
    "                    for sub_name, sub_index in value.items():\n",
    "                        for start_index, end_index in sub_index:\n",
    "                            assert ''.join(words[start_index:end_index + 1]) == sub_name\n",
    "                            if start_index == end_index:\n",
    "                                labels[start_index] = 'S-' + key\n",
    "                            else:\n",
    "                                labels[start_index] = 'B-' + key\n",
    "                                labels[start_index + 1:end_index + 1] = ['I-' + key] * (len(sub_name) - 1)\n",
    "            json_d['id'] = f\"{mode}_{idx}\"\n",
    "            json_d['context'] = \" \".join(words)\n",
    "            json_d['tag'] = \" \".join(labels)\n",
    "            json_d['raw_context'] = \"\".join(words)\n",
    "            idx += 1\n",
    "            examples.append(json_d)\n",
    "    return examples"
   ]
  },
  {
   "cell_type": "code",
   "execution_count": 3,
   "id": "882ef355",
   "metadata": {},
   "outputs": [],
   "source": [
    "data=_create_examples('/data/nfs14/nfs/aisearch/asr/xhsun/datasets/cluener/train.json',mode='train')"
   ]
  },
  {
   "cell_type": "code",
   "execution_count": 4,
   "id": "24c4ac13",
   "metadata": {},
   "outputs": [
    {
     "data": {
      "text/plain": [
       "10748"
      ]
     },
     "execution_count": 4,
     "metadata": {},
     "output_type": "execute_result"
    }
   ],
   "source": [
    "len(data)"
   ]
  },
  {
   "cell_type": "code",
   "execution_count": 5,
   "id": "d12ed0f3",
   "metadata": {},
   "outputs": [
    {
     "data": {
      "text/plain": [
       "{'id': 'train_0',\n",
       " 'context': '浙 商 银 行 企 业 信 贷 部 叶 老 桂 博 士 则 从 另 一 个 角 度 对 五 道 门 槛 进 行 了 解 读 。 叶 老 桂 认 为 ， 对 目 前 国 内 商 业 银 行 而 言 ，',\n",
       " 'tag': 'B-company I-company I-company I-company O O O O O B-name I-name I-name O O O O O O O O O O O O O O O O O O O O O O O O O O O O O O O O O O O O O O',\n",
       " 'raw_context': '浙商银行企业信贷部叶老桂博士则从另一个角度对五道门槛进行了解读。叶老桂认为，对目前国内商业银行而言，'}"
      ]
     },
     "execution_count": 5,
     "metadata": {},
     "output_type": "execute_result"
    }
   ],
   "source": [
    "data[0]"
   ]
  },
  {
   "cell_type": "markdown",
   "id": "9739f01d",
   "metadata": {},
   "source": [
    "# 构造训练集和验证集"
   ]
  },
  {
   "cell_type": "code",
   "execution_count": 6,
   "id": "4f4ba6c3",
   "metadata": {},
   "outputs": [],
   "source": [
    "train_examples=[]\n",
    "for example in data:\n",
    "    seq_in=example['context'].strip().split(' ')\n",
    "    seq_out=example['tag'].strip().split(' ')\n",
    "    assert len(seq_in)==len(seq_out)\n",
    "    train_examples.append(InputExample(seq_in=seq_in,seq_out=seq_out))\n",
    "\n",
    "dev_examples=train_examples[-2000:]\n",
    "dev_seq_in=[]\n",
    "dev_seq_out=[]\n",
    "for example in dev_examples:\n",
    "    dev_seq_in.append(example.seq_in)\n",
    "    dev_seq_out.append(example.seq_out)\n",
    "train_examples=train_examples[:-2000]"
   ]
  },
  {
   "cell_type": "code",
   "execution_count": 7,
   "id": "9b961bd2",
   "metadata": {},
   "outputs": [],
   "source": [
    "# output_path=\"/data/nfs14/nfs/aisearch/asr/xhsun/CompetitionModel/tmp_ner\"\n",
    "# if not os.path.exists(os.path.join(output_path,'label2id.json')):\n",
    "label_set=set()\n",
    "for examples in data:\n",
    "    label_list=examples['tag'].strip().split(' ')\n",
    "    for label in label_list:\n",
    "        label_set.add(label)\n",
    "label2id={'[PAD]':0}\n",
    "for label in label_set:\n",
    "    label2id[label]=len(label2id)"
   ]
  },
  {
   "cell_type": "code",
   "execution_count": 9,
   "id": "bec8ac3c",
   "metadata": {},
   "outputs": [
    {
     "name": "stdout",
     "output_type": "stream",
     "text": [
      "{'[PAD]': 0, 'B-position': 1, 'I-name': 2, 'B-organization': 3, 'I-game': 4, 'I-book': 5, 'S-address': 6, 'B-government': 7, 'S-position': 8, 'I-scene': 9, 'S-company': 10, 'B-name': 11, 'I-company': 12, 'B-book': 13, 'B-address': 14, 'I-government': 15, 'S-name': 16, 'B-movie': 17, 'O': 18, 'B-game': 19, 'I-position': 20, 'I-address': 21, 'B-company': 22, 'B-scene': 23, 'I-movie': 24, 'I-organization': 25}\n"
     ]
    }
   ],
   "source": [
    "print(label2id)"
   ]
  },
  {
   "cell_type": "markdown",
   "id": "4eea5287",
   "metadata": {},
   "source": [
    "# 定义路径加载模型"
   ]
  },
  {
   "cell_type": "code",
   "execution_count": 10,
   "id": "a00349df",
   "metadata": {},
   "outputs": [
    {
     "name": "stderr",
     "output_type": "stream",
     "text": [
      "2021-08-25 09:32:18 - INFO - __init__ - 53 : The label2id is\n",
      " {\"[PAD]\": 0, \"B-position\": 1, \"I-name\": 2, \"B-organization\": 3, \"I-game\": 4, \"I-book\": 5, \"S-address\": 6, \"B-government\": 7, \"S-position\": 8, \"I-scene\": 9, \"S-company\": 10, \"B-name\": 11, \"I-company\": 12, \"B-book\": 13, \"B-address\": 14, \"I-government\": 15, \"S-name\": 16, \"B-movie\": 17, \"O\": 18, \"B-game\": 19, \"I-position\": 20, \"I-address\": 21, \"B-company\": 22, \"B-scene\": 23, \"I-movie\": 24, \"I-organization\": 25}\n",
      "2021-08-25 09:32:18 - INFO - __init__ - 270 : Loading model from /data/nfs14/nfs/aisearch/asr/xhsun/CommonModel/chinese-roberta-wwm/, which is from huggingface model\n",
      "2021-08-25 09:32:18 - INFO - get_config_dict - 177 : loading configuration file /data/nfs14/nfs/aisearch/asr/xhsun/CommonModel/chinese-roberta-wwm/config.json\n",
      "2021-08-25 09:32:18 - INFO - from_pretrained - 404 : loading bert model file /data/nfs14/nfs/aisearch/asr/xhsun/CommonModel/chinese-roberta-wwm/\n",
      "2021-08-25 09:32:18 - INFO - from_pretrained - 423 : BertConfig has been loaded from /data/nfs14/nfs/aisearch/asr/xhsun/CommonModel/chinese-roberta-wwm/config.json\n",
      "2021-08-25 09:32:20 - INFO - from_pretrained - 125 : loading vocabulary file /data/nfs14/nfs/aisearch/asr/xhsun/CommonModel/chinese-roberta-wwm/vocab.txt\n",
      "2021-08-25 09:32:20 - INFO - __init__ - 72 : Using BiLSTM ? : True\n",
      "2021-08-25 09:32:20 - INFO - __init__ - 73 : Using CRF ? : True\n"
     ]
    }
   ],
   "source": [
    "model_path='/data/nfs14/nfs/aisearch/asr/xhsun/CommonModel/chinese-roberta-wwm/'\n",
    "ner_model=Ner(model_path,label2id=label2id,use_crf=True,use_bilstm=True,device='cpu',batch_first=True)"
   ]
  },
  {
   "cell_type": "code",
   "execution_count": 11,
   "id": "6097b134",
   "metadata": {},
   "outputs": [
    {
     "name": "stderr",
     "output_type": "stream",
     "text": [
      "2021-08-25 09:32:38 - INFO - __init__ - 39 : Total evaluate nums : 2000\n",
      "2021-08-25 09:32:38 - INFO - __init__ - 40 : input is string : False, input is list : True\n",
      "2021-08-25 09:32:38 - INFO - __init__ - 41 : seq in and out like : \n",
      "['并', '且', '更', '有', '动', '力', '练', '习', 'W', 'A', 'R', '3', '，', '为', '一', '战', '成', '名', '而', '准', '备', '着', '，']\t['O', 'O', 'O', 'O', 'O', 'O', 'O', 'O', 'B-game', 'I-game', 'I-game', 'I-game', 'O', 'O', 'O', 'O', 'O', 'O', 'O', 'O', 'O', 'O', 'O']\n",
      "2021-08-25 09:32:38 - INFO - __init__ - 42 : In this evaluator, slot contains ([PAD] B-position I-name B-organization I-game I-book S-address B-government S-position I-scene S-company B-name I-company B-book B-address I-government S-name B-movie O B-game I-position I-address B-company B-scene I-movie I-organization)\n"
     ]
    }
   ],
   "source": [
    "from torch.utils.data import DataLoader\n",
    "batch_size=32\n",
    "train_dataloader = DataLoader(train_examples, shuffle=True, batch_size=batch_size)\n",
    "evaluator=nerEvaluator(label2id=label2id,seq_in=dev_seq_in,seq_out=dev_seq_out)"
   ]
  },
  {
   "cell_type": "markdown",
   "id": "e8563310",
   "metadata": {},
   "source": [
    "# 训练模型"
   ]
  },
  {
   "cell_type": "code",
   "execution_count": 12,
   "id": "ffbe4fa9",
   "metadata": {},
   "outputs": [
    {
     "name": "stderr",
     "output_type": "stream",
     "text": [
      "2021-08-25 09:34:26 - INFO - fit - 155 : label2id has been saved in /data/nfs14/nfs/aisearch/asr/xhsun/tmp_model/label2id.json\n",
      "2021-08-25 09:34:26 - INFO - fit - 164 : 一个epoch 下，每隔54个step会输出一次loss，每隔137个step会评估一次模型\n"
     ]
    },
    {
     "data": {
      "application/vnd.jupyter.widget-view+json": {
       "model_id": "b30540fd13074c34988c8880776a35dc",
       "version_major": 2,
       "version_minor": 0
      },
      "text/plain": [
       "HBox(children=(HTML(value='Epoch'), FloatProgress(value=0.0, max=5.0), HTML(value='')))"
      ]
     },
     "metadata": {},
     "output_type": "display_data"
    },
    {
     "data": {
      "application/vnd.jupyter.widget-view+json": {
       "model_id": "7d891a5117fd42148d93f912a614dd4d",
       "version_major": 2,
       "version_minor": 0
      },
      "text/plain": [
       "HBox(children=(HTML(value=''), FloatProgress(value=1.0, bar_style='info', layout=Layout(width='20px'), max=1.0…"
      ]
     },
     "metadata": {},
     "output_type": "display_data"
    },
    {
     "name": "stderr",
     "output_type": "stream",
     "text": [
      "2021-08-25 09:34:29 - INFO - __call__ - 59 : nerEvaluator: Evaluating the model on  dataset in epoch 0 after 1 steps:\n",
      "/root/miniconda3/lib/python3.8/site-packages/seqeval/metrics/sequence_labeling.py:171: UserWarning: [PAD] seems not to be NE tag.\n",
      "  warnings.warn('{} seems not to be NE tag.'.format(chunk))\n",
      "/root/miniconda3/lib/python3.8/site-packages/seqeval/metrics/v1.py:57: UndefinedMetricWarning: Recall and F-score are ill-defined and being set to 0.0 in labels with no true samples. Use `zero_division` parameter to control this behavior.\n",
      "  _warn_prf(average, modifier, msg_start, len(result))\n"
     ]
    },
    {
     "name": "stdout",
     "output_type": "stream",
     "text": [
      "              precision    recall  f1-score   support\n",
      "\n",
      "        PAD]     0.0000    0.0000    0.0000         0\n",
      "     address     0.0001    0.0019    0.0002       528\n",
      "        book     0.0000    0.0000    0.0000       193\n",
      "     company     0.0000    0.0000    0.0000       521\n",
      "        game     0.0000    0.0000    0.0000       409\n",
      "  government     0.0000    0.0000    0.0000       339\n",
      "       movie     0.0000    0.0000    0.0000       212\n",
      "        name     0.0021    0.0271    0.0039       700\n",
      "organization     0.0000    0.0000    0.0000       648\n",
      "    position     0.0000    0.0000    0.0000       584\n",
      "       scene     0.0000    0.0000    0.0000       270\n",
      "\n",
      "   micro avg     0.0004    0.0045    0.0007      4404\n",
      "   macro avg     0.0002    0.0026    0.0004      4404\n",
      "weighted avg     0.0003    0.0045    0.0006      4404\n",
      "\n"
     ]
    },
    {
     "name": "stderr",
     "output_type": "stream",
     "text": [
      "2021-08-25 09:34:53 - INFO - save_pretrained - 509 : Model weights saved in /data/nfs14/nfs/aisearch/asr/xhsun/tmp_model/BERT/pytorch_model.bin\n",
      "2021-08-25 09:34:53 - INFO - save_pretrained - 150 : Configuration saved in /data/nfs14/nfs/aisearch/asr/xhsun/tmp_model/BERT/config.json\n",
      "2021-08-25 09:34:53 - INFO - save_vocab - 51 : Vocab saved in /data/nfs14/nfs/aisearch/asr/xhsun/tmp_model/BERT/vocab.txt\n",
      "2021-08-25 09:34:53 - INFO - fit - 239 : In epoch 0, training_step 0, the eval score is 0.0006749801724574341, previous eval score is -9999999, model has been saved in /data/nfs14/nfs/aisearch/asr/xhsun/tmp_model/\n",
      "2021-08-25 09:36:21 - INFO - fit - 217 : Epoch : 0, train_step : 54/1370, loss_value : 2.9803987785621926 \n",
      "2021-08-25 09:37:43 - INFO - fit - 217 : Epoch : 0, train_step : 108/1370, loss_value : 1.4688917133543227 \n",
      "2021-08-25 09:38:27 - INFO - __call__ - 59 : nerEvaluator: Evaluating the model on  dataset in epoch 0 after 138 steps:\n",
      "/root/miniconda3/lib/python3.8/site-packages/seqeval/metrics/v1.py:57: UndefinedMetricWarning: Precision and F-score are ill-defined and being set to 0.0 in labels with no predicted samples. Use `zero_division` parameter to control this behavior.\n",
      "  _warn_prf(average, modifier, msg_start, len(result))\n"
     ]
    },
    {
     "name": "stdout",
     "output_type": "stream",
     "text": [
      "              precision    recall  f1-score   support\n",
      "\n",
      "        PAD]     0.0000    0.0000    0.0000         0\n",
      "     address     0.0609    0.0795    0.0690       528\n",
      "        book     0.0000    0.0000    0.0000       193\n",
      "     company     0.1073    0.0653    0.0811       521\n",
      "        game     0.1019    0.1663    0.1264       409\n",
      "  government     0.0625    0.0413    0.0497       339\n",
      "       movie     0.0000    0.0000    0.0000       212\n",
      "        name     0.0949    0.0500    0.0655       700\n",
      "organization     0.0291    0.0139    0.0188       648\n",
      "    position     0.0000    0.0000    0.0000       584\n",
      "       scene     0.0000    0.0000    0.0000       270\n",
      "\n",
      "   micro avg     0.0784    0.0459    0.0579      4404\n",
      "   macro avg     0.0415    0.0378    0.0373      4404\n",
      "weighted avg     0.0536    0.0459    0.0466      4404\n",
      "\n"
     ]
    },
    {
     "name": "stderr",
     "output_type": "stream",
     "text": [
      "2021-08-25 09:38:50 - INFO - save_pretrained - 509 : Model weights saved in /data/nfs14/nfs/aisearch/asr/xhsun/tmp_model/BERT/pytorch_model.bin\n",
      "2021-08-25 09:38:50 - INFO - save_pretrained - 150 : Configuration saved in /data/nfs14/nfs/aisearch/asr/xhsun/tmp_model/BERT/config.json\n",
      "2021-08-25 09:38:50 - INFO - save_vocab - 51 : Vocab saved in /data/nfs14/nfs/aisearch/asr/xhsun/tmp_model/BERT/vocab.txt\n",
      "2021-08-25 09:38:50 - INFO - fit - 239 : In epoch 0, training_step 137, the eval score is 0.05787136513393496, previous eval score is 0.0006749801724574341, model has been saved in /data/nfs14/nfs/aisearch/asr/xhsun/tmp_model/\n",
      "2021-08-25 09:39:28 - INFO - fit - 217 : Epoch : 0, train_step : 162/1370, loss_value : 0.9069536041330408 \n",
      "2021-08-25 09:40:54 - INFO - fit - 217 : Epoch : 0, train_step : 216/1370, loss_value : 0.599122573932012 \n",
      "2021-08-25 09:42:15 - INFO - fit - 217 : Epoch : 0, train_step : 270/1370, loss_value : 0.43696941435337067 \n"
     ]
    },
    {
     "name": "stdout",
     "output_type": "stream",
     "text": [
      "\n"
     ]
    },
    {
     "data": {
      "application/vnd.jupyter.widget-view+json": {
       "model_id": "e5a51f7a85374e439b449854006565df",
       "version_major": 2,
       "version_minor": 0
      },
      "text/plain": [
       "HBox(children=(HTML(value=''), FloatProgress(value=1.0, bar_style='info', layout=Layout(width='20px'), max=1.0…"
      ]
     },
     "metadata": {},
     "output_type": "display_data"
    },
    {
     "name": "stderr",
     "output_type": "stream",
     "text": [
      "2021-08-25 09:42:24 - INFO - __call__ - 59 : nerEvaluator: Evaluating the model on  dataset in epoch 1 after 1 steps:\n"
     ]
    },
    {
     "name": "stdout",
     "output_type": "stream",
     "text": [
      "              precision    recall  f1-score   support\n",
      "\n",
      "     address     0.3419    0.4261    0.3794       528\n",
      "        book     0.5514    0.6114    0.5799       193\n",
      "     company     0.7122    0.5509    0.6212       521\n",
      "        game     0.6258    0.7482    0.6815       409\n",
      "  government     0.4694    0.5664    0.5134       339\n",
      "       movie     0.5144    0.5047    0.5095       212\n",
      "        name     0.7239    0.8614    0.7867       700\n",
      "organization     0.7296    0.7037    0.7164       648\n",
      "    position     0.5124    0.3904    0.4431       584\n",
      "       scene     0.2251    0.1593    0.1866       270\n",
      "\n",
      "   micro avg     0.5732    0.5824    0.5778      4404\n",
      "   macro avg     0.5406    0.5522    0.5418      4404\n",
      "weighted avg     0.5726    0.5824    0.5724      4404\n",
      "\n"
     ]
    },
    {
     "name": "stderr",
     "output_type": "stream",
     "text": [
      "2021-08-25 09:42:47 - INFO - save_pretrained - 509 : Model weights saved in /data/nfs14/nfs/aisearch/asr/xhsun/tmp_model/BERT/pytorch_model.bin\n",
      "2021-08-25 09:42:47 - INFO - save_pretrained - 150 : Configuration saved in /data/nfs14/nfs/aisearch/asr/xhsun/tmp_model/BERT/config.json\n",
      "2021-08-25 09:42:47 - INFO - save_vocab - 51 : Vocab saved in /data/nfs14/nfs/aisearch/asr/xhsun/tmp_model/BERT/vocab.txt\n",
      "2021-08-25 09:42:48 - INFO - fit - 239 : In epoch 1, training_step 0, the eval score is 0.5777677666403874, previous eval score is 0.05787136513393496, model has been saved in /data/nfs14/nfs/aisearch/asr/xhsun/tmp_model/\n",
      "2021-08-25 09:44:14 - INFO - fit - 217 : Epoch : 1, train_step : 108/1370, loss_value : 0.3421557576016144 \n",
      "2021-08-25 09:45:38 - INFO - fit - 217 : Epoch : 1, train_step : 216/1370, loss_value : 0.29418859272091474 \n",
      "2021-08-25 09:46:26 - INFO - __call__ - 59 : nerEvaluator: Evaluating the model on  dataset in epoch 1 after 138 steps:\n"
     ]
    },
    {
     "name": "stdout",
     "output_type": "stream",
     "text": [
      "              precision    recall  f1-score   support\n",
      "\n",
      "     address     0.4474    0.5076    0.4756       528\n",
      "        book     0.6596    0.6425    0.6509       193\n",
      "     company     0.6845    0.7121    0.6980       521\n",
      "        game     0.6273    0.8191    0.7105       409\n",
      "  government     0.7224    0.7906    0.7549       339\n",
      "       movie     0.5885    0.5330    0.5594       212\n",
      "        name     0.8478    0.8671    0.8573       700\n",
      "organization     0.7605    0.7840    0.7720       648\n",
      "    position     0.7251    0.6866    0.7054       584\n",
      "       scene     0.4274    0.5556    0.4831       270\n",
      "\n",
      "   micro avg     0.6672    0.7141    0.6898      4404\n",
      "   macro avg     0.6490    0.6898    0.6667      4404\n",
      "weighted avg     0.6747    0.7141    0.6922      4404\n",
      "\n"
     ]
    },
    {
     "name": "stderr",
     "output_type": "stream",
     "text": [
      "2021-08-25 09:46:51 - INFO - save_pretrained - 509 : Model weights saved in /data/nfs14/nfs/aisearch/asr/xhsun/tmp_model/BERT/pytorch_model.bin\n",
      "2021-08-25 09:46:51 - INFO - save_pretrained - 150 : Configuration saved in /data/nfs14/nfs/aisearch/asr/xhsun/tmp_model/BERT/config.json\n",
      "2021-08-25 09:46:51 - INFO - save_vocab - 51 : Vocab saved in /data/nfs14/nfs/aisearch/asr/xhsun/tmp_model/BERT/vocab.txt\n",
      "2021-08-25 09:46:51 - INFO - fit - 239 : In epoch 1, training_step 274, the eval score is 0.6898442640930028, previous eval score is 0.5777677666403874, model has been saved in /data/nfs14/nfs/aisearch/asr/xhsun/tmp_model/\n",
      "2021-08-25 09:47:30 - INFO - fit - 217 : Epoch : 1, train_step : 324/1370, loss_value : 0.26097009772503815 \n",
      "2021-08-25 09:48:53 - INFO - fit - 217 : Epoch : 1, train_step : 432/1370, loss_value : 0.22804903873690852 \n",
      "2021-08-25 09:50:17 - INFO - fit - 217 : Epoch : 1, train_step : 540/1370, loss_value : 0.24189564640875216 \n"
     ]
    },
    {
     "name": "stdout",
     "output_type": "stream",
     "text": [
      "\n"
     ]
    },
    {
     "data": {
      "application/vnd.jupyter.widget-view+json": {
       "model_id": "b93b0560041842ccaef9f725d267eacd",
       "version_major": 2,
       "version_minor": 0
      },
      "text/plain": [
       "HBox(children=(HTML(value=''), FloatProgress(value=1.0, bar_style='info', layout=Layout(width='20px'), max=1.0…"
      ]
     },
     "metadata": {},
     "output_type": "display_data"
    },
    {
     "name": "stderr",
     "output_type": "stream",
     "text": [
      "2021-08-25 09:50:24 - INFO - __call__ - 59 : nerEvaluator: Evaluating the model on  dataset in epoch 2 after 1 steps:\n"
     ]
    },
    {
     "name": "stdout",
     "output_type": "stream",
     "text": [
      "              precision    recall  f1-score   support\n",
      "\n",
      "     address     0.5145    0.5038    0.5091       528\n",
      "        book     0.7824    0.6891    0.7328       193\n",
      "     company     0.6979    0.7716    0.7329       521\n",
      "        game     0.7158    0.8191    0.7640       409\n",
      "  government     0.6977    0.8171    0.7527       339\n",
      "       movie     0.7629    0.6981    0.7291       212\n",
      "        name     0.8148    0.8800    0.8462       700\n",
      "organization     0.7807    0.7747    0.7777       648\n",
      "    position     0.7478    0.7209    0.7341       584\n",
      "       scene     0.5516    0.5741    0.5626       270\n",
      "\n",
      "   micro avg     0.7130    0.7391    0.7258      4404\n",
      "   macro avg     0.7066    0.7248    0.7141      4404\n",
      "weighted avg     0.7128    0.7391    0.7246      4404\n",
      "\n"
     ]
    },
    {
     "name": "stderr",
     "output_type": "stream",
     "text": [
      "2021-08-25 09:50:47 - INFO - save_pretrained - 509 : Model weights saved in /data/nfs14/nfs/aisearch/asr/xhsun/tmp_model/BERT/pytorch_model.bin\n",
      "2021-08-25 09:50:47 - INFO - save_pretrained - 150 : Configuration saved in /data/nfs14/nfs/aisearch/asr/xhsun/tmp_model/BERT/config.json\n",
      "2021-08-25 09:50:47 - INFO - save_vocab - 51 : Vocab saved in /data/nfs14/nfs/aisearch/asr/xhsun/tmp_model/BERT/vocab.txt\n",
      "2021-08-25 09:50:47 - INFO - fit - 239 : In epoch 2, training_step 0, the eval score is 0.7258334262459584, previous eval score is 0.6898442640930028, model has been saved in /data/nfs14/nfs/aisearch/asr/xhsun/tmp_model/\n",
      "2021-08-25 09:52:12 - INFO - fit - 217 : Epoch : 2, train_step : 162/1370, loss_value : 0.18043310374573426 \n",
      "2021-08-25 09:53:38 - INFO - fit - 217 : Epoch : 2, train_step : 324/1370, loss_value : 0.17925456262848996 \n",
      "2021-08-25 09:54:26 - INFO - __call__ - 59 : nerEvaluator: Evaluating the model on  dataset in epoch 2 after 138 steps:\n"
     ]
    },
    {
     "name": "stdout",
     "output_type": "stream",
     "text": [
      "              precision    recall  f1-score   support\n",
      "\n",
      "     address     0.5174    0.5644    0.5399       528\n",
      "        book     0.6897    0.7254    0.7071       193\n",
      "     company     0.6959    0.7774    0.7344       521\n",
      "        game     0.6963    0.8240    0.7548       409\n",
      "  government     0.6874    0.8496    0.7599       339\n",
      "       movie     0.6927    0.7123    0.7023       212\n",
      "        name     0.8154    0.8771    0.8451       700\n",
      "organization     0.7611    0.7963    0.7783       648\n",
      "    position     0.7076    0.7997    0.7508       584\n",
      "       scene     0.5259    0.6778    0.5922       270\n",
      "\n",
      "   micro avg     0.6907    0.7718    0.7290      4404\n",
      "   macro avg     0.6789    0.7604    0.7165      4404\n",
      "weighted avg     0.6931    0.7718    0.7297      4404\n",
      "\n"
     ]
    },
    {
     "name": "stderr",
     "output_type": "stream",
     "text": [
      "2021-08-25 09:54:50 - INFO - save_pretrained - 509 : Model weights saved in /data/nfs14/nfs/aisearch/asr/xhsun/tmp_model/BERT/pytorch_model.bin\n",
      "2021-08-25 09:54:50 - INFO - save_pretrained - 150 : Configuration saved in /data/nfs14/nfs/aisearch/asr/xhsun/tmp_model/BERT/config.json\n",
      "2021-08-25 09:54:50 - INFO - save_vocab - 51 : Vocab saved in /data/nfs14/nfs/aisearch/asr/xhsun/tmp_model/BERT/vocab.txt\n",
      "2021-08-25 09:54:51 - INFO - fit - 239 : In epoch 2, training_step 411, the eval score is 0.7290080428954424, previous eval score is 0.7258334262459584, model has been saved in /data/nfs14/nfs/aisearch/asr/xhsun/tmp_model/\n",
      "2021-08-25 09:55:30 - INFO - fit - 217 : Epoch : 2, train_step : 486/1370, loss_value : 0.16929205534634767 \n",
      "2021-08-25 09:56:57 - INFO - fit - 217 : Epoch : 2, train_step : 648/1370, loss_value : 0.17633160962550729 \n",
      "2021-08-25 09:58:24 - INFO - fit - 217 : Epoch : 2, train_step : 810/1370, loss_value : 0.16995186607042947 \n"
     ]
    },
    {
     "name": "stdout",
     "output_type": "stream",
     "text": [
      "\n"
     ]
    },
    {
     "data": {
      "application/vnd.jupyter.widget-view+json": {
       "model_id": "63df240e0b0c4a23b1a42cdb049965d0",
       "version_major": 2,
       "version_minor": 0
      },
      "text/plain": [
       "HBox(children=(HTML(value=''), FloatProgress(value=1.0, bar_style='info', layout=Layout(width='20px'), max=1.0…"
      ]
     },
     "metadata": {},
     "output_type": "display_data"
    },
    {
     "name": "stderr",
     "output_type": "stream",
     "text": [
      "2021-08-25 09:58:32 - INFO - __call__ - 59 : nerEvaluator: Evaluating the model on  dataset in epoch 3 after 1 steps:\n"
     ]
    },
    {
     "name": "stdout",
     "output_type": "stream",
     "text": [
      "              precision    recall  f1-score   support\n",
      "\n",
      "     address     0.5153    0.5417    0.5282       528\n",
      "        book     0.7421    0.8497    0.7923       193\n",
      "     company     0.7271    0.7774    0.7514       521\n",
      "        game     0.7799    0.8142    0.7967       409\n",
      "  government     0.7083    0.8525    0.7738       339\n",
      "       movie     0.7500    0.7075    0.7282       212\n",
      "        name     0.8556    0.8886    0.8718       700\n",
      "organization     0.7761    0.8025    0.7891       648\n",
      "    position     0.6982    0.7962    0.7440       584\n",
      "       scene     0.5514    0.6556    0.5990       270\n",
      "\n",
      "   micro avg     0.7178    0.7745    0.7451      4404\n",
      "   macro avg     0.7104    0.7686    0.7374      4404\n",
      "weighted avg     0.7200    0.7745    0.7456      4404\n",
      "\n"
     ]
    },
    {
     "name": "stderr",
     "output_type": "stream",
     "text": [
      "2021-08-25 09:58:56 - INFO - save_pretrained - 509 : Model weights saved in /data/nfs14/nfs/aisearch/asr/xhsun/tmp_model/BERT/pytorch_model.bin\n",
      "2021-08-25 09:58:56 - INFO - save_pretrained - 150 : Configuration saved in /data/nfs14/nfs/aisearch/asr/xhsun/tmp_model/BERT/config.json\n",
      "2021-08-25 09:58:56 - INFO - save_vocab - 51 : Vocab saved in /data/nfs14/nfs/aisearch/asr/xhsun/tmp_model/BERT/vocab.txt\n",
      "2021-08-25 09:58:56 - INFO - fit - 239 : In epoch 3, training_step 0, the eval score is 0.7450851900393184, previous eval score is 0.7290080428954424, model has been saved in /data/nfs14/nfs/aisearch/asr/xhsun/tmp_model/\n",
      "2021-08-25 10:00:24 - INFO - fit - 217 : Epoch : 3, train_step : 216/1370, loss_value : 0.13424867681331104 \n",
      "2021-08-25 10:01:52 - INFO - fit - 217 : Epoch : 3, train_step : 432/1370, loss_value : 0.1345812348579919 \n",
      "2021-08-25 10:02:38 - INFO - __call__ - 59 : nerEvaluator: Evaluating the model on  dataset in epoch 3 after 138 steps:\n"
     ]
    },
    {
     "name": "stdout",
     "output_type": "stream",
     "text": [
      "              precision    recall  f1-score   support\n",
      "\n",
      "     address     0.5127    0.6098    0.5571       528\n",
      "        book     0.7740    0.8342    0.8030       193\n",
      "     company     0.7265    0.7850    0.7546       521\n",
      "        game     0.7638    0.8460    0.8028       409\n",
      "  government     0.7111    0.8348    0.7680       339\n",
      "       movie     0.7500    0.7075    0.7282       212\n",
      "        name     0.8658    0.8943    0.8798       700\n",
      "organization     0.7881    0.7978    0.7929       648\n",
      "    position     0.7198    0.7654    0.7419       584\n",
      "       scene     0.6385    0.6148    0.6264       270\n",
      "\n",
      "   micro avg     0.7276    0.7782    0.7520      4404\n",
      "   macro avg     0.7250    0.7690    0.7455      4404\n",
      "weighted avg     0.7313    0.7782    0.7533      4404\n",
      "\n"
     ]
    },
    {
     "name": "stderr",
     "output_type": "stream",
     "text": [
      "2021-08-25 10:03:03 - INFO - save_pretrained - 509 : Model weights saved in /data/nfs14/nfs/aisearch/asr/xhsun/tmp_model/BERT/pytorch_model.bin\n",
      "2021-08-25 10:03:03 - INFO - save_pretrained - 150 : Configuration saved in /data/nfs14/nfs/aisearch/asr/xhsun/tmp_model/BERT/config.json\n",
      "2021-08-25 10:03:03 - INFO - save_vocab - 51 : Vocab saved in /data/nfs14/nfs/aisearch/asr/xhsun/tmp_model/BERT/vocab.txt\n",
      "2021-08-25 10:03:03 - INFO - fit - 239 : In epoch 3, training_step 548, the eval score is 0.7520298441957427, previous eval score is 0.7450851900393184, model has been saved in /data/nfs14/nfs/aisearch/asr/xhsun/tmp_model/\n",
      "2021-08-25 10:03:41 - INFO - fit - 217 : Epoch : 3, train_step : 648/1370, loss_value : 0.14171323028427582 \n",
      "2021-08-25 10:05:05 - INFO - fit - 217 : Epoch : 3, train_step : 864/1370, loss_value : 0.13317134300315822 \n",
      "2021-08-25 10:06:30 - INFO - fit - 217 : Epoch : 3, train_step : 1080/1370, loss_value : 0.13435397876633537 \n"
     ]
    },
    {
     "name": "stdout",
     "output_type": "stream",
     "text": [
      "\n"
     ]
    },
    {
     "data": {
      "application/vnd.jupyter.widget-view+json": {
       "model_id": "207c0a9c706f40d994719dc7a5c065f8",
       "version_major": 2,
       "version_minor": 0
      },
      "text/plain": [
       "HBox(children=(HTML(value=''), FloatProgress(value=1.0, bar_style='info', layout=Layout(width='20px'), max=1.0…"
      ]
     },
     "metadata": {},
     "output_type": "display_data"
    },
    {
     "name": "stderr",
     "output_type": "stream",
     "text": [
      "2021-08-25 10:06:38 - INFO - __call__ - 59 : nerEvaluator: Evaluating the model on  dataset in epoch 4 after 1 steps:\n",
      "2021-08-25 10:07:00 - INFO - fit - 243 : No improvement over previous best eval score (0.749591 vs 0.752030), patience = 9\n"
     ]
    },
    {
     "name": "stdout",
     "output_type": "stream",
     "text": [
      "              precision    recall  f1-score   support\n",
      "\n",
      "     address     0.5222    0.5795    0.5494       528\n",
      "        book     0.7910    0.8238    0.8071       193\n",
      "     company     0.7163    0.7754    0.7447       521\n",
      "        game     0.7549    0.8509    0.8000       409\n",
      "  government     0.7250    0.8555    0.7848       339\n",
      "       movie     0.7730    0.6745    0.7204       212\n",
      "        name     0.8514    0.9000    0.8750       700\n",
      "organization     0.7737    0.8071    0.7900       648\n",
      "    position     0.6804    0.7911    0.7316       584\n",
      "       scene     0.6320    0.6296    0.6308       270\n",
      "\n",
      "   micro avg     0.7215    0.7800    0.7496      4404\n",
      "   macro avg     0.7220    0.7687    0.7434      4404\n",
      "weighted avg     0.7233    0.7800    0.7497      4404\n",
      "\n"
     ]
    },
    {
     "name": "stderr",
     "output_type": "stream",
     "text": [
      "2021-08-25 10:08:24 - INFO - fit - 217 : Epoch : 4, train_step : 270/1370, loss_value : 0.11987927142116758 \n",
      "2021-08-25 10:09:53 - INFO - fit - 217 : Epoch : 4, train_step : 540/1370, loss_value : 0.11430554354080448 \n",
      "2021-08-25 10:10:40 - INFO - __call__ - 59 : nerEvaluator: Evaluating the model on  dataset in epoch 4 after 138 steps:\n"
     ]
    },
    {
     "name": "stdout",
     "output_type": "stream",
     "text": [
      "              precision    recall  f1-score   support\n",
      "\n",
      "     address     0.5371    0.5890    0.5619       528\n",
      "        book     0.7570    0.8394    0.7961       193\n",
      "     company     0.7566    0.7697    0.7631       521\n",
      "        game     0.7903    0.8386    0.8138       409\n",
      "  government     0.7366    0.8496    0.7890       339\n",
      "       movie     0.7600    0.7170    0.7379       212\n",
      "        name     0.8542    0.8871    0.8704       700\n",
      "organization     0.7768    0.8164    0.7961       648\n",
      "    position     0.7023    0.7877    0.7425       584\n",
      "       scene     0.6151    0.6630    0.6381       270\n",
      "\n",
      "   micro avg     0.7329    0.7825    0.7569      4404\n",
      "   macro avg     0.7286    0.7757    0.7509      4404\n",
      "weighted avg     0.7347    0.7825    0.7574      4404\n",
      "\n"
     ]
    },
    {
     "name": "stderr",
     "output_type": "stream",
     "text": [
      "2021-08-25 10:11:05 - INFO - save_pretrained - 509 : Model weights saved in /data/nfs14/nfs/aisearch/asr/xhsun/tmp_model/BERT/pytorch_model.bin\n",
      "2021-08-25 10:11:05 - INFO - save_pretrained - 150 : Configuration saved in /data/nfs14/nfs/aisearch/asr/xhsun/tmp_model/BERT/config.json\n",
      "2021-08-25 10:11:05 - INFO - save_vocab - 51 : Vocab saved in /data/nfs14/nfs/aisearch/asr/xhsun/tmp_model/BERT/vocab.txt\n",
      "2021-08-25 10:11:05 - INFO - fit - 239 : In epoch 4, training_step 685, the eval score is 0.7568636064133538, previous eval score is 0.7520298441957427, model has been saved in /data/nfs14/nfs/aisearch/asr/xhsun/tmp_model/\n",
      "2021-08-25 10:11:43 - INFO - fit - 217 : Epoch : 4, train_step : 810/1370, loss_value : 0.11183709927179196 \n",
      "2021-08-25 10:13:10 - INFO - fit - 217 : Epoch : 4, train_step : 1080/1370, loss_value : 0.10980823525676021 \n",
      "2021-08-25 10:14:38 - INFO - fit - 217 : Epoch : 4, train_step : 1350/1370, loss_value : 0.11510282023637383 \n"
     ]
    },
    {
     "name": "stdout",
     "output_type": "stream",
     "text": [
      "\n",
      "\n"
     ]
    }
   ],
   "source": [
    "ner_model.fit(train_dataloader=train_dataloader,evaluator=evaluator,epochs=5,\n",
    "              output_path='/data/nfs14/nfs/aisearch/asr/xhsun/tmp_model/')"
   ]
  },
  {
   "cell_type": "markdown",
   "id": "21e77970",
   "metadata": {},
   "source": [
    "# 模型预测"
   ]
  },
  {
   "cell_type": "code",
   "execution_count": 25,
   "id": "9e26f391",
   "metadata": {},
   "outputs": [
    {
     "name": "stdout",
     "output_type": "stream",
     "text": [
      "美军有3万人阵亡。与此同时，SAS队长普莱斯带领小队找出幕后黑手扎卡耶夫，\n"
     ]
    }
   ],
   "source": [
    "print(data[1401]['raw_context'])"
   ]
  },
  {
   "cell_type": "code",
   "execution_count": 26,
   "id": "b6cb1877",
   "metadata": {},
   "outputs": [
    {
     "name": "stdout",
     "output_type": "stream",
     "text": [
      "['B-government', 'I-government', 'O', 'O', 'O', 'O', 'O', 'O', 'O', 'O', 'O', 'O', 'O', 'O', 'O', 'O', 'O', 'B-position', 'I-position', 'B-name', 'I-name', 'I-name', 'O', 'O', 'O', 'O', 'O', 'O', 'O', 'O', 'O', 'O', 'B-name', 'I-name', 'I-name', 'I-name', 'O']\n"
     ]
    }
   ],
   "source": [
    "print(data[1401]['tag'].split(' '))"
   ]
  },
  {
   "cell_type": "code",
   "execution_count": 27,
   "id": "d8505123",
   "metadata": {},
   "outputs": [
    {
     "name": "stdout",
     "output_type": "stream",
     "text": [
      "[['B-government', 'I-government', 'O', 'O', 'O', 'O', 'O', 'O', 'O', 'O', 'O', 'O', 'O', 'O', 'B-position', 'B-position', 'I-position', 'B-name', 'I-name', 'I-name', 'O', 'O', 'O', 'O', 'O', 'O', 'O', 'O', 'O', 'O', 'B-name', 'I-name', 'I-name', 'I-name', 'O']]\n"
     ]
    }
   ],
   "source": [
    "print(ner_model.predict(\"美军有3万人阵亡。与此同时，SAS队长普莱斯带领小队找出幕后黑手扎卡耶夫，\"))"
   ]
  },
  {
   "cell_type": "code",
   "execution_count": null,
   "id": "5e2058a7",
   "metadata": {},
   "outputs": [],
   "source": []
  }
 ],
 "metadata": {
  "kernelspec": {
   "display_name": "Python 3",
   "language": "python",
   "name": "python3"
  },
  "language_info": {
   "codemirror_mode": {
    "name": "ipython",
    "version": 3
   },
   "file_extension": ".py",
   "mimetype": "text/x-python",
   "name": "python",
   "nbconvert_exporter": "python",
   "pygments_lexer": "ipython3",
   "version": "3.8.5"
  }
 },
 "nbformat": 4,
 "nbformat_minor": 5
}
