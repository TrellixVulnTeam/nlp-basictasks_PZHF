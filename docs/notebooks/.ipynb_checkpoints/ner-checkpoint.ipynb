{
 "cells": [
  {
   "cell_type": "markdown",
   "id": "00a375d0",
   "metadata": {},
   "source": [
    "# 数据集介绍"
   ]
  },
  {
   "cell_type": "markdown",
   "id": "7a44a86f",
   "metadata": {},
   "source": [
    "来源https://storage.googleapis.com/cluebenchmark/tasks/cluener_public.zip"
   ]
  },
  {
   "cell_type": "markdown",
   "id": "04b25130",
   "metadata": {},
   "source": [
    "# 导入包"
   ]
  },
  {
   "cell_type": "code",
   "execution_count": 1,
   "id": "76361a05",
   "metadata": {},
   "outputs": [],
   "source": [
    "import torch,json\n",
    "import sys,os\n",
    "import pandas as pd\n",
    "import random\n",
    "import numpy as np\n",
    "from nlp_basictasks.tasks import Ner\n",
    "from nlp_basictasks.evaluation import nerEvaluator\n",
    "from nlp_basictasks.readers.ner import InputExample"
   ]
  },
  {
   "cell_type": "markdown",
   "id": "44eb7061",
   "metadata": {},
   "source": [
    "# 获取数据"
   ]
  },
  {
   "cell_type": "code",
   "execution_count": 2,
   "id": "065c1022",
   "metadata": {},
   "outputs": [],
   "source": [
    "def _create_examples(input_path,mode):\n",
    "    examples = []\n",
    "    with open(input_path, 'r') as f:\n",
    "        idx = 0\n",
    "        for line in f:\n",
    "            json_d = {}\n",
    "            line = json.loads(line.strip())\n",
    "            text = line['text']\n",
    "            label_entities = line.get('label', None)\n",
    "            words = list(text)\n",
    "            labels = ['O'] * len(words)\n",
    "            if label_entities is not None:\n",
    "                for key, value in label_entities.items():\n",
    "                    for sub_name, sub_index in value.items():\n",
    "                        for start_index, end_index in sub_index:\n",
    "                            assert ''.join(words[start_index:end_index + 1]) == sub_name\n",
    "                            if start_index == end_index:\n",
    "                                labels[start_index] = 'S-' + key\n",
    "                            else:\n",
    "                                labels[start_index] = 'B-' + key\n",
    "                                labels[start_index + 1:end_index + 1] = ['I-' + key] * (len(sub_name) - 1)\n",
    "            json_d['id'] = f\"{mode}_{idx}\"\n",
    "            json_d['context'] = \" \".join(words)\n",
    "            json_d['tag'] = \" \".join(labels)\n",
    "            json_d['raw_context'] = \"\".join(words)\n",
    "            idx += 1\n",
    "            examples.append(json_d)\n",
    "    return examples"
   ]
  },
  {
   "cell_type": "code",
   "execution_count": 3,
   "id": "882ef355",
   "metadata": {},
   "outputs": [],
   "source": [
    "data=_create_examples('/data/nfs14/nfs/aisearch/asr/xhsun/datasets/cluener/train.json',mode='train')"
   ]
  },
  {
   "cell_type": "code",
   "execution_count": 4,
   "id": "24c4ac13",
   "metadata": {},
   "outputs": [
    {
     "data": {
      "text/plain": [
       "10748"
      ]
     },
     "execution_count": 4,
     "metadata": {},
     "output_type": "execute_result"
    }
   ],
   "source": [
    "len(data)"
   ]
  },
  {
   "cell_type": "code",
   "execution_count": 6,
   "id": "d12ed0f3",
   "metadata": {},
   "outputs": [
    {
     "data": {
      "text/plain": [
       "{'id': 'train_0',\n",
       " 'context': '浙 商 银 行 企 业 信 贷 部 叶 老 桂 博 士 则 从 另 一 个 角 度 对 五 道 门 槛 进 行 了 解 读 。 叶 老 桂 认 为 ， 对 目 前 国 内 商 业 银 行 而 言 ，',\n",
       " 'tag': 'B-company I-company I-company I-company O O O O O B-name I-name I-name O O O O O O O O O O O O O O O O O O O O O O O O O O O O O O O O O O O O O O',\n",
       " 'raw_context': '浙商银行企业信贷部叶老桂博士则从另一个角度对五道门槛进行了解读。叶老桂认为，对目前国内商业银行而言，'}"
      ]
     },
     "execution_count": 6,
     "metadata": {},
     "output_type": "execute_result"
    }
   ],
   "source": [
    "data[0]"
   ]
  },
  {
   "cell_type": "code",
   "execution_count": 9,
   "id": "4f4ba6c3",
   "metadata": {},
   "outputs": [],
   "source": [
    "train_examples=[]\n",
    "for example in data:\n",
    "    seq_in=example['context'].strip().split(' ')\n",
    "    seq_out=example['tag'].strip().split(' ')\n",
    "    assert len(seq_in)==len(seq_out)\n",
    "    train_examples.append(InputExample(seq_in=seq_in,seq_out=seq_out))\n",
    "\n",
    "dev_examples=train_examples[-2000:]\n",
    "dev_seq_in=[]\n",
    "dev_seq_out=[]\n",
    "for example in dev_examples:\n",
    "    dev_seq_in.append(example.seq_in)\n",
    "    dev_seq_out.append(example.seq_out)\n",
    "train_examples=train_examples[:-2000]"
   ]
  },
  {
   "cell_type": "code",
   "execution_count": 10,
   "id": "9b961bd2",
   "metadata": {},
   "outputs": [],
   "source": [
    "# output_path=\"/data/nfs14/nfs/aisearch/asr/xhsun/CompetitionModel/tmp_ner\"\n",
    "# if not os.path.exists(os.path.join(output_path,'label2id.json')):\n",
    "label_set=set()\n",
    "for examples in data:\n",
    "    label_list=examples['tag'].strip().split(' ')\n",
    "    for label in label_list:\n",
    "        label_set.add(label)\n",
    "label2id={'[PAD]':0}\n",
    "for label in label_set:\n",
    "    label2id[label]=len(label2id)"
   ]
  },
  {
   "cell_type": "code",
   "execution_count": 11,
   "id": "bec8ac3c",
   "metadata": {},
   "outputs": [
    {
     "data": {
      "text/plain": [
       "{'[PAD]': 0,\n",
       " 'B-address': 1,\n",
       " 'S-company': 2,\n",
       " 'I-book': 3,\n",
       " 'I-government': 4,\n",
       " 'B-book': 5,\n",
       " 'O': 6,\n",
       " 'I-position': 7,\n",
       " 'B-scene': 8,\n",
       " 'S-position': 9,\n",
       " 'I-movie': 10,\n",
       " 'S-address': 11,\n",
       " 'B-game': 12,\n",
       " 'I-organization': 13,\n",
       " 'B-government': 14,\n",
       " 'I-address': 15,\n",
       " 'B-company': 16,\n",
       " 'I-scene': 17,\n",
       " 'B-name': 18,\n",
       " 'I-company': 19,\n",
       " 'I-game': 20,\n",
       " 'I-name': 21,\n",
       " 'B-movie': 22,\n",
       " 'B-organization': 23,\n",
       " 'B-position': 24,\n",
       " 'S-name': 25}"
      ]
     },
     "execution_count": 11,
     "metadata": {},
     "output_type": "execute_result"
    }
   ],
   "source": [
    "label2id"
   ]
  },
  {
   "cell_type": "code",
   "execution_count": 12,
   "id": "a00349df",
   "metadata": {},
   "outputs": [
    {
     "name": "stderr",
     "output_type": "stream",
     "text": [
      "2021-08-17 09:41:28 - INFO - __init__ - 40 : Load label2id from /data/nfs14/nfs/aisearch/asr/xhsun/CompetitionModel/tmp_ner/label2id.json\n",
      "2021-08-17 09:41:28 - INFO - __init__ - 56 : The label2id is\n",
      " {\"[PAD]\": 0, \"I-government\": 1, \"I-name\": 2, \"S-name\": 3, \"B-scene\": 4, \"S-company\": 5, \"B-game\": 6, \"I-company\": 7, \"O\": 8, \"I-position\": 9, \"B-address\": 10, \"B-name\": 11, \"B-company\": 12, \"I-game\": 13, \"I-movie\": 14, \"I-book\": 15, \"B-book\": 16, \"I-organization\": 17, \"B-position\": 18, \"I-scene\": 19, \"B-organization\": 20, \"S-address\": 21, \"B-government\": 22, \"B-movie\": 23, \"S-position\": 24, \"I-address\": 25}\n",
      "2021-08-17 09:41:28 - INFO - get_config_dict - 177 : loading configuration file /data/nfs14/nfs/aisearch/asr/xhsun/CompetitionModel/tmp_ner/BERT/config.json\n",
      "2021-08-17 09:41:28 - INFO - from_pretrained - 404 : loading bert model file /data/nfs14/nfs/aisearch/asr/xhsun/CompetitionModel/tmp_ner/BERT\n",
      "2021-08-17 09:41:28 - INFO - from_pretrained - 423 : BertConfig has been loaded from /data/nfs14/nfs/aisearch/asr/xhsun/CompetitionModel/tmp_ner/BERT/config.json\n",
      "2021-08-17 09:41:29 - INFO - from_pretrained - 124 : loading vocabulary file /data/nfs14/nfs/aisearch/asr/xhsun/CompetitionModel/tmp_ner/BERT/vocab.txt\n",
      "2021-08-17 09:41:29 - INFO - __init__ - 274 : Loading model from /data/nfs14/nfs/aisearch/asr/xhsun/CompetitionModel/tmp_ner/, which has been finetuned.\n",
      "2021-08-17 09:41:29 - INFO - __init__ - 75 : Using BiLSTM ? : False\n",
      "2021-08-17 09:41:29 - INFO - __init__ - 76 : Using CRF ? : True\n"
     ]
    }
   ],
   "source": [
    "model_path='/data/nfs14/nfs/aisearch/asr/xhsun/CompetitionModel/tmp_ner/'\n",
    "ner_model=Ner(model_path,label2id=None,use_crf=True,device='cpu',is_finetune=True)"
   ]
  },
  {
   "cell_type": "code",
   "execution_count": 12,
   "id": "6097b134",
   "metadata": {},
   "outputs": [
    {
     "name": "stderr",
     "output_type": "stream",
     "text": [
      "2021-08-16 15:39:05 - INFO - __init__ - 39 : Total evaluate nums : 2000\n",
      "2021-08-16 15:39:05 - INFO - __init__ - 40 : input is string : False, input is list : True\n",
      "2021-08-16 15:39:05 - INFO - __init__ - 41 : seq in and out like : \n",
      "['并', '且', '更', '有', '动', '力', '练', '习', 'W', 'A', 'R', '3', '，', '为', '一', '战', '成', '名', '而', '准', '备', '着', '，']\t['O', 'O', 'O', 'O', 'O', 'O', 'O', 'O', 'B-game', 'I-game', 'I-game', 'I-game', 'O', 'O', 'O', 'O', 'O', 'O', 'O', 'O', 'O', 'O', 'O']\n",
      "2021-08-16 15:39:05 - INFO - __init__ - 42 : In this evaluator, slot contains ([PAD] I-name I-game S-position B-book S-company I-movie B-scene O B-movie B-game I-position I-organization I-address I-scene I-government B-government B-organization B-company I-company B-name S-name B-address I-book S-address B-position)\n"
     ]
    }
   ],
   "source": [
    "from torch.utils.data import DataLoader\n",
    "batch_size=32\n",
    "train_dataloader = DataLoader(train_examples, shuffle=True, batch_size=batch_size)\n",
    "evaluator=nerEvaluator(label2id=label2id,seq_in=dev_seq_in,seq_out=dev_seq_out)"
   ]
  },
  {
   "cell_type": "code",
   "execution_count": 13,
   "id": "39e9c0ac",
   "metadata": {},
   "outputs": [
    {
     "data": {
      "text/plain": [
       "[711,\n",
       " 784,\n",
       " 720,\n",
       " 833,\n",
       " 1139,\n",
       " 4385,\n",
       " 163,\n",
       " 8171,\n",
       " 8334,\n",
       " 8197,\n",
       " 4638,\n",
       " 7309,\n",
       " 7579,\n",
       " 100,\n",
       " 136]"
      ]
     },
     "execution_count": 13,
     "metadata": {},
     "output_type": "execute_result"
    }
   ],
   "source": [
    "ner_model.model.tokenizer.convert_tokens_to_ids(ner_model.model.tokenizer.tokenize(\"为什么会出现UNJK的问题“?\"))"
   ]
  },
  {
   "cell_type": "code",
   "execution_count": 14,
   "id": "ffbe4fa9",
   "metadata": {},
   "outputs": [
    {
     "name": "stderr",
     "output_type": "stream",
     "text": [
      "2021-08-16 15:39:07 - INFO - fit - 163 : 一个epoch 下，每隔54个step会输出一次loss，每隔137个step会评估一次模型\n"
     ]
    },
    {
     "data": {
      "application/vnd.jupyter.widget-view+json": {
       "model_id": "083f176b157d45528cc5c9dde57254b9",
       "version_major": 2,
       "version_minor": 0
      },
      "text/plain": [
       "Epoch:   0%|          | 0/5 [00:00<?, ?it/s]"
      ]
     },
     "metadata": {},
     "output_type": "display_data"
    },
    {
     "data": {
      "application/vnd.jupyter.widget-view+json": {
       "model_id": "f6b0b1082e814be2aea4a4efb011ae5e",
       "version_major": 2,
       "version_minor": 0
      },
      "text/plain": [
       "0it [00:00, ?it/s]"
      ]
     },
     "metadata": {},
     "output_type": "display_data"
    },
    {
     "name": "stderr",
     "output_type": "stream",
     "text": [
      "2021-08-16 15:39:09 - INFO - __call__ - 59 : nerEvaluator: Evaluating the model on  dataset in epoch 0 after 1 steps:\n",
      "/root/miniconda3/envs/nlp_sr/lib/python3.6/site-packages/seqeval/metrics/sequence_labeling.py:171: UserWarning: [PAD] seems not to be NE tag.\n",
      "  warnings.warn('{} seems not to be NE tag.'.format(chunk))\n",
      "/root/miniconda3/envs/nlp_sr/lib/python3.6/site-packages/seqeval/metrics/v1.py:57: UndefinedMetricWarning: Recall and F-score are ill-defined and being set to 0.0 in labels with no true samples. Use `zero_division` parameter to control this behavior.\n",
      "  _warn_prf(average, modifier, msg_start, len(result))\n"
     ]
    },
    {
     "name": "stdout",
     "output_type": "stream",
     "text": [
      "              precision    recall  f1-score   support\n",
      "\n",
      "        PAD]     0.0000    0.0000    0.0000         0\n",
      "     address     0.0000    0.0000    0.0000       528\n",
      "        book     0.0000    0.0000    0.0000       193\n",
      "     company     0.0000    0.0000    0.0000       521\n",
      "        game     0.0012    0.0244    0.0023       409\n",
      "  government     0.0000    0.0000    0.0000       339\n",
      "       movie     0.0000    0.0000    0.0000       212\n",
      "        name     0.0000    0.0000    0.0000       700\n",
      "organization     0.0000    0.0000    0.0000       648\n",
      "    position     0.0000    0.0000    0.0000       584\n",
      "       scene     0.0000    0.0000    0.0000       270\n",
      "\n",
      "   micro avg     0.0002    0.0023    0.0003      4404\n",
      "   macro avg     0.0001    0.0022    0.0002      4404\n",
      "weighted avg     0.0001    0.0023    0.0002      4404\n",
      "\n"
     ]
    },
    {
     "name": "stderr",
     "output_type": "stream",
     "text": [
      "2021-08-16 15:39:32 - INFO - save_pretrained - 508 : Model weights saved in /data/nfs14/nfs/aisearch/asr/xhsun/CompetitionModel/tmp_ner/BERT/pytorch_model.bin\n",
      "2021-08-16 15:39:32 - INFO - save_pretrained - 150 : Configuration saved in /data/nfs14/nfs/aisearch/asr/xhsun/CompetitionModel/tmp_ner/BERT/config.json\n",
      "2021-08-16 15:39:32 - INFO - save_vocab - 51 : Vocab saved in /data/nfs14/nfs/aisearch/asr/xhsun/CompetitionModel/tmp_ner/BERT/vocab.txt\n",
      "2021-08-16 15:39:32 - INFO - fit - 238 : In epoch 0, training_step 0, the eval score is 0.00030071570337403015, previous eval score is -9999999, model has been saved in /data/nfs14/nfs/aisearch/asr/xhsun/CompetitionModel/tmp_ner\n",
      "2021-08-16 15:40:55 - INFO - fit - 216 : Epoch : 0, train_step : 54/1370, loss_value : 2.4964273925180787 \n",
      "2021-08-16 15:42:17 - INFO - fit - 216 : Epoch : 0, train_step : 108/1370, loss_value : 0.9397658170373352 \n",
      "2021-08-16 15:43:00 - INFO - __call__ - 59 : nerEvaluator: Evaluating the model on  dataset in epoch 0 after 138 steps:\n"
     ]
    },
    {
     "name": "stdout",
     "output_type": "stream",
     "text": [
      "              precision    recall  f1-score   support\n",
      "\n",
      "     address     0.1579    0.2917    0.2049       528\n",
      "        book     0.1623    0.1917    0.1758       193\n",
      "     company     0.4469    0.6468    0.5286       521\n",
      "        game     0.3253    0.3985    0.3582       409\n",
      "  government     0.2881    0.4012    0.3354       339\n",
      "       movie     0.3458    0.6085    0.4410       212\n",
      "        name     0.6798    0.8886    0.7703       700\n",
      "organization     0.6617    0.6883    0.6747       648\n",
      "    position     0.5210    0.5103    0.5156       584\n",
      "       scene     0.0754    0.1111    0.0898       270\n",
      "\n",
      "   micro avg     0.4012    0.5341    0.4582      4404\n",
      "   macro avg     0.3664    0.4737    0.4094      4404\n",
      "weighted avg     0.4271    0.5341    0.4707      4404\n",
      "\n"
     ]
    },
    {
     "name": "stderr",
     "output_type": "stream",
     "text": [
      "2021-08-16 15:43:22 - INFO - save_pretrained - 508 : Model weights saved in /data/nfs14/nfs/aisearch/asr/xhsun/CompetitionModel/tmp_ner/BERT/pytorch_model.bin\n",
      "2021-08-16 15:43:22 - INFO - save_pretrained - 150 : Configuration saved in /data/nfs14/nfs/aisearch/asr/xhsun/CompetitionModel/tmp_ner/BERT/config.json\n",
      "2021-08-16 15:43:22 - INFO - save_vocab - 51 : Vocab saved in /data/nfs14/nfs/aisearch/asr/xhsun/CompetitionModel/tmp_ner/BERT/vocab.txt\n",
      "2021-08-16 15:43:22 - INFO - fit - 238 : In epoch 0, training_step 137, the eval score is 0.4582115721800117, previous eval score is 0.00030071570337403015, model has been saved in /data/nfs14/nfs/aisearch/asr/xhsun/CompetitionModel/tmp_ner\n",
      "2021-08-16 15:43:59 - INFO - fit - 216 : Epoch : 0, train_step : 162/1370, loss_value : 0.44044450808454444 \n",
      "2021-08-16 15:45:18 - INFO - fit - 216 : Epoch : 0, train_step : 216/1370, loss_value : 0.29042251380505385 \n",
      "2021-08-16 15:46:36 - INFO - fit - 216 : Epoch : 0, train_step : 270/1370, loss_value : 0.25096650256050956 \n"
     ]
    },
    {
     "data": {
      "application/vnd.jupyter.widget-view+json": {
       "model_id": "70f50e8565dc44ffad92e3e82f91f73e",
       "version_major": 2,
       "version_minor": 0
      },
      "text/plain": [
       "0it [00:00, ?it/s]"
      ]
     },
     "metadata": {},
     "output_type": "display_data"
    },
    {
     "name": "stderr",
     "output_type": "stream",
     "text": [
      "2021-08-16 15:46:42 - INFO - __call__ - 59 : nerEvaluator: Evaluating the model on  dataset in epoch 1 after 1 steps:\n"
     ]
    },
    {
     "name": "stdout",
     "output_type": "stream",
     "text": [
      "              precision    recall  f1-score   support\n",
      "\n",
      "     address     0.4269    0.6193    0.5054       528\n",
      "        book     0.7233    0.7720    0.7469       193\n",
      "     company     0.6431    0.7505    0.6926       521\n",
      "        game     0.6848    0.7702    0.7250       409\n",
      "  government     0.5945    0.8348    0.6945       339\n",
      "       movie     0.7761    0.7358    0.7554       212\n",
      "        name     0.7811    0.8971    0.8351       700\n",
      "organization     0.7216    0.7562    0.7385       648\n",
      "    position     0.5907    0.7860    0.6745       584\n",
      "       scene     0.5598    0.5370    0.5482       270\n",
      "\n",
      "   micro avg     0.6385    0.7591    0.6936      4404\n",
      "   macro avg     0.6502    0.7459    0.6916      4404\n",
      "weighted avg     0.6487    0.7591    0.6969      4404\n",
      "\n"
     ]
    },
    {
     "name": "stderr",
     "output_type": "stream",
     "text": [
      "2021-08-16 15:47:05 - INFO - save_pretrained - 508 : Model weights saved in /data/nfs14/nfs/aisearch/asr/xhsun/CompetitionModel/tmp_ner/BERT/pytorch_model.bin\n",
      "2021-08-16 15:47:05 - INFO - save_pretrained - 150 : Configuration saved in /data/nfs14/nfs/aisearch/asr/xhsun/CompetitionModel/tmp_ner/BERT/config.json\n",
      "2021-08-16 15:47:05 - INFO - save_vocab - 51 : Vocab saved in /data/nfs14/nfs/aisearch/asr/xhsun/CompetitionModel/tmp_ner/BERT/vocab.txt\n",
      "2021-08-16 15:47:05 - INFO - fit - 238 : In epoch 1, training_step 0, the eval score is 0.6935684647302904, previous eval score is 0.4582115721800117, model has been saved in /data/nfs14/nfs/aisearch/asr/xhsun/CompetitionModel/tmp_ner\n",
      "2021-08-16 15:48:21 - INFO - fit - 216 : Epoch : 1, train_step : 108/1370, loss_value : 0.21624127264927934 \n",
      "2021-08-16 15:49:38 - INFO - fit - 216 : Epoch : 1, train_step : 216/1370, loss_value : 0.20587620553043154 \n",
      "2021-08-16 15:50:22 - INFO - __call__ - 59 : nerEvaluator: Evaluating the model on  dataset in epoch 1 after 138 steps:\n"
     ]
    },
    {
     "name": "stdout",
     "output_type": "stream",
     "text": [
      "              precision    recall  f1-score   support\n",
      "\n",
      "     address     0.4619    0.5398    0.4978       528\n",
      "        book     0.6548    0.8549    0.7416       193\n",
      "     company     0.6533    0.7812    0.7115       521\n",
      "        game     0.7296    0.7653    0.7470       409\n",
      "  government     0.6866    0.8466    0.7583       339\n",
      "       movie     0.7246    0.7075    0.7160       212\n",
      "        name     0.8077    0.9000    0.8514       700\n",
      "organization     0.8013    0.7593    0.7797       648\n",
      "    position     0.6671    0.7894    0.7231       584\n",
      "       scene     0.5199    0.7259    0.6059       270\n",
      "\n",
      "   micro avg     0.6761    0.7688    0.7195      4404\n",
      "   macro avg     0.6707    0.7670    0.7132      4404\n",
      "weighted avg     0.6835    0.7688    0.7217      4404\n",
      "\n"
     ]
    },
    {
     "name": "stderr",
     "output_type": "stream",
     "text": [
      "2021-08-16 15:50:44 - INFO - save_pretrained - 508 : Model weights saved in /data/nfs14/nfs/aisearch/asr/xhsun/CompetitionModel/tmp_ner/BERT/pytorch_model.bin\n",
      "2021-08-16 15:50:44 - INFO - save_pretrained - 150 : Configuration saved in /data/nfs14/nfs/aisearch/asr/xhsun/CompetitionModel/tmp_ner/BERT/config.json\n",
      "2021-08-16 15:50:44 - INFO - save_vocab - 51 : Vocab saved in /data/nfs14/nfs/aisearch/asr/xhsun/CompetitionModel/tmp_ner/BERT/vocab.txt\n",
      "2021-08-16 15:50:44 - INFO - fit - 238 : In epoch 1, training_step 274, the eval score is 0.7195070123246919, previous eval score is 0.6935684647302904, model has been saved in /data/nfs14/nfs/aisearch/asr/xhsun/CompetitionModel/tmp_ner\n",
      "2021-08-16 15:51:18 - INFO - fit - 216 : Epoch : 1, train_step : 324/1370, loss_value : 0.19467210148771605 \n",
      "2021-08-16 15:52:36 - INFO - fit - 216 : Epoch : 1, train_step : 432/1370, loss_value : 0.19225745096250815 \n",
      "2021-08-16 15:53:55 - INFO - fit - 216 : Epoch : 1, train_step : 540/1370, loss_value : 0.18047888880526577 \n"
     ]
    },
    {
     "data": {
      "application/vnd.jupyter.widget-view+json": {
       "model_id": "27cf1c92028d4637ac41717c7c85072d",
       "version_major": 2,
       "version_minor": 0
      },
      "text/plain": [
       "0it [00:00, ?it/s]"
      ]
     },
     "metadata": {},
     "output_type": "display_data"
    },
    {
     "name": "stderr",
     "output_type": "stream",
     "text": [
      "2021-08-16 15:54:01 - INFO - __call__ - 59 : nerEvaluator: Evaluating the model on  dataset in epoch 2 after 1 steps:\n"
     ]
    },
    {
     "name": "stdout",
     "output_type": "stream",
     "text": [
      "              precision    recall  f1-score   support\n",
      "\n",
      "     address     0.4918    0.5682    0.5272       528\n",
      "        book     0.6454    0.8394    0.7297       193\n",
      "     company     0.6391    0.7850    0.7046       521\n",
      "        game     0.7305    0.8484    0.7851       409\n",
      "  government     0.6644    0.8466    0.7445       339\n",
      "       movie     0.7343    0.7170    0.7255       212\n",
      "        name     0.8595    0.8829    0.8710       700\n",
      "organization     0.7052    0.8009    0.7500       648\n",
      "    position     0.6964    0.8014    0.7452       584\n",
      "       scene     0.6170    0.6444    0.6304       270\n",
      "\n",
      "   micro avg     0.6839    0.7802    0.7289      4404\n",
      "   macro avg     0.6784    0.7734    0.7213      4404\n",
      "weighted avg     0.6877    0.7802    0.7300      4404\n",
      "\n"
     ]
    },
    {
     "name": "stderr",
     "output_type": "stream",
     "text": [
      "2021-08-16 15:54:22 - INFO - save_pretrained - 508 : Model weights saved in /data/nfs14/nfs/aisearch/asr/xhsun/CompetitionModel/tmp_ner/BERT/pytorch_model.bin\n",
      "2021-08-16 15:54:22 - INFO - save_pretrained - 150 : Configuration saved in /data/nfs14/nfs/aisearch/asr/xhsun/CompetitionModel/tmp_ner/BERT/config.json\n",
      "2021-08-16 15:54:22 - INFO - save_vocab - 51 : Vocab saved in /data/nfs14/nfs/aisearch/asr/xhsun/CompetitionModel/tmp_ner/BERT/vocab.txt\n",
      "2021-08-16 15:54:22 - INFO - fit - 238 : In epoch 2, training_step 0, the eval score is 0.7288926601612218, previous eval score is 0.7195070123246919, model has been saved in /data/nfs14/nfs/aisearch/asr/xhsun/CompetitionModel/tmp_ner\n",
      "2021-08-16 15:55:39 - INFO - fit - 216 : Epoch : 2, train_step : 162/1370, loss_value : 0.14935374025393416 \n",
      "2021-08-16 15:56:56 - INFO - fit - 216 : Epoch : 2, train_step : 324/1370, loss_value : 0.1417187535100513 \n",
      "2021-08-16 15:57:39 - INFO - __call__ - 59 : nerEvaluator: Evaluating the model on  dataset in epoch 2 after 138 steps:\n"
     ]
    },
    {
     "name": "stdout",
     "output_type": "stream",
     "text": [
      "              precision    recall  f1-score   support\n",
      "\n",
      "     address     0.4815    0.5682    0.5213       528\n",
      "        book     0.6549    0.8653    0.7455       193\n",
      "     company     0.6501    0.8023    0.7182       521\n",
      "        game     0.7556    0.8313    0.7916       409\n",
      "  government     0.6752    0.8584    0.7558       339\n",
      "       movie     0.7514    0.6557    0.7003       212\n",
      "        name     0.8195    0.8886    0.8526       700\n",
      "organization     0.7776    0.7716    0.7746       648\n",
      "    position     0.6695    0.8082    0.7324       584\n",
      "       scene     0.5727    0.7000    0.6300       270\n",
      "\n",
      "   micro avg     0.6843    0.7807    0.7293      4404\n",
      "   macro avg     0.6808    0.7750    0.7222      4404\n",
      "weighted avg     0.6902    0.7807    0.7308      4404\n",
      "\n"
     ]
    },
    {
     "name": "stderr",
     "output_type": "stream",
     "text": [
      "2021-08-16 15:58:03 - INFO - save_pretrained - 508 : Model weights saved in /data/nfs14/nfs/aisearch/asr/xhsun/CompetitionModel/tmp_ner/BERT/pytorch_model.bin\n",
      "2021-08-16 15:58:03 - INFO - save_pretrained - 150 : Configuration saved in /data/nfs14/nfs/aisearch/asr/xhsun/CompetitionModel/tmp_ner/BERT/config.json\n",
      "2021-08-16 15:58:03 - INFO - save_vocab - 51 : Vocab saved in /data/nfs14/nfs/aisearch/asr/xhsun/CompetitionModel/tmp_ner/BERT/vocab.txt\n",
      "2021-08-16 15:58:03 - INFO - fit - 238 : In epoch 2, training_step 411, the eval score is 0.7293169282986849, previous eval score is 0.7288926601612218, model has been saved in /data/nfs14/nfs/aisearch/asr/xhsun/CompetitionModel/tmp_ner\n",
      "2021-08-16 15:58:37 - INFO - fit - 216 : Epoch : 2, train_step : 486/1370, loss_value : 0.13864906904874025 \n",
      "2021-08-16 15:59:55 - INFO - fit - 216 : Epoch : 2, train_step : 648/1370, loss_value : 0.1580821915909096 \n",
      "2021-08-16 16:01:12 - INFO - fit - 216 : Epoch : 2, train_step : 810/1370, loss_value : 0.14312886791648688 \n"
     ]
    },
    {
     "data": {
      "application/vnd.jupyter.widget-view+json": {
       "model_id": "cc4d0574a6e2413385dea8c043586281",
       "version_major": 2,
       "version_minor": 0
      },
      "text/plain": [
       "0it [00:00, ?it/s]"
      ]
     },
     "metadata": {},
     "output_type": "display_data"
    },
    {
     "name": "stderr",
     "output_type": "stream",
     "text": [
      "2021-08-16 16:01:18 - INFO - __call__ - 59 : nerEvaluator: Evaluating the model on  dataset in epoch 3 after 1 steps:\n"
     ]
    },
    {
     "name": "stdout",
     "output_type": "stream",
     "text": [
      "              precision    recall  f1-score   support\n",
      "\n",
      "     address     0.4968    0.5852    0.5374       528\n",
      "        book     0.7371    0.8135    0.7734       193\n",
      "     company     0.7127    0.7620    0.7365       521\n",
      "        game     0.7122    0.8411    0.7713       409\n",
      "  government     0.7167    0.8584    0.7812       339\n",
      "       movie     0.7183    0.7217    0.7200       212\n",
      "        name     0.8388    0.9071    0.8717       700\n",
      "organization     0.7571    0.8179    0.7864       648\n",
      "    position     0.7024    0.7962    0.7464       584\n",
      "       scene     0.6032    0.6926    0.6448       270\n",
      "\n",
      "   micro avg     0.7044    0.7875    0.7436      4404\n",
      "   macro avg     0.6996    0.7796    0.7369      4404\n",
      "weighted avg     0.7069    0.7875    0.7446      4404\n",
      "\n"
     ]
    },
    {
     "name": "stderr",
     "output_type": "stream",
     "text": [
      "2021-08-16 16:01:40 - INFO - save_pretrained - 508 : Model weights saved in /data/nfs14/nfs/aisearch/asr/xhsun/CompetitionModel/tmp_ner/BERT/pytorch_model.bin\n",
      "2021-08-16 16:01:40 - INFO - save_pretrained - 150 : Configuration saved in /data/nfs14/nfs/aisearch/asr/xhsun/CompetitionModel/tmp_ner/BERT/config.json\n",
      "2021-08-16 16:01:40 - INFO - save_vocab - 51 : Vocab saved in /data/nfs14/nfs/aisearch/asr/xhsun/CompetitionModel/tmp_ner/BERT/vocab.txt\n",
      "2021-08-16 16:01:40 - INFO - fit - 238 : In epoch 3, training_step 0, the eval score is 0.7436474750723706, previous eval score is 0.7293169282986849, model has been saved in /data/nfs14/nfs/aisearch/asr/xhsun/CompetitionModel/tmp_ner\n",
      "2021-08-16 16:02:57 - INFO - fit - 216 : Epoch : 3, train_step : 216/1370, loss_value : 0.11311661569332634 \n",
      "2021-08-16 16:04:16 - INFO - fit - 216 : Epoch : 3, train_step : 432/1370, loss_value : 0.11942574802648138 \n",
      "2021-08-16 16:04:59 - INFO - __call__ - 59 : nerEvaluator: Evaluating the model on  dataset in epoch 3 after 138 steps:\n",
      "2021-08-16 16:05:20 - INFO - fit - 242 : No improvement over previous best eval score (0.742564 vs 0.743647), patience = 9\n"
     ]
    },
    {
     "name": "stdout",
     "output_type": "stream",
     "text": [
      "              precision    recall  f1-score   support\n",
      "\n",
      "     address     0.5160    0.5814    0.5467       528\n",
      "        book     0.6510    0.8601    0.7411       193\n",
      "     company     0.6953    0.7927    0.7408       521\n",
      "        game     0.7582    0.8435    0.7986       409\n",
      "  government     0.6848    0.8525    0.7595       339\n",
      "       movie     0.7725    0.6887    0.7282       212\n",
      "        name     0.8519    0.8957    0.8733       700\n",
      "organization     0.7408    0.8117    0.7747       648\n",
      "    position     0.6908    0.7997    0.7413       584\n",
      "       scene     0.5935    0.6815    0.6345       270\n",
      "\n",
      "   micro avg     0.7021    0.7879    0.7426      4404\n",
      "   macro avg     0.6955    0.7808    0.7339      4404\n",
      "weighted avg     0.7054    0.7879    0.7433      4404\n",
      "\n"
     ]
    },
    {
     "name": "stderr",
     "output_type": "stream",
     "text": [
      "2021-08-16 16:05:55 - INFO - fit - 216 : Epoch : 3, train_step : 648/1370, loss_value : 0.11390565273662408 \n",
      "2021-08-16 16:07:16 - INFO - fit - 216 : Epoch : 3, train_step : 864/1370, loss_value : 0.1127172170413865 \n",
      "2021-08-16 16:08:37 - INFO - fit - 216 : Epoch : 3, train_step : 1080/1370, loss_value : 0.12240925610617355 \n"
     ]
    },
    {
     "data": {
      "application/vnd.jupyter.widget-view+json": {
       "model_id": "7cec67b73e914a2d82ee709cbeb249bb",
       "version_major": 2,
       "version_minor": 0
      },
      "text/plain": [
       "0it [00:00, ?it/s]"
      ]
     },
     "metadata": {},
     "output_type": "display_data"
    },
    {
     "name": "stderr",
     "output_type": "stream",
     "text": [
      "2021-08-16 16:08:44 - INFO - __call__ - 59 : nerEvaluator: Evaluating the model on  dataset in epoch 4 after 1 steps:\n"
     ]
    },
    {
     "name": "stdout",
     "output_type": "stream",
     "text": [
      "              precision    recall  f1-score   support\n",
      "\n",
      "     address     0.5263    0.6250    0.5714       528\n",
      "        book     0.7285    0.8342    0.7778       193\n",
      "     company     0.6972    0.7735    0.7334       521\n",
      "        game     0.7560    0.8411    0.7963       409\n",
      "  government     0.7179    0.8407    0.7745       339\n",
      "       movie     0.7895    0.7075    0.7463       212\n",
      "        name     0.8491    0.9000    0.8738       700\n",
      "organization     0.7657    0.8071    0.7859       648\n",
      "    position     0.6979    0.7911    0.7416       584\n",
      "       scene     0.6026    0.6852    0.6412       270\n",
      "\n",
      "   micro avg     0.7143    0.7886    0.7496      4404\n",
      "   macro avg     0.7131    0.7805    0.7442      4404\n",
      "weighted avg     0.7181    0.7886    0.7510      4404\n",
      "\n"
     ]
    },
    {
     "name": "stderr",
     "output_type": "stream",
     "text": [
      "2021-08-16 16:09:06 - INFO - save_pretrained - 508 : Model weights saved in /data/nfs14/nfs/aisearch/asr/xhsun/CompetitionModel/tmp_ner/BERT/pytorch_model.bin\n",
      "2021-08-16 16:09:06 - INFO - save_pretrained - 150 : Configuration saved in /data/nfs14/nfs/aisearch/asr/xhsun/CompetitionModel/tmp_ner/BERT/config.json\n",
      "2021-08-16 16:09:06 - INFO - save_vocab - 51 : Vocab saved in /data/nfs14/nfs/aisearch/asr/xhsun/CompetitionModel/tmp_ner/BERT/vocab.txt\n",
      "2021-08-16 16:09:06 - INFO - fit - 238 : In epoch 4, training_step 0, the eval score is 0.7496222749838117, previous eval score is 0.7436474750723706, model has been saved in /data/nfs14/nfs/aisearch/asr/xhsun/CompetitionModel/tmp_ner\n",
      "2021-08-16 16:10:27 - INFO - fit - 216 : Epoch : 4, train_step : 270/1370, loss_value : 0.0989733136224526 \n",
      "2021-08-16 16:11:49 - INFO - fit - 216 : Epoch : 4, train_step : 540/1370, loss_value : 0.09727128112205753 \n",
      "2021-08-16 16:12:35 - INFO - __call__ - 59 : nerEvaluator: Evaluating the model on  dataset in epoch 4 after 138 steps:\n",
      "2021-08-16 16:12:56 - INFO - fit - 242 : No improvement over previous best eval score (0.747639 vs 0.749622), patience = 8\n"
     ]
    },
    {
     "name": "stdout",
     "output_type": "stream",
     "text": [
      "              precision    recall  f1-score   support\n",
      "\n",
      "     address     0.5189    0.5985    0.5558       528\n",
      "        book     0.7500    0.8238    0.7852       193\n",
      "     company     0.7090    0.7716    0.7390       521\n",
      "        game     0.7345    0.8386    0.7831       409\n",
      "  government     0.7150    0.8437    0.7740       339\n",
      "       movie     0.7550    0.7123    0.7330       212\n",
      "        name     0.8581    0.9071    0.8819       700\n",
      "organization     0.7419    0.8117    0.7752       648\n",
      "    position     0.7029    0.8185    0.7563       584\n",
      "       scene     0.5663    0.6963    0.6246       270\n",
      "\n",
      "   micro avg     0.7087    0.7911    0.7476      4404\n",
      "   macro avg     0.7052    0.7822    0.7408      4404\n",
      "weighted avg     0.7120    0.7911    0.7489      4404\n",
      "\n"
     ]
    },
    {
     "name": "stderr",
     "output_type": "stream",
     "text": [
      "2021-08-16 16:13:32 - INFO - fit - 216 : Epoch : 4, train_step : 810/1370, loss_value : 0.10046491771936417 \n",
      "2021-08-16 16:14:54 - INFO - fit - 216 : Epoch : 4, train_step : 1080/1370, loss_value : 0.09524496306699735 \n",
      "2021-08-16 16:16:17 - INFO - fit - 216 : Epoch : 4, train_step : 1350/1370, loss_value : 0.09873104205837956 \n"
     ]
    }
   ],
   "source": [
    "ner_model.fit(train_dataloader=train_dataloader,evaluator=evaluator,epochs=5,\n",
    "              output_path='/data/nfs14/nfs/aisearch/asr/xhsun/CompetitionModel/tmp_ner')"
   ]
  },
  {
   "cell_type": "code",
   "execution_count": null,
   "id": "8c9c67e4",
   "metadata": {},
   "outputs": [],
   "source": [
    "dev_seq_out"
   ]
  },
  {
   "cell_type": "code",
   "execution_count": null,
   "id": "b4d14d23",
   "metadata": {},
   "outputs": [],
   "source": []
  },
  {
   "cell_type": "code",
   "execution_count": null,
   "id": "9e26f391",
   "metadata": {},
   "outputs": [],
   "source": []
  }
 ],
 "metadata": {
  "kernelspec": {
   "display_name": "Python 3",
   "language": "python",
   "name": "python3"
  },
  "language_info": {
   "codemirror_mode": {
    "name": "ipython",
    "version": 3
   },
   "file_extension": ".py",
   "mimetype": "text/x-python",
   "name": "python",
   "nbconvert_exporter": "python",
   "pygments_lexer": "ipython3",
   "version": "3.8.5"
  }
 },
 "nbformat": 4,
 "nbformat_minor": 5
}
