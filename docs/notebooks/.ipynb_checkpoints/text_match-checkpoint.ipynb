{
 "cells": [
  {
   "cell_type": "markdown",
   "id": "e0ff7ae0",
   "metadata": {},
   "source": [
    "# 导入包"
   ]
  },
  {
   "cell_type": "code",
   "execution_count": 1,
   "id": "f5ef970e",
   "metadata": {},
   "outputs": [
    {
     "name": "stdout",
     "output_type": "stream",
     "text": [
      "0.1.4\n"
     ]
    }
   ],
   "source": [
    "import sys,os\n",
    "from nlp_basictasks.webservices.sts_retrieve import RetrieveModel\n",
    "import nlp_basictasks\n",
    "print(nlp_basictasks.__version__)"
   ]
  },
  {
   "cell_type": "code",
   "execution_count": 3,
   "id": "91af3b00",
   "metadata": {},
   "outputs": [],
   "source": [
    "from nlp_basictasks.tasks import cls\n",
    "from nlp_basictasks.evaluation import pairclsEvaluator\n",
    "from nlp_basictasks.readers.paircls import getExamples"
   ]
  },
  {
   "cell_type": "markdown",
   "id": "ea668fd3",
   "metadata": {},
   "source": [
    "# 获取数据"
   ]
  },
  {
   "cell_type": "markdown",
   "id": "1b2f2ffa",
   "metadata": {},
   "source": [
    "实验所用数据集是常用的中文自然语言推理数据集lcqmc，来源http://icrc.hitsz.edu.cn/Article/show/171.html\n",
    "我们将所有句子都编码成一个vector然后建立索引"
   ]
  },
  {
   "cell_type": "code",
   "execution_count": 5,
   "id": "b122f471",
   "metadata": {},
   "outputs": [
    {
     "name": "stderr",
     "output_type": "stream",
     "text": [
      "2021-08-24 18:40:56 - INFO - getExamples - 112 : Heads like : text_a\ttext_b\tlabel\n",
      "\n",
      "2021-08-24 18:40:56 - INFO - getExamples - 119 : *****************************Logging some train examples*****************************\n",
      "2021-08-24 18:40:56 - INFO - getExamples - 120 : Total train nums is : 12500\n",
      "2021-08-24 18:40:56 - INFO - getExamples - 123 : 什么牌子的钢笔\t这钢笔什么牌子的\t0\n",
      "2021-08-24 18:40:56 - INFO - getExamples - 123 : 晚期肝癌有传染吗\t肝癌晚期传染吗\t1\n",
      "2021-08-24 18:40:56 - INFO - getExamples - 123 : 现在有什么新电影\t现在都有什么电影看？\t1\n",
      "2021-08-24 18:40:56 - INFO - getExamples - 123 : 有没有新的电影\t有没有很那个的电影\t0\n",
      "2021-08-24 18:40:56 - INFO - getExamples - 123 : 吃什么可以增强记忆力？\t吃什么能增强记忆力\t1\n"
     ]
    }
   ],
   "source": [
    "data_folder=data_folder='/data/nfs14/nfs/aisearch/asr/xhsun/datasets/lcqmc'\n",
    "label2id={\"0\":0,\"1\":1}\n",
    "train_examples=getExamples(os.path.join(data_folder,'lcqmc_test.tsv'),label2id=label2id,filter_heads=True)#我们只取少量的test.tsv作为训练"
   ]
  },
  {
   "cell_type": "code",
   "execution_count": 6,
   "id": "4c599160",
   "metadata": {},
   "outputs": [
    {
     "name": "stderr",
     "output_type": "stream",
     "text": [
      "2021-08-24 18:41:24 - INFO - getExamples - 112 : Heads like : text_a\ttext_b\tlabel\n",
      "\n",
      "2021-08-24 18:41:24 - INFO - getExamples - 119 : *****************************Logging some dev examples*****************************\n",
      "2021-08-24 18:41:24 - INFO - getExamples - 120 : Total dev nums is : 8802\n",
      "2021-08-24 18:41:24 - INFO - getExamples - 123 : 河南艺术职业学院的宿舍条件怎么样？\t郑州大学与河南艺术职业学院联办学生在哪上课啊？\t0\n",
      "2021-08-24 18:41:24 - INFO - getExamples - 123 : 世界上什么犬最凶猛啊\t世界上什么鱼最凶猛\t0\n",
      "2021-08-24 18:41:24 - INFO - getExamples - 123 : 好看的玄幻穿越小说推荐？\t有什么好看的穿越玄幻小说\t1\n",
      "2021-08-24 18:41:24 - INFO - getExamples - 123 : 大家给推荐一款移动硬盘，谢谢\t哪位高手给推荐一款移动硬盘啊？\t1\n",
      "2021-08-24 18:41:24 - INFO - getExamples - 123 : 平安夜什么时候送苹果\t平安夜什么时候吃苹果\t0\n",
      "2021-08-24 18:41:24 - INFO - getExamples - 112 : Heads like : text_a\ttext_b\tlabel\n",
      "\n",
      "2021-08-24 18:41:24 - INFO - getExamples - 119 : *****************************Logging some test examples*****************************\n",
      "2021-08-24 18:41:24 - INFO - getExamples - 120 : Total test nums is : 12500\n",
      "2021-08-24 18:41:24 - INFO - getExamples - 123 : 请为古诗配画\t古诗配画的图\t0\n",
      "2021-08-24 18:41:24 - INFO - getExamples - 123 : 用盐水洗脸可以祛痘吗\t用盐水洗脸能祛痘？\t1\n",
      "2021-08-24 18:41:24 - INFO - getExamples - 123 : 鲍鱼怎么做好吃？\t鲍鱼要怎么煮才好吃呢？\t1\n",
      "2021-08-24 18:41:24 - INFO - getExamples - 123 : 全民枪战怎么刷挂\t全民枪战如何飞\t0\n",
      "2021-08-24 18:41:24 - INFO - getExamples - 123 : 最流行得歌曲\t最流行的歌曲。\t1\n"
     ]
    }
   ],
   "source": [
    "dev_examples=getExamples(os.path.join(data_folder,'lcqmc_dev.tsv'),label2id=label2id,filter_heads=True,mode='dev')\n",
    "test_examples=getExamples(os.path.join(data_folder,'lcqmc_test.tsv'),label2id=label2id,filter_heads=True,mode='test')"
   ]
  },
  {
   "cell_type": "markdown",
   "id": "99e316a4",
   "metadata": {},
   "source": [
    "**时间关系仅取少量的test.tsv作为训练集，验证集不变**\n",
    "# 定义路径加载模型"
   ]
  },
  {
   "cell_type": "code",
   "execution_count": 7,
   "id": "ac832ad9",
   "metadata": {},
   "outputs": [
    {
     "name": "stderr",
     "output_type": "stream",
     "text": [
      "2021-08-24 18:43:00 - INFO - __init__ - 48 : The label2id is\n",
      " {\"0\": 0, \"1\": 1}\n",
      "2021-08-24 18:43:00 - INFO - __init__ - 58 : Loading model from /data/nfs14/nfs/aisearch/asr/xhsun/CommonModel/chinese-roberta-wwm/, which is from huggingface model\n",
      "2021-08-24 18:43:00 - INFO - get_config_dict - 177 : loading configuration file /data/nfs14/nfs/aisearch/asr/xhsun/CommonModel/chinese-roberta-wwm/config.json\n",
      "2021-08-24 18:43:00 - INFO - from_pretrained - 404 : loading bert model file /data/nfs14/nfs/aisearch/asr/xhsun/CommonModel/chinese-roberta-wwm/\n",
      "2021-08-24 18:43:00 - INFO - from_pretrained - 423 : BertConfig has been loaded from /data/nfs14/nfs/aisearch/asr/xhsun/CommonModel/chinese-roberta-wwm/config.json\n",
      "2021-08-24 18:43:02 - INFO - from_pretrained - 125 : loading vocabulary file /data/nfs14/nfs/aisearch/asr/xhsun/CommonModel/chinese-roberta-wwm/vocab.txt\n"
     ]
    }
   ],
   "source": [
    "model_path='/data/nfs14/nfs/aisearch/asr/xhsun/CommonModel/chinese-roberta-wwm/'\n",
    "paircls_model=cls(model_path=model_path,label2id=label2id,is_finetune=False,device='cpu')"
   ]
  },
  {
   "cell_type": "code",
   "execution_count": 8,
   "id": "f4a833ef",
   "metadata": {},
   "outputs": [
    {
     "name": "stdout",
     "output_type": "stream",
     "text": [
      "['开初婚未育证明怎么弄？', '初婚未育情况证明怎么开？'] 1\n"
     ]
    }
   ],
   "source": [
    "from torch.utils.data import DataLoader\n",
    "batch_size=32\n",
    "train_dataloader = DataLoader(train_examples, shuffle=True, batch_size=batch_size)\n",
    "dev_sentences=[example.text_list for example in dev_examples]\n",
    "dev_labels=[example.label for example in dev_examples]\n",
    "print(dev_sentences[0],dev_labels[0])"
   ]
  },
  {
   "cell_type": "code",
   "execution_count": 9,
   "id": "a305ba6d",
   "metadata": {},
   "outputs": [
    {
     "name": "stderr",
     "output_type": "stream",
     "text": [
      "2021-08-24 18:43:53 - INFO - __init__ - 29 : Evalautor sentence like : \n",
      "\n",
      "2021-08-24 18:43:53 - INFO - __init__ - 31 : 开初婚未育证明怎么弄？\t初婚未育情况证明怎么开？\t1\n",
      "\n",
      "2021-08-24 18:43:53 - INFO - __init__ - 31 : 谁知道她是网络美女吗？\t爱情这杯酒谁喝都会醉是什么歌\t0\n",
      "\n",
      "2021-08-24 18:43:53 - INFO - __init__ - 31 : 人和畜生的区别是什么？\t人与畜生的区别是什么！\t1\n",
      "\n",
      "2021-08-24 18:43:53 - INFO - __init__ - 31 : 男孩喝女孩的尿的故事\t怎样才知道是生男孩还是女孩\t0\n",
      "\n",
      "2021-08-24 18:43:53 - INFO - __init__ - 31 : 这种图片是用什么软件制作的？\t这种图片制作是用什么软件呢？\t1\n",
      "\n"
     ]
    }
   ],
   "source": [
    "evaluator=pairclsEvaluator(sentences_list=dev_sentences,labels=dev_labels,write_csv=False)#定义evaluator"
   ]
  },
  {
   "cell_type": "code",
   "execution_count": 10,
   "id": "bce5f8ef",
   "metadata": {},
   "outputs": [
    {
     "name": "stderr",
     "output_type": "stream",
     "text": [
      "2021-08-24 18:44:22 - INFO - fit - 105 : 当前是双句子分类任务\n",
      "2021-08-24 18:44:22 - INFO - fit - 113 : 一个epoch 下，每隔78个step会输出一次loss，每隔195个step会评估一次模型\n"
     ]
    },
    {
     "data": {
      "application/vnd.jupyter.widget-view+json": {
       "model_id": "f696ba0a46a3490faf06d1fb1b45c8fc",
       "version_major": 2,
       "version_minor": 0
      },
      "text/plain": [
       "HBox(children=(HTML(value='Epoch'), FloatProgress(value=0.0, max=5.0), HTML(value='')))"
      ]
     },
     "metadata": {},
     "output_type": "display_data"
    },
    {
     "data": {
      "application/vnd.jupyter.widget-view+json": {
       "model_id": "e5513e22c83f485fa659ed5cf89adbce",
       "version_major": 2,
       "version_minor": 0
      },
      "text/plain": [
       "HBox(children=(HTML(value=''), FloatProgress(value=1.0, bar_style='info', layout=Layout(width='20px'), max=1.0…"
      ]
     },
     "metadata": {},
     "output_type": "display_data"
    },
    {
     "name": "stderr",
     "output_type": "stream",
     "text": [
      "2021-08-24 18:44:25 - INFO - __call__ - 47 : pairclsEvaluator: Evaluating the model on  dataset in epoch 0 after 1 steps:\n",
      "2021-08-24 18:44:25 - INFO - predict - 224 : 当前是双句子分类任务预测\n"
     ]
    },
    {
     "data": {
      "application/vnd.jupyter.widget-view+json": {
       "model_id": "f53ca53d01ac42629adac12a745a75d1",
       "version_major": 2,
       "version_minor": 0
      },
      "text/plain": [
       "HBox(children=(HTML(value=''), FloatProgress(value=0.0, max=276.0), HTML(value='')))"
      ]
     },
     "metadata": {},
     "output_type": "display_data"
    },
    {
     "name": "stderr",
     "output_type": "stream",
     "text": [
      "2021-08-24 18:46:08 - INFO - __call__ - 54 : Accuracy: 0.500\n",
      "2021-08-24 18:46:08 - INFO - __call__ - 61 : AUC: 0.517\n"
     ]
    },
    {
     "name": "stdout",
     "output_type": "stream",
     "text": [
      "\n"
     ]
    },
    {
     "name": "stderr",
     "output_type": "stream",
     "text": [
      "2021-08-24 18:46:11 - INFO - save_pretrained - 509 : Model weights saved in /data/nfs14/nfs/aisearch/asr/xhsun/tmp_model/BERT/pytorch_model.bin\n",
      "2021-08-24 18:46:11 - INFO - save_pretrained - 150 : Configuration saved in /data/nfs14/nfs/aisearch/asr/xhsun/tmp_model/BERT/config.json\n",
      "2021-08-24 18:46:11 - INFO - save_vocab - 51 : Vocab saved in /data/nfs14/nfs/aisearch/asr/xhsun/tmp_model/BERT/vocab.txt\n",
      "2021-08-24 18:46:11 - INFO - fit - 188 : In epoch 0, training_step 0, the eval score is 0.5169321537730783, previous eval score is -9999999, model has been saved in /data/nfs14/nfs/aisearch/asr/xhsun/tmp_model/\n",
      "2021-08-24 18:47:37 - INFO - fit - 166 : Epoch : 0, train_step : 78/1955, loss_value : 0.7075658860879067 \n",
      "2021-08-24 18:49:03 - INFO - fit - 166 : Epoch : 0, train_step : 156/1955, loss_value : 0.5045266764668318 \n",
      "2021-08-24 18:49:47 - INFO - __call__ - 47 : pairclsEvaluator: Evaluating the model on  dataset in epoch 0 after 196 steps:\n",
      "2021-08-24 18:49:47 - INFO - predict - 224 : 当前是双句子分类任务预测\n"
     ]
    },
    {
     "data": {
      "application/vnd.jupyter.widget-view+json": {
       "model_id": "3b12b1eea47244d39e60cad9a0a43cc0",
       "version_major": 2,
       "version_minor": 0
      },
      "text/plain": [
       "HBox(children=(HTML(value=''), FloatProgress(value=0.0, max=276.0), HTML(value='')))"
      ]
     },
     "metadata": {},
     "output_type": "display_data"
    },
    {
     "name": "stderr",
     "output_type": "stream",
     "text": [
      "2021-08-24 18:51:06 - INFO - __call__ - 54 : Accuracy: 0.834\n",
      "2021-08-24 18:51:06 - INFO - __call__ - 61 : AUC: 0.916\n"
     ]
    },
    {
     "name": "stdout",
     "output_type": "stream",
     "text": [
      "\n"
     ]
    },
    {
     "name": "stderr",
     "output_type": "stream",
     "text": [
      "2021-08-24 18:51:10 - INFO - save_pretrained - 509 : Model weights saved in /data/nfs14/nfs/aisearch/asr/xhsun/tmp_model/BERT/pytorch_model.bin\n",
      "2021-08-24 18:51:10 - INFO - save_pretrained - 150 : Configuration saved in /data/nfs14/nfs/aisearch/asr/xhsun/tmp_model/BERT/config.json\n",
      "2021-08-24 18:51:10 - INFO - save_vocab - 51 : Vocab saved in /data/nfs14/nfs/aisearch/asr/xhsun/tmp_model/BERT/vocab.txt\n",
      "2021-08-24 18:51:10 - INFO - fit - 188 : In epoch 0, training_step 195, the eval score is 0.916214685473545, previous eval score is 0.5169321537730783, model has been saved in /data/nfs14/nfs/aisearch/asr/xhsun/tmp_model/\n",
      "2021-08-24 18:51:52 - INFO - fit - 166 : Epoch : 0, train_step : 234/1955, loss_value : 0.368937907119592 \n",
      "2021-08-24 18:53:19 - INFO - fit - 166 : Epoch : 0, train_step : 312/1955, loss_value : 0.3520948094053146 \n",
      "2021-08-24 18:54:45 - INFO - fit - 166 : Epoch : 0, train_step : 390/1955, loss_value : 0.3279661348041816 \n",
      "2021-08-24 18:54:45 - INFO - __call__ - 47 : pairclsEvaluator: Evaluating the model on  dataset in epoch 0 after 391 steps:\n",
      "2021-08-24 18:54:45 - INFO - predict - 224 : 当前是双句子分类任务预测\n"
     ]
    },
    {
     "data": {
      "application/vnd.jupyter.widget-view+json": {
       "model_id": "47162719350b4e888a03bd5405c89b7e",
       "version_major": 2,
       "version_minor": 0
      },
      "text/plain": [
       "HBox(children=(HTML(value=''), FloatProgress(value=0.0, max=276.0), HTML(value='')))"
      ]
     },
     "metadata": {},
     "output_type": "display_data"
    },
    {
     "name": "stderr",
     "output_type": "stream",
     "text": [
      "2021-08-24 18:56:04 - INFO - __call__ - 54 : Accuracy: 0.865\n",
      "2021-08-24 18:56:04 - INFO - __call__ - 61 : AUC: 0.944\n"
     ]
    },
    {
     "name": "stdout",
     "output_type": "stream",
     "text": [
      "\n"
     ]
    },
    {
     "name": "stderr",
     "output_type": "stream",
     "text": [
      "2021-08-24 18:56:07 - INFO - save_pretrained - 509 : Model weights saved in /data/nfs14/nfs/aisearch/asr/xhsun/tmp_model/BERT/pytorch_model.bin\n",
      "2021-08-24 18:56:07 - INFO - save_pretrained - 150 : Configuration saved in /data/nfs14/nfs/aisearch/asr/xhsun/tmp_model/BERT/config.json\n",
      "2021-08-24 18:56:07 - INFO - save_vocab - 51 : Vocab saved in /data/nfs14/nfs/aisearch/asr/xhsun/tmp_model/BERT/vocab.txt\n",
      "2021-08-24 18:56:07 - INFO - fit - 188 : In epoch 0, training_step 390, the eval score is 0.944485383709884, previous eval score is 0.916214685473545, model has been saved in /data/nfs14/nfs/aisearch/asr/xhsun/tmp_model/\n"
     ]
    },
    {
     "name": "stdout",
     "output_type": "stream",
     "text": [
      "\n"
     ]
    },
    {
     "data": {
      "application/vnd.jupyter.widget-view+json": {
       "model_id": "36ae4fdf305443029eb379778c65e66a",
       "version_major": 2,
       "version_minor": 0
      },
      "text/plain": [
       "HBox(children=(HTML(value=''), FloatProgress(value=1.0, bar_style='info', layout=Layout(width='20px'), max=1.0…"
      ]
     },
     "metadata": {},
     "output_type": "display_data"
    },
    {
     "name": "stderr",
     "output_type": "stream",
     "text": [
      "2021-08-24 18:56:08 - INFO - __call__ - 47 : pairclsEvaluator: Evaluating the model on  dataset in epoch 1 after 1 steps:\n",
      "2021-08-24 18:56:08 - INFO - predict - 224 : 当前是双句子分类任务预测\n"
     ]
    },
    {
     "data": {
      "application/vnd.jupyter.widget-view+json": {
       "model_id": "1220c92fa5394fb78b630510fae38b78",
       "version_major": 2,
       "version_minor": 0
      },
      "text/plain": [
       "HBox(children=(HTML(value=''), FloatProgress(value=0.0, max=276.0), HTML(value='')))"
      ]
     },
     "metadata": {},
     "output_type": "display_data"
    },
    {
     "name": "stderr",
     "output_type": "stream",
     "text": [
      "2021-08-24 18:57:27 - INFO - __call__ - 54 : Accuracy: 0.869\n",
      "2021-08-24 18:57:27 - INFO - __call__ - 61 : AUC: 0.945\n"
     ]
    },
    {
     "name": "stdout",
     "output_type": "stream",
     "text": [
      "\n"
     ]
    },
    {
     "name": "stderr",
     "output_type": "stream",
     "text": [
      "2021-08-24 18:57:30 - INFO - save_pretrained - 509 : Model weights saved in /data/nfs14/nfs/aisearch/asr/xhsun/tmp_model/BERT/pytorch_model.bin\n",
      "2021-08-24 18:57:30 - INFO - save_pretrained - 150 : Configuration saved in /data/nfs14/nfs/aisearch/asr/xhsun/tmp_model/BERT/config.json\n",
      "2021-08-24 18:57:30 - INFO - save_vocab - 51 : Vocab saved in /data/nfs14/nfs/aisearch/asr/xhsun/tmp_model/BERT/vocab.txt\n",
      "2021-08-24 18:57:30 - INFO - fit - 188 : In epoch 1, training_step 0, the eval score is 0.944555961133369, previous eval score is 0.944485383709884, model has been saved in /data/nfs14/nfs/aisearch/asr/xhsun/tmp_model/\n",
      "2021-08-24 18:58:55 - INFO - fit - 166 : Epoch : 1, train_step : 156/1955, loss_value : 0.2632224182478892 \n",
      "2021-08-24 19:00:22 - INFO - fit - 166 : Epoch : 1, train_step : 312/1955, loss_value : 0.2648088314976448 \n",
      "2021-08-24 19:01:06 - INFO - __call__ - 47 : pairclsEvaluator: Evaluating the model on  dataset in epoch 1 after 196 steps:\n",
      "2021-08-24 19:01:06 - INFO - predict - 224 : 当前是双句子分类任务预测\n"
     ]
    },
    {
     "data": {
      "application/vnd.jupyter.widget-view+json": {
       "model_id": "91b88ab2817a41ee9e30da1455adb91b",
       "version_major": 2,
       "version_minor": 0
      },
      "text/plain": [
       "HBox(children=(HTML(value=''), FloatProgress(value=0.0, max=276.0), HTML(value='')))"
      ]
     },
     "metadata": {},
     "output_type": "display_data"
    },
    {
     "name": "stdout",
     "output_type": "stream",
     "text": [
      "\n"
     ]
    },
    {
     "name": "stderr",
     "output_type": "stream",
     "text": [
      "2021-08-24 19:02:23 - INFO - __call__ - 54 : Accuracy: 0.865\n",
      "2021-08-24 19:02:23 - INFO - __call__ - 61 : AUC: 0.939\n",
      "2021-08-24 19:02:23 - INFO - fit - 192 : No improvement over previous best eval score (0.938774 vs 0.944556), patience = 9\n",
      "2021-08-24 19:03:06 - INFO - fit - 166 : Epoch : 1, train_step : 468/1955, loss_value : 0.2675937160085409 \n",
      "2021-08-24 19:04:34 - INFO - fit - 166 : Epoch : 1, train_step : 624/1955, loss_value : 0.27208781805940163 \n",
      "2021-08-24 19:06:00 - INFO - fit - 166 : Epoch : 1, train_step : 780/1955, loss_value : 0.25462631556468135 \n",
      "2021-08-24 19:06:02 - INFO - __call__ - 47 : pairclsEvaluator: Evaluating the model on  dataset in epoch 1 after 391 steps:\n",
      "2021-08-24 19:06:02 - INFO - predict - 224 : 当前是双句子分类任务预测\n"
     ]
    },
    {
     "data": {
      "application/vnd.jupyter.widget-view+json": {
       "model_id": "350bae46e1324c9e85ffb9c09bbf348d",
       "version_major": 2,
       "version_minor": 0
      },
      "text/plain": [
       "HBox(children=(HTML(value=''), FloatProgress(value=0.0, max=276.0), HTML(value='')))"
      ]
     },
     "metadata": {},
     "output_type": "display_data"
    },
    {
     "name": "stderr",
     "output_type": "stream",
     "text": [
      "2021-08-24 19:07:21 - INFO - __call__ - 54 : Accuracy: 0.876\n",
      "2021-08-24 19:07:21 - INFO - __call__ - 61 : AUC: 0.950\n"
     ]
    },
    {
     "name": "stdout",
     "output_type": "stream",
     "text": [
      "\n"
     ]
    },
    {
     "name": "stderr",
     "output_type": "stream",
     "text": [
      "2021-08-24 19:07:24 - INFO - save_pretrained - 509 : Model weights saved in /data/nfs14/nfs/aisearch/asr/xhsun/tmp_model/BERT/pytorch_model.bin\n",
      "2021-08-24 19:07:24 - INFO - save_pretrained - 150 : Configuration saved in /data/nfs14/nfs/aisearch/asr/xhsun/tmp_model/BERT/config.json\n",
      "2021-08-24 19:07:24 - INFO - save_vocab - 51 : Vocab saved in /data/nfs14/nfs/aisearch/asr/xhsun/tmp_model/BERT/vocab.txt\n",
      "2021-08-24 19:07:24 - INFO - fit - 188 : In epoch 1, training_step 780, the eval score is 0.9499973668993432, previous eval score is 0.944555961133369, model has been saved in /data/nfs14/nfs/aisearch/asr/xhsun/tmp_model/\n"
     ]
    },
    {
     "name": "stdout",
     "output_type": "stream",
     "text": [
      "\n"
     ]
    },
    {
     "data": {
      "application/vnd.jupyter.widget-view+json": {
       "model_id": "46fb40fb0c4844d284482437e3a7cefe",
       "version_major": 2,
       "version_minor": 0
      },
      "text/plain": [
       "HBox(children=(HTML(value=''), FloatProgress(value=1.0, bar_style='info', layout=Layout(width='20px'), max=1.0…"
      ]
     },
     "metadata": {},
     "output_type": "display_data"
    },
    {
     "name": "stderr",
     "output_type": "stream",
     "text": [
      "2021-08-24 19:07:25 - INFO - __call__ - 47 : pairclsEvaluator: Evaluating the model on  dataset in epoch 2 after 1 steps:\n",
      "2021-08-24 19:07:25 - INFO - predict - 224 : 当前是双句子分类任务预测\n"
     ]
    },
    {
     "data": {
      "application/vnd.jupyter.widget-view+json": {
       "model_id": "682f4db6ab774518bc020d2d214384e3",
       "version_major": 2,
       "version_minor": 0
      },
      "text/plain": [
       "HBox(children=(HTML(value=''), FloatProgress(value=0.0, max=276.0), HTML(value='')))"
      ]
     },
     "metadata": {},
     "output_type": "display_data"
    },
    {
     "name": "stderr",
     "output_type": "stream",
     "text": [
      "2021-08-24 19:08:42 - INFO - __call__ - 54 : Accuracy: 0.876\n",
      "2021-08-24 19:08:42 - INFO - __call__ - 61 : AUC: 0.950\n",
      "2021-08-24 19:08:42 - INFO - fit - 192 : No improvement over previous best eval score (0.949977 vs 0.949997), patience = 8\n"
     ]
    },
    {
     "name": "stdout",
     "output_type": "stream",
     "text": [
      "\n"
     ]
    },
    {
     "name": "stderr",
     "output_type": "stream",
     "text": [
      "2021-08-24 19:10:04 - INFO - fit - 166 : Epoch : 2, train_step : 234/1955, loss_value : 0.19369689198449636 \n",
      "2021-08-24 19:11:25 - INFO - fit - 166 : Epoch : 2, train_step : 468/1955, loss_value : 0.16246420689500296 \n",
      "2021-08-24 19:12:07 - INFO - __call__ - 47 : pairclsEvaluator: Evaluating the model on  dataset in epoch 2 after 196 steps:\n",
      "2021-08-24 19:12:07 - INFO - predict - 224 : 当前是双句子分类任务预测\n"
     ]
    },
    {
     "data": {
      "application/vnd.jupyter.widget-view+json": {
       "model_id": "9335f0525f3b40a58a8c12ec5fa1b9c5",
       "version_major": 2,
       "version_minor": 0
      },
      "text/plain": [
       "HBox(children=(HTML(value=''), FloatProgress(value=0.0, max=276.0), HTML(value='')))"
      ]
     },
     "metadata": {},
     "output_type": "display_data"
    },
    {
     "name": "stderr",
     "output_type": "stream",
     "text": [
      "2021-08-24 19:13:21 - INFO - __call__ - 54 : Accuracy: 0.872\n",
      "2021-08-24 19:13:21 - INFO - __call__ - 61 : AUC: 0.946\n",
      "2021-08-24 19:13:21 - INFO - fit - 192 : No improvement over previous best eval score (0.945962 vs 0.949997), patience = 7\n"
     ]
    },
    {
     "name": "stdout",
     "output_type": "stream",
     "text": [
      "\n"
     ]
    },
    {
     "name": "stderr",
     "output_type": "stream",
     "text": [
      "2021-08-24 19:14:01 - INFO - fit - 166 : Epoch : 2, train_step : 702/1955, loss_value : 0.16754175970951715 \n",
      "2021-08-24 19:15:21 - INFO - fit - 166 : Epoch : 2, train_step : 936/1955, loss_value : 0.1512217852883996 \n",
      "2021-08-24 19:16:42 - INFO - fit - 166 : Epoch : 2, train_step : 1170/1955, loss_value : 0.16533138249547052 \n",
      "2021-08-24 19:16:43 - INFO - __call__ - 47 : pairclsEvaluator: Evaluating the model on  dataset in epoch 2 after 391 steps:\n",
      "2021-08-24 19:16:43 - INFO - predict - 224 : 当前是双句子分类任务预测\n"
     ]
    },
    {
     "data": {
      "application/vnd.jupyter.widget-view+json": {
       "model_id": "08c10b9a020a4bb694d9b5b0bbeba7b0",
       "version_major": 2,
       "version_minor": 0
      },
      "text/plain": [
       "HBox(children=(HTML(value=''), FloatProgress(value=0.0, max=276.0), HTML(value='')))"
      ]
     },
     "metadata": {},
     "output_type": "display_data"
    },
    {
     "name": "stderr",
     "output_type": "stream",
     "text": [
      "2021-08-24 19:17:57 - INFO - __call__ - 54 : Accuracy: 0.877\n",
      "2021-08-24 19:17:57 - INFO - __call__ - 61 : AUC: 0.947\n",
      "2021-08-24 19:17:57 - INFO - fit - 192 : No improvement over previous best eval score (0.947390 vs 0.949997), patience = 6\n"
     ]
    },
    {
     "name": "stdout",
     "output_type": "stream",
     "text": [
      "\n",
      "\n"
     ]
    },
    {
     "data": {
      "application/vnd.jupyter.widget-view+json": {
       "model_id": "5e3b68b8f3c541c1b40cb1abfed20b76",
       "version_major": 2,
       "version_minor": 0
      },
      "text/plain": [
       "HBox(children=(HTML(value=''), FloatProgress(value=1.0, bar_style='info', layout=Layout(width='20px'), max=1.0…"
      ]
     },
     "metadata": {},
     "output_type": "display_data"
    },
    {
     "name": "stderr",
     "output_type": "stream",
     "text": [
      "2021-08-24 19:17:58 - INFO - __call__ - 47 : pairclsEvaluator: Evaluating the model on  dataset in epoch 3 after 1 steps:\n",
      "2021-08-24 19:17:58 - INFO - predict - 224 : 当前是双句子分类任务预测\n"
     ]
    },
    {
     "data": {
      "application/vnd.jupyter.widget-view+json": {
       "model_id": "2b487c5f35474976be5484fdc4326a1e",
       "version_major": 2,
       "version_minor": 0
      },
      "text/plain": [
       "HBox(children=(HTML(value=''), FloatProgress(value=0.0, max=276.0), HTML(value='')))"
      ]
     },
     "metadata": {},
     "output_type": "display_data"
    },
    {
     "name": "stdout",
     "output_type": "stream",
     "text": [
      "\n"
     ]
    },
    {
     "name": "stderr",
     "output_type": "stream",
     "text": [
      "2021-08-24 19:19:04 - INFO - __call__ - 54 : Accuracy: 0.879\n",
      "2021-08-24 19:19:04 - INFO - __call__ - 61 : AUC: 0.948\n",
      "2021-08-24 19:19:04 - INFO - fit - 192 : No improvement over previous best eval score (0.947596 vs 0.949997), patience = 5\n",
      "2021-08-24 19:20:23 - INFO - fit - 166 : Epoch : 3, train_step : 312/1955, loss_value : 0.10771579058984151 \n",
      "2021-08-24 19:21:43 - INFO - fit - 166 : Epoch : 3, train_step : 624/1955, loss_value : 0.10225451873161663 \n",
      "2021-08-24 19:22:24 - INFO - __call__ - 47 : pairclsEvaluator: Evaluating the model on  dataset in epoch 3 after 196 steps:\n",
      "2021-08-24 19:22:24 - INFO - predict - 224 : 当前是双句子分类任务预测\n"
     ]
    },
    {
     "data": {
      "application/vnd.jupyter.widget-view+json": {
       "model_id": "d827253b68a8478cab25e9a9e151bcea",
       "version_major": 2,
       "version_minor": 0
      },
      "text/plain": [
       "HBox(children=(HTML(value=''), FloatProgress(value=0.0, max=276.0), HTML(value='')))"
      ]
     },
     "metadata": {},
     "output_type": "display_data"
    },
    {
     "name": "stderr",
     "output_type": "stream",
     "text": [
      "2021-08-24 19:23:32 - INFO - __call__ - 54 : Accuracy: 0.880\n",
      "2021-08-24 19:23:32 - INFO - __call__ - 61 : AUC: 0.946\n",
      "2021-08-24 19:23:32 - INFO - fit - 192 : No improvement over previous best eval score (0.945644 vs 0.949997), patience = 4\n"
     ]
    },
    {
     "name": "stdout",
     "output_type": "stream",
     "text": [
      "\n"
     ]
    },
    {
     "name": "stderr",
     "output_type": "stream",
     "text": [
      "2021-08-24 19:24:12 - INFO - fit - 166 : Epoch : 3, train_step : 936/1955, loss_value : 0.11857840742987509 \n",
      "2021-08-24 19:25:32 - INFO - fit - 166 : Epoch : 3, train_step : 1248/1955, loss_value : 0.10916591070305842 \n",
      "2021-08-24 19:26:54 - INFO - fit - 166 : Epoch : 3, train_step : 1560/1955, loss_value : 0.10474475958527854 \n",
      "2021-08-24 19:26:55 - INFO - __call__ - 47 : pairclsEvaluator: Evaluating the model on  dataset in epoch 3 after 391 steps:\n",
      "2021-08-24 19:26:55 - INFO - predict - 224 : 当前是双句子分类任务预测\n"
     ]
    },
    {
     "data": {
      "application/vnd.jupyter.widget-view+json": {
       "model_id": "fcb3daa271434a1080eb6017b385226b",
       "version_major": 2,
       "version_minor": 0
      },
      "text/plain": [
       "HBox(children=(HTML(value=''), FloatProgress(value=0.0, max=276.0), HTML(value='')))"
      ]
     },
     "metadata": {},
     "output_type": "display_data"
    },
    {
     "name": "stderr",
     "output_type": "stream",
     "text": [
      "2021-08-24 19:28:03 - INFO - __call__ - 54 : Accuracy: 0.878\n",
      "2021-08-24 19:28:03 - INFO - __call__ - 61 : AUC: 0.946\n",
      "2021-08-24 19:28:03 - INFO - fit - 192 : No improvement over previous best eval score (0.945784 vs 0.949997), patience = 3\n"
     ]
    },
    {
     "name": "stdout",
     "output_type": "stream",
     "text": [
      "\n",
      "\n"
     ]
    },
    {
     "data": {
      "application/vnd.jupyter.widget-view+json": {
       "model_id": "a51e2b0dd3094ce3a88d4bd897e4e209",
       "version_major": 2,
       "version_minor": 0
      },
      "text/plain": [
       "HBox(children=(HTML(value=''), FloatProgress(value=1.0, bar_style='info', layout=Layout(width='20px'), max=1.0…"
      ]
     },
     "metadata": {},
     "output_type": "display_data"
    },
    {
     "name": "stderr",
     "output_type": "stream",
     "text": [
      "2021-08-24 19:28:05 - INFO - __call__ - 47 : pairclsEvaluator: Evaluating the model on  dataset in epoch 4 after 1 steps:\n",
      "2021-08-24 19:28:05 - INFO - predict - 224 : 当前是双句子分类任务预测\n"
     ]
    },
    {
     "data": {
      "application/vnd.jupyter.widget-view+json": {
       "model_id": "3003720d66fa4412989d31ffb87bff9b",
       "version_major": 2,
       "version_minor": 0
      },
      "text/plain": [
       "HBox(children=(HTML(value=''), FloatProgress(value=0.0, max=276.0), HTML(value='')))"
      ]
     },
     "metadata": {},
     "output_type": "display_data"
    },
    {
     "name": "stderr",
     "output_type": "stream",
     "text": [
      "2021-08-24 19:29:11 - INFO - __call__ - 54 : Accuracy: 0.878\n",
      "2021-08-24 19:29:11 - INFO - __call__ - 61 : AUC: 0.946\n",
      "2021-08-24 19:29:11 - INFO - fit - 192 : No improvement over previous best eval score (0.945767 vs 0.949997), patience = 2\n"
     ]
    },
    {
     "name": "stdout",
     "output_type": "stream",
     "text": [
      "\n"
     ]
    },
    {
     "name": "stderr",
     "output_type": "stream",
     "text": [
      "2021-08-24 19:30:32 - INFO - fit - 166 : Epoch : 4, train_step : 390/1955, loss_value : 0.07362668241004054 \n",
      "2021-08-24 19:31:56 - INFO - fit - 166 : Epoch : 4, train_step : 780/1955, loss_value : 0.06810263141643447 \n",
      "2021-08-24 19:32:39 - INFO - __call__ - 47 : pairclsEvaluator: Evaluating the model on  dataset in epoch 4 after 196 steps:\n",
      "2021-08-24 19:32:39 - INFO - predict - 224 : 当前是双句子分类任务预测\n"
     ]
    },
    {
     "data": {
      "application/vnd.jupyter.widget-view+json": {
       "model_id": "782d1489fc09417aa78e63033954c233",
       "version_major": 2,
       "version_minor": 0
      },
      "text/plain": [
       "HBox(children=(HTML(value=''), FloatProgress(value=0.0, max=276.0), HTML(value='')))"
      ]
     },
     "metadata": {},
     "output_type": "display_data"
    },
    {
     "name": "stderr",
     "output_type": "stream",
     "text": [
      "2021-08-24 19:33:49 - INFO - __call__ - 54 : Accuracy: 0.880\n",
      "2021-08-24 19:33:49 - INFO - __call__ - 61 : AUC: 0.945\n",
      "2021-08-24 19:33:49 - INFO - fit - 192 : No improvement over previous best eval score (0.945211 vs 0.949997), patience = 1\n"
     ]
    },
    {
     "name": "stdout",
     "output_type": "stream",
     "text": [
      "\n"
     ]
    },
    {
     "name": "stderr",
     "output_type": "stream",
     "text": [
      "2021-08-24 19:34:29 - INFO - fit - 166 : Epoch : 4, train_step : 1170/1955, loss_value : 0.06702947347329404 \n",
      "2021-08-24 19:35:54 - INFO - fit - 166 : Epoch : 4, train_step : 1560/1955, loss_value : 0.06655486435510027 \n",
      "2021-08-24 19:37:18 - INFO - fit - 166 : Epoch : 4, train_step : 1950/1955, loss_value : 0.07279081965008607 \n",
      "2021-08-24 19:37:18 - INFO - __call__ - 47 : pairclsEvaluator: Evaluating the model on  dataset in epoch 4 after 391 steps:\n",
      "2021-08-24 19:37:18 - INFO - predict - 224 : 当前是双句子分类任务预测\n"
     ]
    },
    {
     "data": {
      "application/vnd.jupyter.widget-view+json": {
       "model_id": "7ec13660eaaa424e8ba71949f183508e",
       "version_major": 2,
       "version_minor": 0
      },
      "text/plain": [
       "HBox(children=(HTML(value=''), FloatProgress(value=0.0, max=276.0), HTML(value='')))"
      ]
     },
     "metadata": {},
     "output_type": "display_data"
    },
    {
     "name": "stderr",
     "output_type": "stream",
     "text": [
      "2021-08-24 19:38:27 - INFO - __call__ - 54 : Accuracy: 0.881\n",
      "2021-08-24 19:38:27 - INFO - __call__ - 61 : AUC: 0.945\n",
      "2021-08-24 19:38:27 - INFO - fit - 192 : No improvement over previous best eval score (0.945254 vs 0.949997), patience = 0\n",
      "2021-08-24 19:38:27 - INFO - fit - 194 : Run our of patience, early stop!\n"
     ]
    },
    {
     "name": "stdout",
     "output_type": "stream",
     "text": [
      "\n",
      "\n",
      "\n"
     ]
    }
   ],
   "source": [
    "paircls_model.fit(is_pairs=True,train_dataloader=train_dataloader,evaluator=evaluator,epochs=5,\n",
    "                  output_path='/data/nfs14/nfs/aisearch/asr/xhsun/tmp_model/')"
   ]
  },
  {
   "cell_type": "markdown",
   "id": "55478e9f",
   "metadata": {},
   "source": [
    "**is_pairs用来指明当前是双句子分类任务，不是单句子分类任务**"
   ]
  },
  {
   "cell_type": "markdown",
   "id": "d5f7aea7",
   "metadata": {},
   "source": [
    "# 测试模型"
   ]
  },
  {
   "cell_type": "code",
   "execution_count": 18,
   "id": "9bd73ff5",
   "metadata": {},
   "outputs": [
    {
     "name": "stderr",
     "output_type": "stream",
     "text": [
      "2021-08-24 20:05:55 - INFO - predict - 224 : 当前是双句子分类任务预测\n"
     ]
    },
    {
     "data": {
      "application/vnd.jupyter.widget-view+json": {
       "model_id": "391c2868545f4b5e9a49e17513c7d1f7",
       "version_major": 2,
       "version_minor": 0
      },
      "text/plain": [
       "HBox(children=(HTML(value=''), FloatProgress(value=0.0, max=1.0), HTML(value='')))"
      ]
     },
     "metadata": {},
     "output_type": "display_data"
    },
    {
     "name": "stdout",
     "output_type": "stream",
     "text": [
      "\n",
      "['1', '0']\n"
     ]
    }
   ],
   "source": [
    "import numpy as np\n",
    "predict_probs=paircls_model.predict(is_pairs=True,dataloader=[['今年的世界杯不是那么好看','今年的世界杯一点也不好'],\n",
    "                                                               ['心各有所属是什么意思？','心有所属是什么意思?']])\n",
    "id2label={id_:label for label,id_ in label2id.items()}\n",
    "predict_tags=[id2label[id_] for id_ in np.argmax(predict_probs,axis=1)]\n",
    "print(predict_tags)"
   ]
  }
 ],
 "metadata": {
  "kernelspec": {
   "display_name": "Python 3",
   "language": "python",
   "name": "python3"
  },
  "language_info": {
   "codemirror_mode": {
    "name": "ipython",
    "version": 3
   },
   "file_extension": ".py",
   "mimetype": "text/x-python",
   "name": "python",
   "nbconvert_exporter": "python",
   "pygments_lexer": "ipython3",
   "version": "3.8.5"
  }
 },
 "nbformat": 4,
 "nbformat_minor": 5
}
