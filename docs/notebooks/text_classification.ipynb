{
 "cells": [
  {
   "cell_type": "markdown",
   "id": "540e7f49",
   "metadata": {},
   "source": [
    "# 数据集介绍"
   ]
  },
  {
   "cell_type": "markdown",
   "id": "a74ef266",
   "metadata": {},
   "source": [
    "数据集类型是微博情感分类 \n",
    "\n",
    "来源https://github.com/SophonPlus/ChineseNlpCorpus/blob/master/datasets/weibo_senti_100k/intro.ipynb"
   ]
  },
  {
   "cell_type": "code",
   "execution_count": 1,
   "id": "2c5e690a",
   "metadata": {},
   "outputs": [],
   "source": [
    "import sys,os\n",
    "import pandas as pd\n",
    "import random\n",
    "import numpy as np\n",
    "#from nlp_basictasks.tasks import cls\n",
    "#from nlp_basictasks.evaluation import clsEvaluator"
   ]
  },
  {
   "cell_type": "code",
   "execution_count": 2,
   "id": "7d3cdb4a",
   "metadata": {},
   "outputs": [
    {
     "name": "stdout",
     "output_type": "stream",
     "text": [
      "['/root/NLP_warehouse/nlp-basictasks/docs/notebooks', '/root/miniconda3/lib/python38.zip', '/root/miniconda3/lib/python3.8', '/root/miniconda3/lib/python3.8/lib-dynload', '', '/root/.local/lib/python3.8/site-packages', '/root/miniconda3/lib/python3.8/site-packages', '/root/miniconda3/lib/python3.8/site-packages/IPython/extensions', '/root/.ipython', '/root/NLP_warehouse/nlp-basictasks']\n",
      "Better speed can be achieved with apex installed from https://www.github.com/nvidia/apex.\n",
      "Better speed can be achieved with apex installed from https://www.github.com/nvidia/apex.\n"
     ]
    }
   ],
   "source": [
    "module_path=os.path.abspath('/root/NLP_warehouse/nlp-basictasks/')\n",
    "if module_path not in sys.path:\n",
    "    sys.path.append(module_path)\n",
    "print(sys.path)\n",
    "from nlp_basictasks.tasks import cls\n",
    "from nlp_basictasks.evaluation import clsEvaluator\n",
    "from nlp_basictasks.readers.cls import getExamplesFromData"
   ]
  },
  {
   "cell_type": "code",
   "execution_count": 3,
   "id": "0cebfab9",
   "metadata": {},
   "outputs": [
    {
     "name": "stdout",
     "output_type": "stream",
     "text": [
      "评论数目（总体）：119988\n",
      "评论数目（正向）：59993\n",
      "评论数目（负向）：59995\n"
     ]
    }
   ],
   "source": [
    "data_path='/data/nfs14/nfs/aisearch/asr/xhsun/datasets/weibo_senti_100k.csv'\n",
    "pd_all = pd.read_csv(data_path)\n",
    "\n",
    "print('评论数目（总体）：%d' % pd_all.shape[0])\n",
    "print('评论数目（正向）：%d' % pd_all[pd_all.label==1].shape[0])\n",
    "print('评论数目（负向）：%d' % pd_all[pd_all.label==0].shape[0])"
   ]
  },
  {
   "cell_type": "code",
   "execution_count": 4,
   "id": "bc368d2f",
   "metadata": {},
   "outputs": [
    {
     "data": {
      "text/html": [
       "<div>\n",
       "<style scoped>\n",
       "    .dataframe tbody tr th:only-of-type {\n",
       "        vertical-align: middle;\n",
       "    }\n",
       "\n",
       "    .dataframe tbody tr th {\n",
       "        vertical-align: top;\n",
       "    }\n",
       "\n",
       "    .dataframe thead th {\n",
       "        text-align: right;\n",
       "    }\n",
       "</style>\n",
       "<table border=\"1\" class=\"dataframe\">\n",
       "  <thead>\n",
       "    <tr style=\"text-align: right;\">\n",
       "      <th></th>\n",
       "      <th>label</th>\n",
       "      <th>review</th>\n",
       "    </tr>\n",
       "  </thead>\n",
       "  <tbody>\n",
       "    <tr>\n",
       "      <th>40196</th>\n",
       "      <td>1</td>\n",
       "      <td>欢迎投稿，杂志博客上也可以了解到约稿信息[噢耶]//@雨蝶昌旭: 哈哈我要投稿[嘻嘻]//@...</td>\n",
       "    </tr>\n",
       "    <tr>\n",
       "      <th>102557</th>\n",
       "      <td>0</td>\n",
       "      <td>这招狠[衰]</td>\n",
       "    </tr>\n",
       "    <tr>\n",
       "      <th>5207</th>\n",
       "      <td>1</td>\n",
       "      <td>#尚雯婕恩赐之地# [心]//@姐夫王: 一切唯尚? 尚尚签?[嘻嘻][嘻嘻][嘻嘻]</td>\n",
       "    </tr>\n",
       "    <tr>\n",
       "      <th>23962</th>\n",
       "      <td>1</td>\n",
       "      <td>豆姐，昨天到庐山拍摄中，需要一个包包你看着办[嘻嘻][嘻嘻][嘻嘻] //@无须豆蔻:正在考...</td>\n",
       "    </tr>\n",
       "    <tr>\n",
       "      <th>96883</th>\n",
       "      <td>0</td>\n",
       "      <td>好好再检查一遍，别草草交卷[笑哈哈] //@?丽_Alice:[抓狂]也很抓狂，快救我，要屎...</td>\n",
       "    </tr>\n",
       "    <tr>\n",
       "      <th>110283</th>\n",
       "      <td>0</td>\n",
       "      <td>看十年前的样子就不难明白为什么现在如此夸张了~眼神一样的挑逗//@微相册: 这位美女是谁呀~...</td>\n",
       "    </tr>\n",
       "    <tr>\n",
       "      <th>51707</th>\n",
       "      <td>1</td>\n",
       "      <td>幸福胜地！烂漫无比！爱在CJW~~~[可爱][心]</td>\n",
       "    </tr>\n",
       "    <tr>\n",
       "      <th>88072</th>\n",
       "      <td>0</td>\n",
       "      <td>//@社交礼仪顾问: 小妹妹，你这么潮叫姐姐们“情何以堪”啊！[抓狂]</td>\n",
       "    </tr>\n",
       "    <tr>\n",
       "      <th>61595</th>\n",
       "      <td>0</td>\n",
       "      <td>回复@deinos-Saurosc:所以要再吃其他的。 //@deinos-Saurosc:...</td>\n",
       "    </tr>\n",
       "    <tr>\n",
       "      <th>112102</th>\n",
       "      <td>0</td>\n",
       "      <td>@晴晴_apple @可能的世界C小窝 @m265 [泪]//@水瓶座蜜语: [抓狂]</td>\n",
       "    </tr>\n",
       "    <tr>\n",
       "      <th>103521</th>\n",
       "      <td>0</td>\n",
       "      <td>[衰[衰]不是人人都行的。 //@老刘快板: [衰]//@小静子Caro: [衰]</td>\n",
       "    </tr>\n",
       "    <tr>\n",
       "      <th>44153</th>\n",
       "      <td>1</td>\n",
       "      <td>桑子哟，有了呀！[嘻嘻]//@海萍11211: 已经有嗓子卖了呀 //@俺叫老鬼:回复@阿依...</td>\n",
       "    </tr>\n",
       "    <tr>\n",
       "      <th>82688</th>\n",
       "      <td>0</td>\n",
       "      <td>[抓狂]看着就冷</td>\n",
       "    </tr>\n",
       "    <tr>\n",
       "      <th>37366</th>\n",
       "      <td>1</td>\n",
       "      <td>很实在//@数字出版任翔: [嘻嘻][赞]</td>\n",
       "    </tr>\n",
       "    <tr>\n",
       "      <th>112794</th>\n",
       "      <td>0</td>\n",
       "      <td>那怎个不用两句Chinese给他们答案 //@圆圈儿优品:开着玛莎，竟然听到路边人的议论，他...</td>\n",
       "    </tr>\n",
       "    <tr>\n",
       "      <th>48193</th>\n",
       "      <td>1</td>\n",
       "      <td>//@沈婵娟:[鼓掌]迷人的亚洲美皇后，期待暑期各大卫视的精彩上映@李慧美Mable @造型...</td>\n",
       "    </tr>\n",
       "    <tr>\n",
       "      <th>109656</th>\n",
       "      <td>0</td>\n",
       "      <td>#北京曝光#【太残忍了！！！哎，可怜[泪][衰]】@临临Lynn：北极熊在这样的环境里一圈圈...</td>\n",
       "    </tr>\n",
       "    <tr>\n",
       "      <th>57739</th>\n",
       "      <td>1</td>\n",
       "      <td>我的熊越?越多啦!!!!!![鼓掌] ??大家</td>\n",
       "    </tr>\n",
       "    <tr>\n",
       "      <th>106019</th>\n",
       "      <td>0</td>\n",
       "      <td>回复@加非熊:木钱[泪] //@加非熊:表示对自己这次的奖励，来个吧 //@kobeyu8:...</td>\n",
       "    </tr>\n",
       "    <tr>\n",
       "      <th>12830</th>\n",
       "      <td>1</td>\n",
       "      <td>@kevin-薛 亲，干嘛呢？哥突然想你了，话说你该我顿酒哈，不能忘喔[哈哈][哈哈]</td>\n",
       "    </tr>\n",
       "  </tbody>\n",
       "</table>\n",
       "</div>"
      ],
      "text/plain": [
       "        label                                             review\n",
       "40196       1  欢迎投稿，杂志博客上也可以了解到约稿信息[噢耶]//@雨蝶昌旭: 哈哈我要投稿[嘻嘻]//@...\n",
       "102557      0                                             这招狠[衰]\n",
       "5207        1        #尚雯婕恩赐之地# [心]//@姐夫王: 一切唯尚? 尚尚签?[嘻嘻][嘻嘻][嘻嘻]\n",
       "23962       1  豆姐，昨天到庐山拍摄中，需要一个包包你看着办[嘻嘻][嘻嘻][嘻嘻] //@无须豆蔻:正在考...\n",
       "96883       0  好好再检查一遍，别草草交卷[笑哈哈] //@?丽_Alice:[抓狂]也很抓狂，快救我，要屎...\n",
       "110283      0  看十年前的样子就不难明白为什么现在如此夸张了~眼神一样的挑逗//@微相册: 这位美女是谁呀~...\n",
       "51707       1                          幸福胜地！烂漫无比！爱在CJW~~~[可爱][心]\n",
       "88072       0                //@社交礼仪顾问: 小妹妹，你这么潮叫姐姐们“情何以堪”啊！[抓狂]\n",
       "61595       0  回复@deinos-Saurosc:所以要再吃其他的。 //@deinos-Saurosc:...\n",
       "112102      0        @晴晴_apple @可能的世界C小窝 @m265 [泪]//@水瓶座蜜语: [抓狂]\n",
       "103521      0          [衰[衰]不是人人都行的。 //@老刘快板: [衰]//@小静子Caro: [衰]\n",
       "44153       1  桑子哟，有了呀！[嘻嘻]//@海萍11211: 已经有嗓子卖了呀 //@俺叫老鬼:回复@阿依...\n",
       "82688       0                                           [抓狂]看着就冷\n",
       "37366       1                              很实在//@数字出版任翔: [嘻嘻][赞]\n",
       "112794      0  那怎个不用两句Chinese给他们答案 //@圆圈儿优品:开着玛莎，竟然听到路边人的议论，他...\n",
       "48193       1  //@沈婵娟:[鼓掌]迷人的亚洲美皇后，期待暑期各大卫视的精彩上映@李慧美Mable @造型...\n",
       "109656      0  #北京曝光#【太残忍了！！！哎，可怜[泪][衰]】@临临Lynn：北极熊在这样的环境里一圈圈...\n",
       "57739       1                            我的熊越?越多啦!!!!!![鼓掌] ??大家\n",
       "106019      0  回复@加非熊:木钱[泪] //@加非熊:表示对自己这次的奖励，来个吧 //@kobeyu8:...\n",
       "12830       1        @kevin-薛 亲，干嘛呢？哥突然想你了，话说你该我顿酒哈，不能忘喔[哈哈][哈哈]"
      ]
     },
     "execution_count": 4,
     "metadata": {},
     "output_type": "execute_result"
    }
   ],
   "source": [
    "pd_all.sample(20)"
   ]
  },
  {
   "cell_type": "code",
   "execution_count": 5,
   "id": "94faee42",
   "metadata": {},
   "outputs": [
    {
     "name": "stdout",
     "output_type": "stream",
     "text": [
      "119988\n"
     ]
    }
   ],
   "source": [
    "print(len(pd_all))\n",
    "random_idx=np.random.permutation(len(pd_all))"
   ]
  },
  {
   "cell_type": "code",
   "execution_count": 9,
   "id": "2e976976",
   "metadata": {},
   "outputs": [
    {
     "name": "stdout",
     "output_type": "stream",
     "text": [
      "20000 20000\n"
     ]
    }
   ],
   "source": [
    "sentences=pd_all['review'].values[random_idx].tolist()[:20000]\n",
    "labels=pd_all['label'].values[random_idx].tolist()[:20000]\n",
    "print(len(sentences),len(labels))\n",
    "random_idx=np.random.permutation(len(sentences))"
   ]
  },
  {
   "cell_type": "code",
   "execution_count": 10,
   "id": "a559f866",
   "metadata": {},
   "outputs": [
    {
     "name": "stderr",
     "output_type": "stream",
     "text": [
      "2021-08-23 09:51:21 - INFO - getExamplesFromData - 128 : *****************************Logging some train examples*****************************\n",
      "2021-08-23 09:51:21 - INFO - getExamplesFromData - 129 : Total train nums is : 16000\n",
      "2021-08-23 09:51:21 - INFO - getExamplesFromData - 132 : \n",
      "好的！等着你的读后分享和旅台见闻[哈哈]\t1\n",
      "2021-08-23 09:51:21 - INFO - getExamplesFromData - 132 : \n",
      "[晕] //@好小宁:哈哈哈哈@铮子\t0\n",
      "2021-08-23 09:51:21 - INFO - getExamplesFromData - 132 : \n",
      "这个可以有//@-罗大宁宁的小学妹er--: 是不是傻哈哈哈[哈哈]\t1\n",
      "2021-08-23 09:51:21 - INFO - getExamplesFromData - 132 : \n",
      "[嘻嘻]//@出版人牧原: [哈哈]见解独到！\t1\n",
      "2021-08-23 09:51:21 - INFO - getExamplesFromData - 132 : \n",
      "回复@Shirley岩岩:#咖啡好书大集合#其实星巴克很多书写的过于浅显和表面化，参考价值不大，建议如下组合：@参差咖啡 的梦+《就想来家咖啡馆》的现实+@齐鸣BCC 的专业技能书+多去泡咖啡馆+多和咖啡师聊聊天，就是最佳的咖啡馆创业途径！[哈哈][馋嘴]\t1\n",
      "2021-08-23 09:51:21 - INFO - getExamplesFromData - 128 : *****************************Logging some dev examples*****************************\n",
      "2021-08-23 09:51:21 - INFO - getExamplesFromData - 129 : Total dev nums is : 4000\n",
      "2021-08-23 09:51:21 - INFO - getExamplesFromData - 132 : \n",
      "据说上班族是这样描述一周的。[晕]\t0\n",
      "2021-08-23 09:51:21 - INFO - getExamplesFromData - 132 : \n",
      "白天睡多了，晚上就开始折腾[汗]让我睡觉吧[抓狂]\t0\n",
      "2021-08-23 09:51:21 - INFO - getExamplesFromData - 132 : \n",
      "//@冷笑话精选：真是救星，赶紧试试！[太开心]\t1\n",
      "2021-08-23 09:51:21 - INFO - getExamplesFromData - 132 : \n",
      "如果是关于麦当劳 我最应该报警 哈哈哈哈哈  //@张圣妍:麦当当的咖啡喝完睡不着，报警...警察伯伯好忙[哈哈]~ //@jackey怀念在SK跳舞的日子:海贼王没集齐，要报警！@小?zj //@小文要微笑:薯条太咸都要报警！ //@YisunDeng:麦当劳叔叔个样吓亲我！报警！\t1\n",
      "2021-08-23 09:51:21 - INFO - getExamplesFromData - 132 : \n",
      "从小就吃惯了，也最爱的老爸拿手湖南家常菜，豆豉辣椒蒸鲩鱼。这么多年味道没变依然每次都打动我的味蕾。早年间地安门老马凯有这道菜，现在也没了，只能吃老爸的手艺了……这道菜我自己会做，但也已多年未做了，我这厨艺啊，真快退步殆尽了。[泪][泪][泪][泪]\t0\n"
     ]
    },
    {
     "name": "stdout",
     "output_type": "stream",
     "text": [
      "4000\n"
     ]
    }
   ],
   "source": [
    "label2id={'0':0,'1':1}\n",
    "dev_ratio=0.2\n",
    "dev_nums=int(len(sentences)*dev_ratio)\n",
    "train_nums=len(sentences)-dev_nums\n",
    "print(dev_nums)\n",
    "train_sentences=sentences[:train_nums]\n",
    "train_labels=labels[:train_nums]\n",
    "dev_sentences=sentences[-dev_nums:]\n",
    "dev_labels=labels[-dev_nums:]\n",
    "train_examples,max_seq_len=getExamplesFromData(sentences=train_sentences,labels=train_labels,label2id=label2id,mode='train',return_max_len=True)\n",
    "dev_examples=getExamplesFromData(sentences=dev_sentences,labels=dev_labels,label2id=label2id,mode='dev')"
   ]
  },
  {
   "cell_type": "code",
   "execution_count": 11,
   "id": "ed96a5e2",
   "metadata": {},
   "outputs": [
    {
     "name": "stdout",
     "output_type": "stream",
     "text": [
      "7979 2013\n"
     ]
    }
   ],
   "source": [
    "print(sum(train_labels),sum(dev_labels))"
   ]
  },
  {
   "cell_type": "code",
   "execution_count": 12,
   "id": "e279b21a",
   "metadata": {},
   "outputs": [
    {
     "name": "stderr",
     "output_type": "stream",
     "text": [
      "2021-08-23 09:51:25 - INFO - __init__ - 48 : The label2id is\n",
      " {\"0\": 0, \"1\": 1}\n",
      "2021-08-23 09:51:25 - INFO - __init__ - 58 : Loading model from /data/nfs14/nfs/aisearch/asr/xhsun/CommonModel/chinese-roberta-wwm/, which is from huggingface model\n",
      "2021-08-23 09:51:25 - INFO - get_config_dict - 177 : loading configuration file /data/nfs14/nfs/aisearch/asr/xhsun/CommonModel/chinese-roberta-wwm/config.json\n",
      "2021-08-23 09:51:25 - INFO - from_pretrained - 404 : loading bert model file /data/nfs14/nfs/aisearch/asr/xhsun/CommonModel/chinese-roberta-wwm/\n",
      "2021-08-23 09:51:25 - INFO - from_pretrained - 423 : BertConfig has been loaded from /data/nfs14/nfs/aisearch/asr/xhsun/CommonModel/chinese-roberta-wwm/config.json\n"
     ]
    },
    {
     "name": "stdout",
     "output_type": "stream",
     "text": [
      "257\n"
     ]
    },
    {
     "name": "stderr",
     "output_type": "stream",
     "text": [
      "2021-08-23 09:51:26 - INFO - from_pretrained - 125 : loading vocabulary file /data/nfs14/nfs/aisearch/asr/xhsun/CommonModel/chinese-roberta-wwm/vocab.txt\n"
     ]
    }
   ],
   "source": [
    "model_path='/data/nfs14/nfs/aisearch/asr/xhsun/CommonModel/chinese-roberta-wwm/'\n",
    "print(max_seq_len)\n",
    "max_seq_len=min(512,max_seq_len)\n",
    "cls_model=cls(model_path=model_path,label2id=label2id,max_seq_length=max_seq_len,device='cpu')"
   ]
  },
  {
   "cell_type": "code",
   "execution_count": 13,
   "id": "603f5de6",
   "metadata": {},
   "outputs": [],
   "source": [
    "from torch.utils.data import DataLoader\n",
    "batch_size=32\n",
    "train_dataloader = DataLoader(train_examples, shuffle=True, batch_size=batch_size)"
   ]
  },
  {
   "cell_type": "code",
   "execution_count": 14,
   "id": "b2773784",
   "metadata": {},
   "outputs": [
    {
     "data": {
      "text/plain": [
       "{'0': 0, '1': 1}"
      ]
     },
     "execution_count": 14,
     "metadata": {},
     "output_type": "execute_result"
    }
   ],
   "source": [
    "label2id"
   ]
  },
  {
   "cell_type": "code",
   "execution_count": 15,
   "id": "943fd154",
   "metadata": {},
   "outputs": [
    {
     "name": "stderr",
     "output_type": "stream",
     "text": [
      "2021-08-23 09:51:28 - INFO - __init__ - 28 : label2id like : {'0': 0, '1': 1}\n",
      "2021-08-23 09:51:28 - INFO - __init__ - 39 : The number of 0 in dataset is 1987\n",
      "2021-08-23 09:51:28 - INFO - __init__ - 39 : The number of 1 in dataset is 2013\n",
      "2021-08-23 09:51:28 - INFO - __init__ - 45 : Evalautor sentence like : \n",
      "\n",
      "2021-08-23 09:51:28 - INFO - __init__ - 47 : //@吴海波sealyyg: [嘻嘻]@雅人清致_ @陈玉霞博斐秀禾 太搞笑啦，必须看。\t1\n",
      "\n",
      "2021-08-23 09:51:28 - INFO - __init__ - 47 : 把玻璃砸掉//@MM哥：//@evening139：啊？没人性啊！！[抓狂] //@2myblacksmile敏：哎呀//@阿叮in百元的幸福TT：好可?TTTTT ?!!!!//@海鲜趣多多：//@夏年年_要减肥：//@好狗好猫流浪狗义工团\t0\n",
      "\n",
      "2021-08-23 09:51:28 - INFO - __init__ - 47 : 无论在哪儿，还是觉得自己家最好。晚安各位[爱你]\t1\n",
      "\n",
      "2021-08-23 09:51:28 - INFO - __init__ - 47 : [哈哈] 发现美女啦~围观\t1\n",
      "\n",
      "2021-08-23 09:51:28 - INFO - __init__ - 47 : 所以你给剪了？！是么？！[吃惊][鼓掌][赞]\t1\n",
      "\n"
     ]
    }
   ],
   "source": [
    "evaluator=clsEvaluator(sentences=dev_sentences,label_ids=dev_labels,write_csv=False,label2id=label2id)"
   ]
  },
  {
   "cell_type": "code",
   "execution_count": 16,
   "id": "3bdede3a",
   "metadata": {},
   "outputs": [
    {
     "name": "stderr",
     "output_type": "stream",
     "text": [
      "2021-08-23 09:51:29 - INFO - fit - 101 : 当前是单句子分类任务\n",
      "2021-08-23 09:51:29 - INFO - fit - 112 : 一个epoch 下，每隔100个step会输出一次loss，每隔250个step会评估一次模型\n"
     ]
    },
    {
     "data": {
      "application/vnd.jupyter.widget-view+json": {
       "model_id": "7f5f3799260b40bb8cf060473ee98ef8",
       "version_major": 2,
       "version_minor": 0
      },
      "text/plain": [
       "HBox(children=(HTML(value='Epoch'), FloatProgress(value=0.0, max=1.0), HTML(value='')))"
      ]
     },
     "metadata": {},
     "output_type": "display_data"
    },
    {
     "data": {
      "application/vnd.jupyter.widget-view+json": {
       "model_id": "560dd1f1dfea43b7920915af91dbce27",
       "version_major": 2,
       "version_minor": 0
      },
      "text/plain": [
       "HBox(children=(HTML(value=''), FloatProgress(value=1.0, bar_style='info', layout=Layout(width='20px'), max=1.0…"
      ]
     },
     "metadata": {},
     "output_type": "display_data"
    },
    {
     "name": "stderr",
     "output_type": "stream",
     "text": [
      "2021-08-23 09:51:34 - INFO - __call__ - 63 : ClsEvaluator: Evaluating the model on  dataset in epoch 0 after 1 steps:\n",
      "2021-08-23 09:51:34 - INFO - predict - 220 : 当前是单句子分类任务预测\n"
     ]
    },
    {
     "data": {
      "application/vnd.jupyter.widget-view+json": {
       "model_id": "45764e9129534d66b21640470f606fc9",
       "version_major": 2,
       "version_minor": 0
      },
      "text/plain": [
       "HBox(children=(HTML(value=''), FloatProgress(value=0.0, max=125.0), HTML(value='')))"
      ]
     },
     "metadata": {},
     "output_type": "display_data"
    },
    {
     "name": "stderr",
     "output_type": "stream",
     "text": [
      "2021-08-23 09:53:04 - INFO - __call__ - 70 : Accuracy: 0.496\n",
      "2021-08-23 09:53:04 - INFO - __call__ - 82 : 0\tprecision : 0.496243, recall : 0.997479,  f1 score : 0.658356\n",
      "2021-08-23 09:53:04 - INFO - __call__ - 82 : 1\tprecision : 0.166389, recall : 0.000497,  f1 score : 0.000935\n",
      "2021-08-23 09:53:04 - INFO - __call__ - 90 : AUC: 0.413\n"
     ]
    },
    {
     "name": "stdout",
     "output_type": "stream",
     "text": [
      "\n"
     ]
    },
    {
     "name": "stderr",
     "output_type": "stream",
     "text": [
      "2021-08-23 09:53:10 - INFO - save_pretrained - 509 : Model weights saved in /data/nfs14/nfs/aisearch/asr/xhsun/tmp_model/BERT/pytorch_model.bin\n",
      "2021-08-23 09:53:10 - INFO - save_pretrained - 150 : Configuration saved in /data/nfs14/nfs/aisearch/asr/xhsun/tmp_model/BERT/config.json\n",
      "2021-08-23 09:53:10 - INFO - save_vocab - 51 : Vocab saved in /data/nfs14/nfs/aisearch/asr/xhsun/tmp_model/BERT/vocab.txt\n",
      "2021-08-23 09:53:10 - INFO - fit - 187 : In epoch 0, training_step 0, the eval score is 0.4131633311507411, previous eval score is -9999999, model has been saved in /data/nfs14/nfs/aisearch/asr/xhsun/tmp_model/\n",
      "2021-08-23 09:58:00 - INFO - fit - 165 : Epoch : 0, train_step : 100/500, loss_value : 0.3519289471115917 \n",
      "2021-08-23 10:03:05 - INFO - fit - 165 : Epoch : 0, train_step : 200/500, loss_value : 0.06631061967927962 \n",
      "2021-08-23 10:05:48 - INFO - __call__ - 63 : ClsEvaluator: Evaluating the model on  dataset in epoch 0 after 251 steps:\n",
      "2021-08-23 10:05:48 - INFO - predict - 220 : 当前是单句子分类任务预测\n"
     ]
    },
    {
     "data": {
      "application/vnd.jupyter.widget-view+json": {
       "model_id": "cc46eb36aa3c4dbcaefd16e616d97391",
       "version_major": 2,
       "version_minor": 0
      },
      "text/plain": [
       "HBox(children=(HTML(value=''), FloatProgress(value=0.0, max=125.0), HTML(value='')))"
      ]
     },
     "metadata": {},
     "output_type": "display_data"
    },
    {
     "name": "stderr",
     "output_type": "stream",
     "text": [
      "2021-08-23 10:07:37 - INFO - __call__ - 70 : Accuracy: 0.984\n",
      "2021-08-23 10:07:37 - INFO - __call__ - 82 : 0\tprecision : 0.656735, recall : 1.996970,  f1 score : 0.984704\n",
      "2021-08-23 10:07:37 - INFO - __call__ - 82 : 1\tprecision : 0.996931, recall : 0.969692,  f1 score : 0.978149\n",
      "2021-08-23 10:07:37 - INFO - __call__ - 90 : AUC: 0.998\n"
     ]
    },
    {
     "name": "stdout",
     "output_type": "stream",
     "text": [
      "\n"
     ]
    },
    {
     "name": "stderr",
     "output_type": "stream",
     "text": [
      "2021-08-23 10:07:40 - INFO - save_pretrained - 509 : Model weights saved in /data/nfs14/nfs/aisearch/asr/xhsun/tmp_model/BERT/pytorch_model.bin\n",
      "2021-08-23 10:07:40 - INFO - save_pretrained - 150 : Configuration saved in /data/nfs14/nfs/aisearch/asr/xhsun/tmp_model/BERT/config.json\n",
      "2021-08-23 10:07:40 - INFO - save_vocab - 51 : Vocab saved in /data/nfs14/nfs/aisearch/asr/xhsun/tmp_model/BERT/vocab.txt\n",
      "2021-08-23 10:07:40 - INFO - fit - 187 : In epoch 0, training_step 250, the eval score is 0.9983356796824665, previous eval score is 0.4131633311507411, model has been saved in /data/nfs14/nfs/aisearch/asr/xhsun/tmp_model/\n",
      "2021-08-23 10:10:09 - INFO - fit - 165 : Epoch : 0, train_step : 300/500, loss_value : 0.05503429248929024 \n",
      "2021-08-23 10:15:25 - INFO - fit - 165 : Epoch : 0, train_step : 400/500, loss_value : 0.04917567922850139 \n"
     ]
    },
    {
     "name": "stdout",
     "output_type": "stream",
     "text": [
      "\n",
      "\n"
     ]
    }
   ],
   "source": [
    "cls_model.fit(is_pairs=False,train_dataloader=train_dataloader,evaluator=evaluator,output_path=\"/data/nfs14/nfs/aisearch/asr/xhsun/tmp_model/\")"
   ]
  },
  {
   "cell_type": "code",
   "execution_count": null,
   "id": "c8bbbe73",
   "metadata": {},
   "outputs": [],
   "source": [
    "really_import=cls(model_path='/data/nfs14/nfs/aisearch/asr/xhsun/tmp_model',\n",
    "                  label2id=label2id,max_seq_length=max_seq_len,device='cpu',is_finetune=True)"
   ]
  },
  {
   "cell_type": "code",
   "execution_count": 17,
   "id": "32f65944",
   "metadata": {},
   "outputs": [
    {
     "name": "stdout",
     "output_type": "stream",
     "text": [
      "1\tprecision : 0.500000, recall : 0.400000,  f1 score : 0.300000\n"
     ]
    }
   ],
   "source": [
    "label='1'\n",
    "precision=0.5\n",
    "recall=0.4\n",
    "f1_score=0.3\n",
    "print(label+'\\t'+\"precision : %f, recall : %f,  f1 score : %f\"%(precision,recall,f1_score))"
   ]
  },
  {
   "cell_type": "code",
   "execution_count": null,
   "id": "f4083534",
   "metadata": {},
   "outputs": [],
   "source": [
    "predicts=really_import.predict(is_pairs=False,dataloader=dev_sentences)"
   ]
  },
  {
   "cell_type": "code",
   "execution_count": 37,
   "id": "73fc604c",
   "metadata": {},
   "outputs": [
    {
     "data": {
      "text/plain": [
       "0.981"
      ]
     },
     "execution_count": 37,
     "metadata": {},
     "output_type": "execute_result"
    }
   ],
   "source": [
    "sum((np.argmax(predicts,axis=1)==np.array(dev_labels)).tolist())/len(predicts)"
   ]
  },
  {
   "cell_type": "code",
   "execution_count": 40,
   "id": "5298f41b",
   "metadata": {},
   "outputs": [],
   "source": [
    "import torch.nn as nn"
   ]
  },
  {
   "cell_type": "code",
   "execution_count": 53,
   "id": "6929bac4",
   "metadata": {},
   "outputs": [],
   "source": [
    "class CRF(nn.Module):\n",
    "    def __init__(self, num_tags, batch_first=True, hasTraining=False) -> None:\n",
    "        super().__init__()\n",
    "        self.num_tags = num_tags\n",
    "        self.batch_first = batch_first\n",
    "\n",
    "        if hasTraining==False:\n",
    "            self.start_transitions = nn.Parameter(torch.empty(num_tags))\n",
    "            self.end_transitions = nn.Parameter(torch.empty(num_tags))\n",
    "            self.transitions = nn.Parameter(torch.empty(num_tags,num_tags))\n",
    "            self.init_matrix()\n",
    "        else:\n",
    "            pass\n",
    "\n",
    "\n",
    "    def init_matrix(self):\n",
    "        nn.init.uniform_(self.start_transitions, -0.1, 0.1)\n",
    "        nn.init.uniform_(self.end_transitions, -0.1, 0.1)\n",
    "        nn.init.uniform_(self.transitions, -0.1, 0.1)"
   ]
  },
  {
   "cell_type": "code",
   "execution_count": 54,
   "id": "7c40eb78",
   "metadata": {},
   "outputs": [],
   "source": [
    "crf=CRF(5)"
   ]
  },
  {
   "cell_type": "code",
   "execution_count": 56,
   "id": "85e0a05e",
   "metadata": {},
   "outputs": [
    {
     "data": {
      "text/plain": [
       "'sds/dsd/ad'"
      ]
     },
     "execution_count": 56,
     "metadata": {},
     "output_type": "execute_result"
    }
   ],
   "source": [
    "os.path.join(\"sds\",'dsd','ad')"
   ]
  },
  {
   "cell_type": "code",
   "execution_count": 51,
   "id": "ed37f58f",
   "metadata": {},
   "outputs": [],
   "source": [
    "torch.save(obj=crf.transitions,f='./tmp.pt')"
   ]
  },
  {
   "cell_type": "code",
   "execution_count": 52,
   "id": "539f802f",
   "metadata": {},
   "outputs": [
    {
     "data": {
      "text/plain": [
       "tensor([[-0.0763,  0.0966, -0.0893, -0.0571, -0.0983, -0.0413,  0.0384,  0.0052,\n",
       "          0.0677,  0.0197,  0.0469,  0.0046,  0.0783, -0.0790, -0.0673, -0.0206,\n",
       "         -0.0765, -0.0227,  0.0540, -0.0875],\n",
       "        [ 0.0077,  0.0380, -0.0522, -0.0449, -0.0687,  0.0733, -0.0563,  0.0222,\n",
       "         -0.0178, -0.0719,  0.0617, -0.0544,  0.0430,  0.0310, -0.0394, -0.0492,\n",
       "         -0.0650,  0.0193, -0.0395,  0.0256],\n",
       "        [-0.0288,  0.0377,  0.0286, -0.0850,  0.0333, -0.0450,  0.0586, -0.0283,\n",
       "         -0.0705, -0.0768, -0.0528,  0.0722, -0.0189,  0.0898,  0.0761, -0.0595,\n",
       "          0.0618,  0.0099,  0.0679,  0.0191],\n",
       "        [-0.0255, -0.0240, -0.0407,  0.0783,  0.0833,  0.0522,  0.0329, -0.0547,\n",
       "          0.0404,  0.0451,  0.0487, -0.0752, -0.0327, -0.0162, -0.0277, -0.0892,\n",
       "         -0.0172, -0.0717,  0.0907,  0.0358],\n",
       "        [-0.0634,  0.0128, -0.0769,  0.0997, -0.0183, -0.0625, -0.0745, -0.0118,\n",
       "          0.0705, -0.0982, -0.0611,  0.0490,  0.0317, -0.0486, -0.0417,  0.0550,\n",
       "          0.0839,  0.0384,  0.0402,  0.0790],\n",
       "        [-0.0486,  0.0673,  0.0849, -0.0361,  0.0567, -0.0731,  0.0538, -0.0178,\n",
       "         -0.0341,  0.0047,  0.0042, -0.0108,  0.0559, -0.0152, -0.0189, -0.0575,\n",
       "         -0.0087,  0.0078,  0.0327, -0.0684],\n",
       "        [-0.0159,  0.0467,  0.0257, -0.0955,  0.0575, -0.0840, -0.0289, -0.0315,\n",
       "          0.0163,  0.0988,  0.0474,  0.0753,  0.0835, -0.0714, -0.0879,  0.0417,\n",
       "          0.0558, -0.0340,  0.0243, -0.0287],\n",
       "        [ 0.0078,  0.0793, -0.0919,  0.0028, -0.0751,  0.0540, -0.0990, -0.0797,\n",
       "          0.0918,  0.0987,  0.0108, -0.0810, -0.0562, -0.0471, -0.0617,  0.0470,\n",
       "          0.0229,  0.0105, -0.0495,  0.0161],\n",
       "        [ 0.0715, -0.0283,  0.0087,  0.0568, -0.0100,  0.0296,  0.0057, -0.0349,\n",
       "          0.0823,  0.0490,  0.0883, -0.0211,  0.0981,  0.0081, -0.0153, -0.0751,\n",
       "         -0.0789,  0.0819,  0.0951, -0.0904],\n",
       "        [-0.0402,  0.0627, -0.0187,  0.0255, -0.0653,  0.0204,  0.0643, -0.0172,\n",
       "         -0.0320,  0.0624, -0.0170,  0.0963, -0.0314, -0.0788, -0.0895, -0.0849,\n",
       "          0.0747, -0.0555,  0.0956, -0.0364]])"
      ]
     },
     "execution_count": 52,
     "metadata": {},
     "output_type": "execute_result"
    }
   ],
   "source": [
    "torch.load('./tmp.pt')"
   ]
  },
  {
   "cell_type": "code",
   "execution_count": null,
   "id": "b59c2804",
   "metadata": {},
   "outputs": [],
   "source": []
  },
  {
   "cell_type": "code",
   "execution_count": null,
   "id": "85ea3749",
   "metadata": {},
   "outputs": [],
   "source": []
  },
  {
   "cell_type": "code",
   "execution_count": null,
   "id": "ce861cf8",
   "metadata": {},
   "outputs": [],
   "source": []
  }
 ],
 "metadata": {
  "kernelspec": {
   "display_name": "Python 3",
   "language": "python",
   "name": "python3"
  },
  "language_info": {
   "codemirror_mode": {
    "name": "ipython",
    "version": 3
   },
   "file_extension": ".py",
   "mimetype": "text/x-python",
   "name": "python",
   "nbconvert_exporter": "python",
   "pygments_lexer": "ipython3",
   "version": "3.8.5"
  }
 },
 "nbformat": 4,
 "nbformat_minor": 5
}
