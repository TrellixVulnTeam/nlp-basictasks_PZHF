{
 "cells": [
  {
   "cell_type": "code",
   "execution_count": 1,
   "id": "499ebe65",
   "metadata": {},
   "outputs": [
    {
     "name": "stdout",
     "output_type": "stream",
     "text": [
      "Better speed can be achieved with apex installed from https://www.github.com/nvidia/apex.\n"
     ]
    },
    {
     "name": "stderr",
     "output_type": "stream",
     "text": [
      "2021-10-12 18:26:30 - INFO - <module> - 54 : Loading faiss with AVX2 support.\n",
      "2021-10-12 18:26:30 - INFO - <module> - 58 : Could not load library with AVX2 support due to:\n",
      "ModuleNotFoundError(\"No module named 'faiss.swigfaiss_avx2'\")\n",
      "2021-10-12 18:26:30 - INFO - <module> - 64 : Loading faiss.\n",
      "2021-10-12 18:26:30 - INFO - <module> - 66 : Successfully loaded faiss.\n",
      "2021-10-12 18:26:30 - INFO - from_pretrained - 125 : loading vocabulary file /data/nfs14/nfs/aisearch/asr/xhsun/bwbd_recall/distill-simcse/0_Transformer/vocab.txt\n"
     ]
    }
   ],
   "source": [
    "import nlp_basictasks\n",
    "import os,json\n",
    "import numpy as np\n",
    "import torch\n",
    "import torch.nn as nn\n",
    "import random\n",
    "from tqdm.autonotebook import tqdm, trange\n",
    "from torch.utils.data import DataLoader\n",
    "from nlp_basictasks.modules import SBERT\n",
    "from nlp_basictasks.modules.transformers import BertTokenizer\n",
    "from nlp_basictasks.readers.sts import InputExample,convert_examples_to_features,getExamples,convert_sentences_to_features\n",
    "from nlp_basictasks.modules.utils import get_optimizer,get_scheduler\n",
    "from nlp_basictasks.Trainer import Trainer\n",
    "from nlp_basictasks.evaluation import stsEvaluator\n",
    "from sentence_transformers import SentenceTransformer\n",
    "model_path1='/data/nfs14/nfs/aisearch/asr/xhsun/bwbd_recall/distill-simcse/'\n",
    "model_path2=\"/data/nfs14/nfs/aisearch/asr/xhsun/bwbd_recall/distiluse-base-multilingual-cased-v1/\"\n",
    "# data_folder='/data/nfs14/nfs/aisearch/asr/xhsun/datasets/lcqmc/'\n",
    "# train_file=os.path.join(data_folder,'lcqmc_train.tsv')\n",
    "# dev_file=os.path.join(data_folder,'lcqmc_dev.tsv')\n",
    "data_folder='/data/nfs14/nfs/aisearch/asr/xhsun/bwbd_recall/ssc_data/sbert_ce_portion_5'\n",
    "train_file=os.path.join(data_folder,'train.txt')\n",
    "dev_file=os.path.join(data_folder,'dev.txt')\n",
    "tokenizer=BertTokenizer.from_pretrained(os.path.join(model_path1,'0_Transformer'))\n",
    "max_seq_len=64\n",
    "batch_size=128"
   ]
  },
  {
   "cell_type": "code",
   "execution_count": null,
   "id": "6b982973",
   "metadata": {},
   "outputs": [],
   "source": []
  },
  {
   "cell_type": "markdown",
   "id": "c856872f",
   "metadata": {},
   "source": [
    "# 定义模型"
   ]
  },
  {
   "cell_type": "code",
   "execution_count": 18,
   "id": "a5bd15d8",
   "metadata": {},
   "outputs": [],
   "source": [
    "class SimCSE(nn.Module):\n",
    "    def __init__(self,\n",
    "                 bert_model_path,\n",
    "                temperature=0.05,\n",
    "                is_distilbert=False,\n",
    "                device='cpu'):\n",
    "        super(SimCSE,self).__init__()\n",
    "        self.encoder=SentenceTransformer(model_name_or_path=bert_model_path,device=device)\n",
    "        self.temperature=temperature\n",
    "        self.is_distilbert=is_distilbert#蒸馏版本的BERT不支持token_type_ids\n",
    "    def cal_cos_sim(self,embeddings1,embeddings2):\n",
    "        embeddings1_norm=torch.nn.functional.normalize(embeddings1,p=2,dim=1)\n",
    "        embeddings2_norm=torch.nn.functional.normalize(embeddings2,p=2,dim=1)\n",
    "        return torch.mm(embeddings1_norm,embeddings2_norm.transpose(0,1))#(batch_size,batch_size)\n",
    "        \n",
    "    def forward(self,batch_inputs):\n",
    "        '''\n",
    "        为了实现兼容，所有model的batch_inputs最后一个位置必须是labels，即使为None\n",
    "        get token_embeddings,cls_token_embeddings,sentence_embeddings\n",
    "        sentence_embeddings是经过Pooling层后concat的embedding。维度=768*k，其中k取决于pooling的策略\n",
    "        一般来讲，只会取一种pooling策略，要么直接cls要么mean last or mean last2 or mean first and last layer，所以sentence_embeddings的维度也是768\n",
    "        '''\n",
    "        batch1_features,batch2_features,_=batch_inputs\n",
    "        if self.is_distilbert:\n",
    "            del batch1_features['token_type_ids']\n",
    "            del batch2_features['token_type_ids']\n",
    "        batch1_embeddings=self.encoder(batch1_features)['sentence_embedding']\n",
    "        batch2_embeddings=self.encoder(batch2_features)['sentence_embedding']\n",
    "        cos_sim=self.cal_cos_sim(batch1_embeddings,batch2_embeddings)/self.temperature#(batch_size,batch_size)\n",
    "        batch_size=cos_sim.size(0)\n",
    "        assert cos_sim.size()==(batch_size,batch_size)\n",
    "        labels=torch.arange(batch_size).to(cos_sim.device)\n",
    "        return nn.CrossEntropyLoss()(cos_sim,labels)\n",
    "    \n",
    "    def encode(self, sentences,\n",
    "               batch_size: int = 32,\n",
    "               show_progress_bar: bool = None,\n",
    "               output_value: str = 'sentence_embedding',\n",
    "               convert_to_numpy: bool = True,\n",
    "               convert_to_tensor: bool = False,\n",
    "               device: str = None,\n",
    "               normalize_embeddings: bool = False):\n",
    "        '''\n",
    "        传进来的sentences只能是single_batch\n",
    "        '''\n",
    "        return self.encoder.encode(sentences=sentences,\n",
    "                                         batch_size=batch_size,\n",
    "                                         show_progress_bar=show_progress_bar,\n",
    "                                         output_value=output_value,\n",
    "                                         convert_to_numpy=convert_to_numpy,\n",
    "                                         convert_to_tensor=convert_to_tensor,\n",
    "                                         device=device,\n",
    "                                         normalize_embeddings=normalize_embeddings)\n",
    "    \n",
    "    def save(self,output_path):\n",
    "        os.makedirs(output_path,exist_ok=True)\n",
    "        with open(os.path.join(output_path, 'model_param_config.json'), 'w') as fOut:\n",
    "            json.dump(self.get_config_dict(output_path), fOut)\n",
    "        self.encoder.save(output_path)\n",
    "        \n",
    "    def get_config_dict(self,output_path):\n",
    "        '''\n",
    "        一定要有dict，这样才能初始化Model\n",
    "        '''\n",
    "        return {'output_path':output_path,'temperature': self.temperature, 'is_distilbert': self.is_distilbert}\n",
    "    @staticmethod\n",
    "    def load(input_path):\n",
    "        with open(os.path.join(input_path, 'model_param_config.json')) as fIn:\n",
    "            config = json.load(fIn)\n",
    "        return SimCSE(**config)"
   ]
  },
  {
   "cell_type": "code",
   "execution_count": 19,
   "id": "9723b44b",
   "metadata": {},
   "outputs": [
    {
     "name": "stderr",
     "output_type": "stream",
     "text": [
      "2021-10-12 18:28:42 - INFO - __init__ - 41 : Load pretrained SentenceTransformer: /data/nfs14/nfs/aisearch/asr/xhsun/bwbd_recall/distiluse-base-multilingual-cased-v1/\n",
      "2021-10-12 18:28:42 - INFO - __init__ - 107 : Load SentenceTransformer from folder: /data/nfs14/nfs/aisearch/asr/xhsun/bwbd_recall/distiluse-base-multilingual-cased-v1/\n"
     ]
    }
   ],
   "source": [
    "device='cpu'\n",
    "simcse=SimCSE(bert_model_path=model_path2,is_distilbert=True,device=device)"
   ]
  },
  {
   "cell_type": "markdown",
   "id": "02b52521",
   "metadata": {},
   "source": [
    "# 获取 dataloader"
   ]
  },
  {
   "cell_type": "markdown",
   "id": "bca46a37",
   "metadata": {},
   "source": [
    "## 获取train_dataloader"
   ]
  },
  {
   "cell_type": "code",
   "execution_count": 21,
   "id": "8af159f4",
   "metadata": {},
   "outputs": [
    {
     "name": "stdout",
     "output_type": "stream",
     "text": [
      "144396\n"
     ]
    }
   ],
   "source": [
    "train_sentences=[]\n",
    "with open(train_file) as f:\n",
    "    lines=f.readlines()\n",
    "    for line in lines:\n",
    "        line_split=line.strip().split('\\t')\n",
    "        if line_split[-1]=='1':\n",
    "            train_sentences.append([line_split[0],line_split[1]])\n",
    "#train_sentences=list(train_sentences)\n",
    "print(len(train_sentences))"
   ]
  },
  {
   "cell_type": "code",
   "execution_count": 22,
   "id": "6861c0f4",
   "metadata": {},
   "outputs": [
    {
     "data": {
      "text/plain": [
       "[['资金监管怎么弄', '资金监管卖方怎么操作？'], ['升的积分', 'm8对应积分是多少'], ['换绑定号码', '更改绑定手机号']]"
      ]
     },
     "execution_count": 22,
     "metadata": {},
     "output_type": "execute_result"
    }
   ],
   "source": [
    "train_sentences[:3]"
   ]
  },
  {
   "cell_type": "code",
   "execution_count": 23,
   "id": "4833a7e2",
   "metadata": {},
   "outputs": [
    {
     "name": "stdout",
     "output_type": "stream",
     "text": [
      "[['资金监管怎么弄', '资金监管卖方怎么操作？'], ['升的积分', 'm8对应积分是多少']]\n",
      "144396\n",
      "[['怎么改房源标签', '房源标签有哪些？'], ['二手贷款买房流程', '商业贷款流程是什么']]\n"
     ]
    }
   ],
   "source": [
    "print(train_sentences[:2])\n",
    "random.shuffle(train_sentences)\n",
    "train_sentences=train_sentences\n",
    "print(len(train_sentences))\n",
    "print(train_sentences[:2])"
   ]
  },
  {
   "cell_type": "code",
   "execution_count": 24,
   "id": "4ca4b4bd",
   "metadata": {},
   "outputs": [],
   "source": [
    "train_examples=[InputExample(text_list=sentence,label=1) for sentence in train_sentences]\n",
    "train_dataloader=DataLoader(train_examples,shuffle=True,batch_size=batch_size)\n",
    "def smart_batching_collate(batch):\n",
    "    features_of_a,features_of_b,labels=convert_examples_to_features(examples=batch,tokenizer=tokenizer,max_seq_len=max_seq_len)\n",
    "    return features_of_a,features_of_b,labels\n",
    "train_dataloader.collate_fn=smart_batching_collate"
   ]
  },
  {
   "cell_type": "code",
   "execution_count": 25,
   "id": "f09daffb",
   "metadata": {},
   "outputs": [
    {
     "name": "stdout",
     "output_type": "stream",
     "text": [
      "<InputExample> label: 1, text pairs : 怎么改房源标签; 房源标签有哪些？\n"
     ]
    }
   ],
   "source": [
    "print(train_examples[0])"
   ]
  },
  {
   "cell_type": "code",
   "execution_count": 26,
   "id": "080dee76",
   "metadata": {},
   "outputs": [
    {
     "data": {
      "text/plain": [
       "({'input_ids': tensor([[ 101, 3814, 2118, 4282, 3998, 5110, 4561]]),\n",
       "  'token_type_ids': tensor([[0, 0, 0, 0, 0, 0, 0]]),\n",
       "  'attention_mask': tensor([[1, 1, 1, 1, 1, 1, 1]])},\n",
       " {'input_ids': tensor([[ 101, 3998, 5110, 4561, 6087, 4461, 2869, 2159]]),\n",
       "  'token_type_ids': tensor([[0, 0, 0, 0, 0, 0, 0, 0]]),\n",
       "  'attention_mask': tensor([[1, 1, 1, 1, 1, 1, 1, 1]])},\n",
       " tensor([1]))"
      ]
     },
     "execution_count": 26,
     "metadata": {},
     "output_type": "execute_result"
    }
   ],
   "source": [
    "convert_examples_to_features([train_examples[0]],tokenizer)"
   ]
  },
  {
   "cell_type": "code",
   "execution_count": null,
   "id": "a7f10f2f",
   "metadata": {},
   "outputs": [],
   "source": []
  },
  {
   "cell_type": "markdown",
   "id": "d6b23095",
   "metadata": {},
   "source": [
    "# 获取dev_dataloader"
   ]
  },
  {
   "cell_type": "code",
   "execution_count": 27,
   "id": "3cdc757e",
   "metadata": {},
   "outputs": [
    {
     "name": "stderr",
     "output_type": "stream",
     "text": [
      "2021-10-12 18:29:47 - INFO - getExamples - 44 : Heads like : 首看保护期\t钥匙角色上传多长时间有效\t0\n",
      "\n",
      "2021-10-12 18:29:47 - INFO - getExamples - 57 : *****************************Logging some dev examples*****************************\n",
      "2021-10-12 18:29:47 - INFO - getExamples - 58 : Total dev nums is : 8946\n",
      "2021-10-12 18:29:47 - INFO - getExamples - 61 : 推荐奖多久发放\t房产证需要上传几页\t0\n",
      "2021-10-12 18:29:47 - INFO - getExamples - 61 : 门店换电脑\t订购物资网站网址是什么？\t1\n",
      "2021-10-12 18:29:47 - INFO - getExamples - 61 : 怎么找钥匙记录\t有线上签约租房的流程吗\t0\n",
      "2021-10-12 18:29:47 - INFO - getExamples - 61 : 经济适用房交易规定是什么\t签约自如的业绩怎么查看\t0\n",
      "2021-10-12 18:29:47 - INFO - getExamples - 61 : 跨店东保护是什么？\t学历验真流程\t0\n"
     ]
    }
   ],
   "source": [
    "dev_examples=getExamples(dev_file,label2id={\"0\":0,\"1\":1},filter_heads=True,mode='dev',isCL=False)"
   ]
  },
  {
   "cell_type": "markdown",
   "id": "ca0a4008",
   "metadata": {},
   "source": [
    "## 构造evaluator"
   ]
  },
  {
   "cell_type": "code",
   "execution_count": 28,
   "id": "eab1d5ad",
   "metadata": {},
   "outputs": [
    {
     "name": "stdout",
     "output_type": "stream",
     "text": [
      "['啥时候发货', '来消息没声音怎么设置'] 0\n"
     ]
    }
   ],
   "source": [
    "dev_sentences=[example.text_list for example in dev_examples]\n",
    "dev_labels=[example.label for example in dev_examples]\n",
    "print(dev_sentences[0],dev_labels[0])\n",
    "sentences1_list=[sen[0] for sen in dev_sentences]\n",
    "sentences2_list=[sen[1] for sen in dev_sentences]\n",
    "evaluator=stsEvaluator(sentences1=sentences1_list,sentences2=sentences2_list,batch_size=64,write_csv=False,scores=dev_labels)"
   ]
  },
  {
   "cell_type": "code",
   "execution_count": 29,
   "id": "18641177",
   "metadata": {},
   "outputs": [
    {
     "name": "stdout",
     "output_type": "stream",
     "text": [
      "啥时候发货 来消息没声音怎么设置 0\n",
      "师傅如何解除 垫佣发票在哪里上传 0\n",
      "我密码多少 商圈经理面访回访有次数限制吗？ 0\n",
      "如何签vip 业主电话最多可以录入几个？ 0\n",
      "翻录保护期 业主如何下架自己在卖的房源 0\n"
     ]
    }
   ],
   "source": [
    "for i in range(5):\n",
    "    print(evaluator.sentences1[i],evaluator.sentences2[i],evaluator.scores[i])"
   ]
  },
  {
   "cell_type": "code",
   "execution_count": 30,
   "id": "f3892762",
   "metadata": {
    "scrolled": true
   },
   "outputs": [
    {
     "name": "stderr",
     "output_type": "stream",
     "text": [
      "2021-10-12 18:29:49 - INFO - __call__ - 72 : EmbeddingSimilarityEvaluator: Evaluating the model on  dataset:\n"
     ]
    },
    {
     "data": {
      "application/vnd.jupyter.widget-view+json": {
       "model_id": "6766f9aa50a34e7f9f0fda286b1b2576",
       "version_major": 2,
       "version_minor": 0
      },
      "text/plain": [
       "HBox(children=(HTML(value='Batches'), FloatProgress(value=0.0, max=140.0), HTML(value='')))"
      ]
     },
     "metadata": {},
     "output_type": "display_data"
    },
    {
     "name": "stdout",
     "output_type": "stream",
     "text": [
      "\n"
     ]
    },
    {
     "data": {
      "application/vnd.jupyter.widget-view+json": {
       "model_id": "b1924716112942368e8d931efe58e267",
       "version_major": 2,
       "version_minor": 0
      },
      "text/plain": [
       "HBox(children=(HTML(value='Batches'), FloatProgress(value=0.0, max=140.0), HTML(value='')))"
      ]
     },
     "metadata": {},
     "output_type": "display_data"
    },
    {
     "name": "stderr",
     "output_type": "stream",
     "text": [
      "2021-10-12 18:30:16 - INFO - __call__ - 103 : Cosine-Similarity :\tPearson: 0.7399\tSpearman: 0.5806\n",
      "2021-10-12 18:30:16 - INFO - __call__ - 105 : Manhattan-Distance:\tPearson: 0.7433\tSpearman: 0.5800\n",
      "2021-10-12 18:30:16 - INFO - __call__ - 107 : Euclidean-Distance:\tPearson: 0.7364\tSpearman: 0.5756\n",
      "2021-10-12 18:30:16 - INFO - __call__ - 109 : Dot-Product-Similarity:\tPearson: 0.7406\tSpearman: 0.5808\n"
     ]
    },
    {
     "name": "stdout",
     "output_type": "stream",
     "text": [
      "\n"
     ]
    },
    {
     "data": {
      "text/plain": [
       "0.5806207292388106"
      ]
     },
     "execution_count": 30,
     "metadata": {},
     "output_type": "execute_result"
    }
   ],
   "source": [
    "evaluator(model=simcse)"
   ]
  },
  {
   "cell_type": "code",
   "execution_count": null,
   "id": "11bc0dcd",
   "metadata": {},
   "outputs": [],
   "source": []
  },
  {
   "cell_type": "markdown",
   "id": "18a11f3a",
   "metadata": {},
   "source": [
    "# train model"
   ]
  },
  {
   "cell_type": "code",
   "execution_count": 31,
   "id": "3d211cea",
   "metadata": {},
   "outputs": [],
   "source": [
    "epochs=10\n",
    "output_path='/data/nfs14/nfs/aisearch/asr/xhsun/bwbd_recall/tmp'\n",
    "tensorboard_logdir=os.path.join(output_path,'log')"
   ]
  },
  {
   "cell_type": "markdown",
   "id": "0fe7b8f5",
   "metadata": {},
   "source": [
    "## 获取optimizer"
   ]
  },
  {
   "cell_type": "code",
   "execution_count": 32,
   "id": "45a5c479",
   "metadata": {},
   "outputs": [],
   "source": [
    "optimizer_type='AdamW'\n",
    "scheduler='WarmupLinear'\n",
    "warmup_proportion=0.1\n",
    "optimizer_params={'lr': 2e-5}\n",
    "weight_decay=0.01\n",
    "num_train_steps = int(len(train_dataloader) * epochs)\n",
    "warmup_steps = num_train_steps*warmup_proportion\n",
    "optimizer = get_optimizer(model=simcse,optimizer_type=optimizer_type,weight_decay=weight_decay,optimizer_params=optimizer_params)\n",
    "scheduler = get_scheduler(optimizer, scheduler=scheduler, warmup_steps=warmup_steps, t_total=num_train_steps)"
   ]
  },
  {
   "cell_type": "markdown",
   "id": "19309c3e",
   "metadata": {},
   "source": [
    "## 获取Trainer"
   ]
  },
  {
   "cell_type": "code",
   "execution_count": 33,
   "id": "2066940f",
   "metadata": {},
   "outputs": [],
   "source": [
    "trainer=Trainer(epochs=epochs,output_path=output_path,tensorboard_logdir=tensorboard_logdir,early_stop_patience=20)"
   ]
  },
  {
   "cell_type": "code",
   "execution_count": 34,
   "id": "31f4f6ce",
   "metadata": {},
   "outputs": [
    {
     "name": "stderr",
     "output_type": "stream",
     "text": [
      "2021-10-12 18:30:16 - INFO - train - 56 : 一个epoch 下，每隔225个step会输出一次loss，每隔564个step会评估一次模型\n"
     ]
    },
    {
     "data": {
      "application/vnd.jupyter.widget-view+json": {
       "model_id": "9901500898f1414988362ce13abdb985",
       "version_major": 2,
       "version_minor": 0
      },
      "text/plain": [
       "HBox(children=(HTML(value=''), FloatProgress(value=1.0, bar_style='info', layout=Layout(width='20px'), max=1.0…"
      ]
     },
     "metadata": {},
     "output_type": "display_data"
    },
    {
     "name": "stderr",
     "output_type": "stream",
     "text": [
      "2021-10-12 18:30:19 - INFO - __call__ - 72 : EmbeddingSimilarityEvaluator: Evaluating the model on  dataset in epoch 0 after 1 steps:\n"
     ]
    },
    {
     "data": {
      "application/vnd.jupyter.widget-view+json": {
       "model_id": "70f20982bcb0471e846a2216c6b433fa",
       "version_major": 2,
       "version_minor": 0
      },
      "text/plain": [
       "HBox(children=(HTML(value='Batches'), FloatProgress(value=0.0, max=140.0), HTML(value='')))"
      ]
     },
     "metadata": {},
     "output_type": "display_data"
    },
    {
     "name": "stdout",
     "output_type": "stream",
     "text": [
      "\n"
     ]
    },
    {
     "data": {
      "application/vnd.jupyter.widget-view+json": {
       "model_id": "4a01bcf461354da7a0b97df051be7e77",
       "version_major": 2,
       "version_minor": 0
      },
      "text/plain": [
       "HBox(children=(HTML(value='Batches'), FloatProgress(value=0.0, max=140.0), HTML(value='')))"
      ]
     },
     "metadata": {},
     "output_type": "display_data"
    },
    {
     "name": "stderr",
     "output_type": "stream",
     "text": [
      "2021-10-12 18:30:46 - INFO - __call__ - 103 : Cosine-Similarity :\tPearson: 0.7399\tSpearman: 0.5806\n",
      "2021-10-12 18:30:46 - INFO - __call__ - 105 : Manhattan-Distance:\tPearson: 0.7433\tSpearman: 0.5800\n",
      "2021-10-12 18:30:46 - INFO - __call__ - 107 : Euclidean-Distance:\tPearson: 0.7364\tSpearman: 0.5756\n",
      "2021-10-12 18:30:46 - INFO - __call__ - 109 : Dot-Product-Similarity:\tPearson: 0.7406\tSpearman: 0.5808\n",
      "2021-10-12 18:30:46 - INFO - save - 371 : Save model to /data/nfs14/nfs/aisearch/asr/xhsun/bwbd_recall/tmp\n"
     ]
    },
    {
     "name": "stdout",
     "output_type": "stream",
     "text": [
      "\n"
     ]
    },
    {
     "name": "stderr",
     "output_type": "stream",
     "text": [
      "2021-10-12 18:30:47 - INFO - train - 98 : In epoch 0, training_step 0, the eval score is 0.5806207292388106, previous eval score is -9999999, model has been saved in /data/nfs14/nfs/aisearch/asr/xhsun/bwbd_recall/tmp\n",
      "2021-10-12 18:37:12 - INFO - train - 75 : Epoch : 0, train_step : 225/11290, loss_value : 1.5816797465748258 \n",
      "2021-10-12 18:43:43 - INFO - train - 75 : Epoch : 0, train_step : 450/11290, loss_value : 1.044176026450263 \n",
      "2021-10-12 18:47:09 - INFO - __call__ - 72 : EmbeddingSimilarityEvaluator: Evaluating the model on  dataset in epoch 0 after 565 steps:\n"
     ]
    },
    {
     "data": {
      "application/vnd.jupyter.widget-view+json": {
       "model_id": "7e76465e06b84771b5ffa92b6d3e50b8",
       "version_major": 2,
       "version_minor": 0
      },
      "text/plain": [
       "HBox(children=(HTML(value='Batches'), FloatProgress(value=0.0, max=140.0), HTML(value='')))"
      ]
     },
     "metadata": {},
     "output_type": "display_data"
    },
    {
     "name": "stdout",
     "output_type": "stream",
     "text": [
      "\n"
     ]
    },
    {
     "data": {
      "application/vnd.jupyter.widget-view+json": {
       "model_id": "683bb814b08541f3bbe098b005772736",
       "version_major": 2,
       "version_minor": 0
      },
      "text/plain": [
       "HBox(children=(HTML(value='Batches'), FloatProgress(value=0.0, max=140.0), HTML(value='')))"
      ]
     },
     "metadata": {},
     "output_type": "display_data"
    },
    {
     "name": "stderr",
     "output_type": "stream",
     "text": [
      "2021-10-12 18:47:36 - INFO - __call__ - 103 : Cosine-Similarity :\tPearson: 0.8631\tSpearman: 0.6386\n",
      "2021-10-12 18:47:36 - INFO - __call__ - 105 : Manhattan-Distance:\tPearson: 0.8650\tSpearman: 0.6375\n",
      "2021-10-12 18:47:36 - INFO - __call__ - 107 : Euclidean-Distance:\tPearson: 0.8661\tSpearman: 0.6375\n",
      "2021-10-12 18:47:36 - INFO - __call__ - 109 : Dot-Product-Similarity:\tPearson: 0.8513\tSpearman: 0.6365\n",
      "2021-10-12 18:47:36 - INFO - save - 371 : Save model to /data/nfs14/nfs/aisearch/asr/xhsun/bwbd_recall/tmp\n"
     ]
    },
    {
     "name": "stdout",
     "output_type": "stream",
     "text": [
      "\n"
     ]
    },
    {
     "name": "stderr",
     "output_type": "stream",
     "text": [
      "2021-10-12 18:47:38 - INFO - train - 98 : In epoch 0, training_step 564, the eval score is 0.6386143412650577, previous eval score is 0.5806207292388106, model has been saved in /data/nfs14/nfs/aisearch/asr/xhsun/bwbd_recall/tmp\n",
      "2021-10-12 18:50:59 - INFO - train - 75 : Epoch : 0, train_step : 675/11290, loss_value : 0.8114805866612328 \n",
      "2021-10-12 18:57:45 - INFO - train - 75 : Epoch : 0, train_step : 900/11290, loss_value : 0.7043601871861351 \n",
      "2021-10-12 19:04:28 - INFO - train - 75 : Epoch : 0, train_step : 1125/11290, loss_value : 0.638687058157391 \n",
      "2021-10-12 19:04:33 - INFO - __call__ - 72 : EmbeddingSimilarityEvaluator: Evaluating the model on  dataset in epoch 0 after 1129 steps:\n"
     ]
    },
    {
     "data": {
      "application/vnd.jupyter.widget-view+json": {
       "model_id": "594f97693d5c482c85354178f39fb79e",
       "version_major": 2,
       "version_minor": 0
      },
      "text/plain": [
       "HBox(children=(HTML(value='Batches'), FloatProgress(value=0.0, max=140.0), HTML(value='')))"
      ]
     },
     "metadata": {},
     "output_type": "display_data"
    },
    {
     "name": "stdout",
     "output_type": "stream",
     "text": [
      "\n"
     ]
    },
    {
     "data": {
      "application/vnd.jupyter.widget-view+json": {
       "model_id": "85fdf963f007410c84c32d38aeace2cd",
       "version_major": 2,
       "version_minor": 0
      },
      "text/plain": [
       "HBox(children=(HTML(value='Batches'), FloatProgress(value=0.0, max=140.0), HTML(value='')))"
      ]
     },
     "metadata": {},
     "output_type": "display_data"
    },
    {
     "name": "stderr",
     "output_type": "stream",
     "text": [
      "2021-10-12 19:05:00 - INFO - __call__ - 103 : Cosine-Similarity :\tPearson: 0.8749\tSpearman: 0.6407\n",
      "2021-10-12 19:05:00 - INFO - __call__ - 105 : Manhattan-Distance:\tPearson: 0.8799\tSpearman: 0.6404\n",
      "2021-10-12 19:05:00 - INFO - __call__ - 107 : Euclidean-Distance:\tPearson: 0.8805\tSpearman: 0.6404\n",
      "2021-10-12 19:05:00 - INFO - __call__ - 109 : Dot-Product-Similarity:\tPearson: 0.8631\tSpearman: 0.6388\n",
      "2021-10-12 19:05:00 - INFO - save - 371 : Save model to /data/nfs14/nfs/aisearch/asr/xhsun/bwbd_recall/tmp\n"
     ]
    },
    {
     "name": "stdout",
     "output_type": "stream",
     "text": [
      "\n"
     ]
    },
    {
     "name": "stderr",
     "output_type": "stream",
     "text": [
      "2021-10-12 19:05:02 - INFO - train - 98 : In epoch 0, training_step 1128, the eval score is 0.6406594314046365, previous eval score is 0.6386143412650577, model has been saved in /data/nfs14/nfs/aisearch/asr/xhsun/bwbd_recall/tmp\n"
     ]
    },
    {
     "name": "stdout",
     "output_type": "stream",
     "text": [
      "\n"
     ]
    },
    {
     "data": {
      "application/vnd.jupyter.widget-view+json": {
       "model_id": "7dcffdb56b364971924732027da7ef89",
       "version_major": 2,
       "version_minor": 0
      },
      "text/plain": [
       "HBox(children=(HTML(value=''), FloatProgress(value=1.0, bar_style='info', layout=Layout(width='20px'), max=1.0…"
      ]
     },
     "metadata": {},
     "output_type": "display_data"
    },
    {
     "name": "stderr",
     "output_type": "stream",
     "text": [
      "2021-10-12 19:05:04 - INFO - __call__ - 72 : EmbeddingSimilarityEvaluator: Evaluating the model on  dataset in epoch 1 after 1 steps:\n"
     ]
    },
    {
     "data": {
      "application/vnd.jupyter.widget-view+json": {
       "model_id": "9197c2bff4d84dd2a7234c0639b383ea",
       "version_major": 2,
       "version_minor": 0
      },
      "text/plain": [
       "HBox(children=(HTML(value='Batches'), FloatProgress(value=0.0, max=140.0), HTML(value='')))"
      ]
     },
     "metadata": {},
     "output_type": "display_data"
    },
    {
     "name": "stdout",
     "output_type": "stream",
     "text": [
      "\n"
     ]
    },
    {
     "data": {
      "application/vnd.jupyter.widget-view+json": {
       "model_id": "dfc2d5e0c31e44329227ae9bf5b3ea47",
       "version_major": 2,
       "version_minor": 0
      },
      "text/plain": [
       "HBox(children=(HTML(value='Batches'), FloatProgress(value=0.0, max=140.0), HTML(value='')))"
      ]
     },
     "metadata": {},
     "output_type": "display_data"
    },
    {
     "name": "stderr",
     "output_type": "stream",
     "text": [
      "2021-10-12 19:05:30 - INFO - __call__ - 103 : Cosine-Similarity :\tPearson: 0.8756\tSpearman: 0.6407\n",
      "2021-10-12 19:05:30 - INFO - __call__ - 105 : Manhattan-Distance:\tPearson: 0.8799\tSpearman: 0.6404\n",
      "2021-10-12 19:05:30 - INFO - __call__ - 107 : Euclidean-Distance:\tPearson: 0.8805\tSpearman: 0.6404\n",
      "2021-10-12 19:05:30 - INFO - __call__ - 109 : Dot-Product-Similarity:\tPearson: 0.8637\tSpearman: 0.6388\n",
      "2021-10-12 19:05:30 - INFO - save - 371 : Save model to /data/nfs14/nfs/aisearch/asr/xhsun/bwbd_recall/tmp\n"
     ]
    },
    {
     "name": "stdout",
     "output_type": "stream",
     "text": [
      "\n"
     ]
    },
    {
     "name": "stderr",
     "output_type": "stream",
     "text": [
      "2021-10-12 19:05:32 - INFO - train - 98 : In epoch 1, training_step 0, the eval score is 0.6406801665377398, previous eval score is 0.6406594314046365, model has been saved in /data/nfs14/nfs/aisearch/asr/xhsun/bwbd_recall/tmp\n",
      "2021-10-12 19:12:18 - INFO - train - 75 : Epoch : 1, train_step : 450/11290, loss_value : 0.5779839931594001 \n",
      "2021-10-12 19:19:05 - INFO - train - 75 : Epoch : 1, train_step : 900/11290, loss_value : 0.5539992951022255 \n",
      "2021-10-12 19:22:32 - INFO - __call__ - 72 : EmbeddingSimilarityEvaluator: Evaluating the model on  dataset in epoch 1 after 565 steps:\n"
     ]
    },
    {
     "data": {
      "application/vnd.jupyter.widget-view+json": {
       "model_id": "b8f3cd4ace054c96ae76347dc6ffb1d7",
       "version_major": 2,
       "version_minor": 0
      },
      "text/plain": [
       "HBox(children=(HTML(value='Batches'), FloatProgress(value=0.0, max=140.0), HTML(value='')))"
      ]
     },
     "metadata": {},
     "output_type": "display_data"
    },
    {
     "name": "stdout",
     "output_type": "stream",
     "text": [
      "\n"
     ]
    },
    {
     "data": {
      "application/vnd.jupyter.widget-view+json": {
       "model_id": "0a780f9eb49d48159710dec567bffa3e",
       "version_major": 2,
       "version_minor": 0
      },
      "text/plain": [
       "HBox(children=(HTML(value='Batches'), FloatProgress(value=0.0, max=140.0), HTML(value='')))"
      ]
     },
     "metadata": {},
     "output_type": "display_data"
    },
    {
     "name": "stderr",
     "output_type": "stream",
     "text": [
      "2021-10-12 19:22:59 - INFO - __call__ - 103 : Cosine-Similarity :\tPearson: 0.8838\tSpearman: 0.6417\n",
      "2021-10-12 19:22:59 - INFO - __call__ - 105 : Manhattan-Distance:\tPearson: 0.8905\tSpearman: 0.6416\n",
      "2021-10-12 19:22:59 - INFO - __call__ - 107 : Euclidean-Distance:\tPearson: 0.8910\tSpearman: 0.6415\n",
      "2021-10-12 19:22:59 - INFO - __call__ - 109 : Dot-Product-Similarity:\tPearson: 0.8682\tSpearman: 0.6393\n",
      "2021-10-12 19:22:59 - INFO - save - 371 : Save model to /data/nfs14/nfs/aisearch/asr/xhsun/bwbd_recall/tmp\n"
     ]
    },
    {
     "name": "stdout",
     "output_type": "stream",
     "text": [
      "\n"
     ]
    },
    {
     "name": "stderr",
     "output_type": "stream",
     "text": [
      "2021-10-12 19:23:01 - INFO - train - 98 : In epoch 1, training_step 1128, the eval score is 0.6417154089525251, previous eval score is 0.6406801665377398, model has been saved in /data/nfs14/nfs/aisearch/asr/xhsun/bwbd_recall/tmp\n",
      "2021-10-12 19:26:20 - INFO - train - 75 : Epoch : 1, train_step : 1350/11290, loss_value : 0.5339321613311767 \n",
      "2021-10-12 19:33:02 - INFO - train - 75 : Epoch : 1, train_step : 1800/11290, loss_value : 0.512316683795717 \n",
      "2021-10-12 19:39:44 - INFO - train - 75 : Epoch : 1, train_step : 2250/11290, loss_value : 0.5019946877161662 \n",
      "2021-10-12 19:39:50 - INFO - __call__ - 72 : EmbeddingSimilarityEvaluator: Evaluating the model on  dataset in epoch 1 after 1129 steps:\n"
     ]
    },
    {
     "data": {
      "application/vnd.jupyter.widget-view+json": {
       "model_id": "361b7e7375684240a9ce7eee27a99f0f",
       "version_major": 2,
       "version_minor": 0
      },
      "text/plain": [
       "HBox(children=(HTML(value='Batches'), FloatProgress(value=0.0, max=140.0), HTML(value='')))"
      ]
     },
     "metadata": {},
     "output_type": "display_data"
    },
    {
     "name": "stdout",
     "output_type": "stream",
     "text": [
      "\n"
     ]
    },
    {
     "data": {
      "application/vnd.jupyter.widget-view+json": {
       "model_id": "b50b1a7f97eb47899250a8583bea11d6",
       "version_major": 2,
       "version_minor": 0
      },
      "text/plain": [
       "HBox(children=(HTML(value='Batches'), FloatProgress(value=0.0, max=140.0), HTML(value='')))"
      ]
     },
     "metadata": {},
     "output_type": "display_data"
    },
    {
     "name": "stderr",
     "output_type": "stream",
     "text": [
      "2021-10-12 19:40:17 - INFO - __call__ - 103 : Cosine-Similarity :\tPearson: 0.8863\tSpearman: 0.6423\n",
      "2021-10-12 19:40:17 - INFO - __call__ - 105 : Manhattan-Distance:\tPearson: 0.8961\tSpearman: 0.6422\n",
      "2021-10-12 19:40:17 - INFO - __call__ - 107 : Euclidean-Distance:\tPearson: 0.8967\tSpearman: 0.6421\n",
      "2021-10-12 19:40:17 - INFO - __call__ - 109 : Dot-Product-Similarity:\tPearson: 0.8719\tSpearman: 0.6405\n",
      "2021-10-12 19:40:17 - INFO - save - 371 : Save model to /data/nfs14/nfs/aisearch/asr/xhsun/bwbd_recall/tmp\n"
     ]
    },
    {
     "name": "stdout",
     "output_type": "stream",
     "text": [
      "\n"
     ]
    },
    {
     "name": "stderr",
     "output_type": "stream",
     "text": [
      "2021-10-12 19:40:18 - INFO - train - 98 : In epoch 1, training_step 2256, the eval score is 0.6422516102367535, previous eval score is 0.6417154089525251, model has been saved in /data/nfs14/nfs/aisearch/asr/xhsun/bwbd_recall/tmp\n"
     ]
    },
    {
     "name": "stdout",
     "output_type": "stream",
     "text": [
      "\n"
     ]
    },
    {
     "data": {
      "application/vnd.jupyter.widget-view+json": {
       "model_id": "05753c57cd1549a29910703a60b8ae23",
       "version_major": 2,
       "version_minor": 0
      },
      "text/plain": [
       "HBox(children=(HTML(value=''), FloatProgress(value=1.0, bar_style='info', layout=Layout(width='20px'), max=1.0…"
      ]
     },
     "metadata": {},
     "output_type": "display_data"
    },
    {
     "name": "stderr",
     "output_type": "stream",
     "text": [
      "2021-10-12 19:40:20 - INFO - __call__ - 72 : EmbeddingSimilarityEvaluator: Evaluating the model on  dataset in epoch 2 after 1 steps:\n"
     ]
    },
    {
     "data": {
      "application/vnd.jupyter.widget-view+json": {
       "model_id": "719eb84f59254633a3368a9805c407c4",
       "version_major": 2,
       "version_minor": 0
      },
      "text/plain": [
       "HBox(children=(HTML(value='Batches'), FloatProgress(value=0.0, max=140.0), HTML(value='')))"
      ]
     },
     "metadata": {},
     "output_type": "display_data"
    },
    {
     "name": "stdout",
     "output_type": "stream",
     "text": [
      "\n"
     ]
    },
    {
     "data": {
      "application/vnd.jupyter.widget-view+json": {
       "model_id": "b5ba28d0cff34bd4aa81c90a122c35d4",
       "version_major": 2,
       "version_minor": 0
      },
      "text/plain": [
       "HBox(children=(HTML(value='Batches'), FloatProgress(value=0.0, max=140.0), HTML(value='')))"
      ]
     },
     "metadata": {},
     "output_type": "display_data"
    },
    {
     "name": "stderr",
     "output_type": "stream",
     "text": [
      "2021-10-12 19:40:48 - INFO - __call__ - 103 : Cosine-Similarity :\tPearson: 0.8860\tSpearman: 0.6423\n",
      "2021-10-12 19:40:48 - INFO - __call__ - 105 : Manhattan-Distance:\tPearson: 0.8959\tSpearman: 0.6422\n",
      "2021-10-12 19:40:48 - INFO - __call__ - 107 : Euclidean-Distance:\tPearson: 0.8966\tSpearman: 0.6421\n",
      "2021-10-12 19:40:48 - INFO - __call__ - 109 : Dot-Product-Similarity:\tPearson: 0.8715\tSpearman: 0.6405\n",
      "2021-10-12 19:40:48 - INFO - save - 371 : Save model to /data/nfs14/nfs/aisearch/asr/xhsun/bwbd_recall/tmp\n"
     ]
    },
    {
     "name": "stdout",
     "output_type": "stream",
     "text": [
      "\n"
     ]
    },
    {
     "name": "stderr",
     "output_type": "stream",
     "text": [
      "2021-10-12 19:40:50 - INFO - train - 98 : In epoch 2, training_step 0, the eval score is 0.6422547554728177, previous eval score is 0.6422516102367535, model has been saved in /data/nfs14/nfs/aisearch/asr/xhsun/bwbd_recall/tmp\n",
      "2021-10-12 19:47:30 - INFO - train - 75 : Epoch : 2, train_step : 675/11290, loss_value : 0.46857013801733655 \n",
      "2021-10-12 19:54:06 - INFO - train - 75 : Epoch : 2, train_step : 1350/11290, loss_value : 0.4542310949166616 \n",
      "2021-10-12 19:57:30 - INFO - __call__ - 72 : EmbeddingSimilarityEvaluator: Evaluating the model on  dataset in epoch 2 after 565 steps:\n"
     ]
    },
    {
     "data": {
      "application/vnd.jupyter.widget-view+json": {
       "model_id": "b343f9e46f7a4ee39293ac90ba72e421",
       "version_major": 2,
       "version_minor": 0
      },
      "text/plain": [
       "HBox(children=(HTML(value='Batches'), FloatProgress(value=0.0, max=140.0), HTML(value='')))"
      ]
     },
     "metadata": {},
     "output_type": "display_data"
    },
    {
     "name": "stdout",
     "output_type": "stream",
     "text": [
      "\n"
     ]
    },
    {
     "data": {
      "application/vnd.jupyter.widget-view+json": {
       "model_id": "1675ba0dccd143f68241c7817927e28b",
       "version_major": 2,
       "version_minor": 0
      },
      "text/plain": [
       "HBox(children=(HTML(value='Batches'), FloatProgress(value=0.0, max=140.0), HTML(value='')))"
      ]
     },
     "metadata": {},
     "output_type": "display_data"
    },
    {
     "name": "stderr",
     "output_type": "stream",
     "text": [
      "2021-10-12 19:57:57 - INFO - __call__ - 103 : Cosine-Similarity :\tPearson: 0.8900\tSpearman: 0.6423\n",
      "2021-10-12 19:57:57 - INFO - __call__ - 105 : Manhattan-Distance:\tPearson: 0.8943\tSpearman: 0.6422\n",
      "2021-10-12 19:57:57 - INFO - __call__ - 107 : Euclidean-Distance:\tPearson: 0.8952\tSpearman: 0.6422\n",
      "2021-10-12 19:57:57 - INFO - __call__ - 109 : Dot-Product-Similarity:\tPearson: 0.8742\tSpearman: 0.6407\n",
      "2021-10-12 19:57:57 - INFO - save - 371 : Save model to /data/nfs14/nfs/aisearch/asr/xhsun/bwbd_recall/tmp\n"
     ]
    },
    {
     "name": "stdout",
     "output_type": "stream",
     "text": [
      "\n"
     ]
    },
    {
     "name": "stderr",
     "output_type": "stream",
     "text": [
      "2021-10-12 19:57:58 - INFO - train - 98 : In epoch 2, training_step 1692, the eval score is 0.642281198590041, previous eval score is 0.6422547554728177, model has been saved in /data/nfs14/nfs/aisearch/asr/xhsun/bwbd_recall/tmp\n",
      "2021-10-12 20:01:13 - INFO - train - 75 : Epoch : 2, train_step : 2025/11290, loss_value : 0.458108145793279 \n"
     ]
    },
    {
     "name": "stdout",
     "output_type": "stream",
     "text": [
      "\n"
     ]
    },
    {
     "ename": "KeyboardInterrupt",
     "evalue": "",
     "output_type": "error",
     "traceback": [
      "\u001b[0;31m---------------------------------------------------------------------------\u001b[0m",
      "\u001b[0;31mKeyboardInterrupt\u001b[0m                         Traceback (most recent call last)",
      "\u001b[0;32m<ipython-input-34-c853faf0c06b>\u001b[0m in \u001b[0;36m<module>\u001b[0;34m\u001b[0m\n\u001b[0;32m----> 1\u001b[0;31m trainer.train(train_dataloader=train_dataloader,\n\u001b[0m\u001b[1;32m      2\u001b[0m              \u001b[0mmodel\u001b[0m\u001b[0;34m=\u001b[0m\u001b[0msimcse\u001b[0m\u001b[0;34m,\u001b[0m\u001b[0;34m\u001b[0m\u001b[0;34m\u001b[0m\u001b[0m\n\u001b[1;32m      3\u001b[0m              \u001b[0moptimizer\u001b[0m\u001b[0;34m=\u001b[0m\u001b[0moptimizer\u001b[0m\u001b[0;34m,\u001b[0m\u001b[0;34m\u001b[0m\u001b[0;34m\u001b[0m\u001b[0m\n\u001b[1;32m      4\u001b[0m              \u001b[0mscheduler\u001b[0m\u001b[0;34m=\u001b[0m\u001b[0mscheduler\u001b[0m\u001b[0;34m,\u001b[0m\u001b[0;34m\u001b[0m\u001b[0;34m\u001b[0m\u001b[0m\n\u001b[1;32m      5\u001b[0m              \u001b[0mevaluator\u001b[0m\u001b[0;34m=\u001b[0m\u001b[0mevaluator\u001b[0m\u001b[0;34m,\u001b[0m\u001b[0;34m\u001b[0m\u001b[0;34m\u001b[0m\u001b[0m\n",
      "\u001b[0;32m~/NLP_warehouse/nlp-basictasks/nlp_basictasks/Trainer.py\u001b[0m in \u001b[0;36mtrain\u001b[0;34m(self, train_dataloader, model, optimizer, scheduler, evaluator, print_loss_step, evaluation_steps, show_progress_bar)\u001b[0m\n\u001b[1;32m     78\u001b[0m                     \u001b[0mself\u001b[0m\u001b[0;34m.\u001b[0m\u001b[0mtensorboard_writer\u001b[0m\u001b[0;34m.\u001b[0m\u001b[0madd_scalar\u001b[0m\u001b[0;34m(\u001b[0m\u001b[0;34mf\"train_loss\"\u001b[0m\u001b[0;34m,\u001b[0m\u001b[0mloss\u001b[0m\u001b[0;34m.\u001b[0m\u001b[0mitem\u001b[0m\u001b[0;34m(\u001b[0m\u001b[0;34m)\u001b[0m\u001b[0;34m,\u001b[0m\u001b[0mglobal_step\u001b[0m\u001b[0;34m=\u001b[0m\u001b[0mglobal_step\u001b[0m\u001b[0;34m)\u001b[0m\u001b[0;34m\u001b[0m\u001b[0;34m\u001b[0m\u001b[0m\n\u001b[1;32m     79\u001b[0m \u001b[0;34m\u001b[0m\u001b[0m\n\u001b[0;32m---> 80\u001b[0;31m                 \u001b[0mloss\u001b[0m\u001b[0;34m.\u001b[0m\u001b[0mbackward\u001b[0m\u001b[0;34m(\u001b[0m\u001b[0;34m)\u001b[0m\u001b[0;34m\u001b[0m\u001b[0;34m\u001b[0m\u001b[0m\n\u001b[0m\u001b[1;32m     81\u001b[0m                 \u001b[0mtorch\u001b[0m\u001b[0;34m.\u001b[0m\u001b[0mnn\u001b[0m\u001b[0;34m.\u001b[0m\u001b[0mutils\u001b[0m\u001b[0;34m.\u001b[0m\u001b[0mclip_grad_norm_\u001b[0m\u001b[0;34m(\u001b[0m\u001b[0mmodel\u001b[0m\u001b[0;34m.\u001b[0m\u001b[0mparameters\u001b[0m\u001b[0;34m(\u001b[0m\u001b[0;34m)\u001b[0m\u001b[0;34m,\u001b[0m \u001b[0mself\u001b[0m\u001b[0;34m.\u001b[0m\u001b[0mmax_grad_norm\u001b[0m\u001b[0;34m)\u001b[0m\u001b[0;34m\u001b[0m\u001b[0;34m\u001b[0m\u001b[0m\n\u001b[1;32m     82\u001b[0m                 \u001b[0moptimizer\u001b[0m\u001b[0;34m.\u001b[0m\u001b[0mstep\u001b[0m\u001b[0;34m(\u001b[0m\u001b[0;34m)\u001b[0m\u001b[0;34m\u001b[0m\u001b[0;34m\u001b[0m\u001b[0m\n",
      "\u001b[0;32m~/miniconda3/lib/python3.8/site-packages/torch/_tensor.py\u001b[0m in \u001b[0;36mbackward\u001b[0;34m(self, gradient, retain_graph, create_graph, inputs)\u001b[0m\n\u001b[1;32m    253\u001b[0m                 \u001b[0mcreate_graph\u001b[0m\u001b[0;34m=\u001b[0m\u001b[0mcreate_graph\u001b[0m\u001b[0;34m,\u001b[0m\u001b[0;34m\u001b[0m\u001b[0;34m\u001b[0m\u001b[0m\n\u001b[1;32m    254\u001b[0m                 inputs=inputs)\n\u001b[0;32m--> 255\u001b[0;31m         \u001b[0mtorch\u001b[0m\u001b[0;34m.\u001b[0m\u001b[0mautograd\u001b[0m\u001b[0;34m.\u001b[0m\u001b[0mbackward\u001b[0m\u001b[0;34m(\u001b[0m\u001b[0mself\u001b[0m\u001b[0;34m,\u001b[0m \u001b[0mgradient\u001b[0m\u001b[0;34m,\u001b[0m \u001b[0mretain_graph\u001b[0m\u001b[0;34m,\u001b[0m \u001b[0mcreate_graph\u001b[0m\u001b[0;34m,\u001b[0m \u001b[0minputs\u001b[0m\u001b[0;34m=\u001b[0m\u001b[0minputs\u001b[0m\u001b[0;34m)\u001b[0m\u001b[0;34m\u001b[0m\u001b[0;34m\u001b[0m\u001b[0m\n\u001b[0m\u001b[1;32m    256\u001b[0m \u001b[0;34m\u001b[0m\u001b[0m\n\u001b[1;32m    257\u001b[0m     \u001b[0;32mdef\u001b[0m \u001b[0mregister_hook\u001b[0m\u001b[0;34m(\u001b[0m\u001b[0mself\u001b[0m\u001b[0;34m,\u001b[0m \u001b[0mhook\u001b[0m\u001b[0;34m)\u001b[0m\u001b[0;34m:\u001b[0m\u001b[0;34m\u001b[0m\u001b[0;34m\u001b[0m\u001b[0m\n",
      "\u001b[0;32m~/miniconda3/lib/python3.8/site-packages/torch/autograd/__init__.py\u001b[0m in \u001b[0;36mbackward\u001b[0;34m(tensors, grad_tensors, retain_graph, create_graph, grad_variables, inputs)\u001b[0m\n\u001b[1;32m    145\u001b[0m         \u001b[0mretain_graph\u001b[0m \u001b[0;34m=\u001b[0m \u001b[0mcreate_graph\u001b[0m\u001b[0;34m\u001b[0m\u001b[0;34m\u001b[0m\u001b[0m\n\u001b[1;32m    146\u001b[0m \u001b[0;34m\u001b[0m\u001b[0m\n\u001b[0;32m--> 147\u001b[0;31m     Variable._execution_engine.run_backward(\n\u001b[0m\u001b[1;32m    148\u001b[0m         \u001b[0mtensors\u001b[0m\u001b[0;34m,\u001b[0m \u001b[0mgrad_tensors_\u001b[0m\u001b[0;34m,\u001b[0m \u001b[0mretain_graph\u001b[0m\u001b[0;34m,\u001b[0m \u001b[0mcreate_graph\u001b[0m\u001b[0;34m,\u001b[0m \u001b[0minputs\u001b[0m\u001b[0;34m,\u001b[0m\u001b[0;34m\u001b[0m\u001b[0;34m\u001b[0m\u001b[0m\n\u001b[1;32m    149\u001b[0m         allow_unreachable=True, accumulate_grad=True)  # allow_unreachable flag\n",
      "\u001b[0;31mKeyboardInterrupt\u001b[0m: "
     ]
    }
   ],
   "source": [
    "trainer.train(train_dataloader=train_dataloader,\n",
    "             model=simcse,\n",
    "             optimizer=optimizer,\n",
    "             scheduler=scheduler,\n",
    "             evaluator=evaluator,\n",
    "             )"
   ]
  },
  {
   "cell_type": "code",
   "execution_count": 35,
   "id": "89fd640d",
   "metadata": {},
   "outputs": [
    {
     "name": "stderr",
     "output_type": "stream",
     "text": [
      "2021-10-12 20:03:49 - INFO - __call__ - 72 : EmbeddingSimilarityEvaluator: Evaluating the model on  dataset:\n"
     ]
    },
    {
     "data": {
      "application/vnd.jupyter.widget-view+json": {
       "model_id": "0ea77ac35c934851877b96b1d2db4819",
       "version_major": 2,
       "version_minor": 0
      },
      "text/plain": [
       "HBox(children=(HTML(value='Batches'), FloatProgress(value=0.0, max=140.0), HTML(value='')))"
      ]
     },
     "metadata": {},
     "output_type": "display_data"
    },
    {
     "name": "stdout",
     "output_type": "stream",
     "text": [
      "\n"
     ]
    },
    {
     "data": {
      "application/vnd.jupyter.widget-view+json": {
       "model_id": "e6bbaa0a6e2b4945b82d509c60cd5997",
       "version_major": 2,
       "version_minor": 0
      },
      "text/plain": [
       "HBox(children=(HTML(value='Batches'), FloatProgress(value=0.0, max=140.0), HTML(value='')))"
      ]
     },
     "metadata": {},
     "output_type": "display_data"
    },
    {
     "name": "stderr",
     "output_type": "stream",
     "text": [
      "2021-10-12 20:04:16 - INFO - __call__ - 103 : Cosine-Similarity :\tPearson: 0.8917\tSpearman: 0.6424\n",
      "2021-10-12 20:04:16 - INFO - __call__ - 105 : Manhattan-Distance:\tPearson: 0.8935\tSpearman: 0.6421\n",
      "2021-10-12 20:04:16 - INFO - __call__ - 107 : Euclidean-Distance:\tPearson: 0.8943\tSpearman: 0.6421\n",
      "2021-10-12 20:04:16 - INFO - __call__ - 109 : Dot-Product-Similarity:\tPearson: 0.8776\tSpearman: 0.6408\n"
     ]
    },
    {
     "name": "stdout",
     "output_type": "stream",
     "text": [
      "\n"
     ]
    },
    {
     "data": {
      "text/plain": [
       "0.6423636731804672"
      ]
     },
     "execution_count": 35,
     "metadata": {},
     "output_type": "execute_result"
    }
   ],
   "source": [
    "evaluator(model=simcse)"
   ]
  },
  {
   "cell_type": "code",
   "execution_count": null,
   "id": "8dba5ec3",
   "metadata": {},
   "outputs": [],
   "source": []
  },
  {
   "cell_type": "code",
   "execution_count": null,
   "id": "0c2e43a3",
   "metadata": {},
   "outputs": [],
   "source": []
  },
  {
   "cell_type": "code",
   "execution_count": null,
   "id": "722e2d00",
   "metadata": {},
   "outputs": [],
   "source": []
  },
  {
   "cell_type": "code",
   "execution_count": null,
   "id": "03e72647",
   "metadata": {},
   "outputs": [],
   "source": []
  },
  {
   "cell_type": "code",
   "execution_count": null,
   "id": "a40f060c",
   "metadata": {},
   "outputs": [],
   "source": []
  }
 ],
 "metadata": {
  "kernelspec": {
   "display_name": "Python 3",
   "language": "python",
   "name": "python3"
  },
  "language_info": {
   "codemirror_mode": {
    "name": "ipython",
    "version": 3
   },
   "file_extension": ".py",
   "mimetype": "text/x-python",
   "name": "python",
   "nbconvert_exporter": "python",
   "pygments_lexer": "ipython3",
   "version": "3.8.5"
  }
 },
 "nbformat": 4,
 "nbformat_minor": 5
}
